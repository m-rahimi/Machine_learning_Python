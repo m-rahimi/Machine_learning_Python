{
 "cells": [
  {
   "cell_type": "code",
   "execution_count": 1,
   "metadata": {},
   "outputs": [
    {
     "name": "stderr",
     "output_type": "stream",
     "text": [
      "/Users/mrahimi/anaconda3/lib/python3.6/site-packages/sklearn/cross_validation.py:41: DeprecationWarning: This module was deprecated in version 0.18 in favor of the model_selection module into which all the refactored classes and functions are moved. Also note that the interface of the new CV iterators are different from that of this module. This module will be removed in 0.20.\n",
      "  \"This module will be removed in 0.20.\", DeprecationWarning)\n",
      "WARNING (theano.tensor.blas): Using NumPy C-API based implementation for BLAS functions.\n"
     ]
    }
   ],
   "source": [
    "import os\n",
    "\n",
    "from sklearn.datasets import fetch_mldata\n",
    "from sklearn.cross_validation import train_test_split\n",
    "from sklearn.naive_bayes import MultinomialNB\n",
    "\n",
    "from DenoisingAutoencoder import DenoisingAutoencoder\n",
    "from StackedDenoisingAutoencoders import StackedDenoisingAutoencoders"
   ]
  },
  {
   "cell_type": "code",
   "execution_count": 2,
   "metadata": {},
   "outputs": [],
   "source": [
    "#custom_data_home = os.path.join(os.path.split(__file__)[0], \"data\")\n",
    "mnist = fetch_mldata('MNIST original')\n",
    "\n",
    "\n",
    "X, y = mnist.data / 255., mnist.target\n",
    "\n",
    "X_train, X_test, y_train, y_test = train_test_split(\n",
    "    X, y, test_size=0.25, random_state=42)"
   ]
  },
  {
   "cell_type": "code",
   "execution_count": 3,
   "metadata": {},
   "outputs": [
    {
     "data": {
      "text/plain": [
       "(70000, 784)"
      ]
     },
     "execution_count": 3,
     "metadata": {},
     "output_type": "execute_result"
    }
   ],
   "source": [
    "X.shape"
   ]
  },
  {
   "cell_type": "code",
   "execution_count": 4,
   "metadata": {},
   "outputs": [],
   "source": [
    "stacked_ae = StackedDenoisingAutoencoders(hidden_layers_sizes=[400, 200], verbose=True, training_epochs=5)"
   ]
  },
  {
   "cell_type": "code",
   "execution_count": 5,
   "metadata": {},
   "outputs": [
    {
     "name": "stdout",
     "output_type": "stream",
     "text": [
      "Training epoch 0, cost  nan\n",
      "Training epoch 1, cost  nan\n",
      "Training epoch 2, cost  nan\n",
      "Training epoch 3, cost  nan\n",
      "Training epoch 4, cost  nan\n"
     ]
    },
    {
     "name": "stderr",
     "output_type": "stream",
     "text": [
      "The 0% corruption code  ran for 37.39m\n"
     ]
    },
    {
     "name": "stdout",
     "output_type": "stream",
     "text": [
      "Training epoch 0, cost  nan\n",
      "Training epoch 1, cost  nan\n",
      "Training epoch 2, cost  nan\n",
      "Training epoch 3, cost  nan\n",
      "Training epoch 4, cost  nan\n"
     ]
    },
    {
     "name": "stderr",
     "output_type": "stream",
     "text": [
      "The 0% corruption code  ran for 3.99m\n"
     ]
    },
    {
     "name": "stdout",
     "output_type": "stream",
     "text": [
      "The 0% corruption code  ran for 41.40m\n"
     ]
    }
   ],
   "source": [
    "stacked_ae.fit(X_train)"
   ]
  },
  {
   "cell_type": "code",
   "execution_count": 6,
   "metadata": {},
   "outputs": [],
   "source": [
    "X_train_latent = stacked_ae.transform_latent_representation(X_train)\n",
    "X_test_latent = stacked_ae.transform_latent_representation(X_test)"
   ]
  },
  {
   "cell_type": "code",
   "execution_count": 8,
   "metadata": {},
   "outputs": [
    {
     "name": "stdout",
     "output_type": "stream",
     "text": [
      "Accuracy = 84.52571428571429 %\n",
      "Classification Report \n",
      "              precision    recall  f1-score   support\n",
      "\n",
      "          0       0.90      0.91      0.91      1677\n",
      "          1       0.89      0.94      0.91      1935\n",
      "          2       0.84      0.85      0.84      1767\n",
      "          3       0.78      0.84      0.81      1766\n",
      "          4       0.83      0.84      0.84      1691\n",
      "          5       0.81      0.75      0.78      1653\n",
      "          6       0.92      0.88      0.90      1754\n",
      "          7       0.92      0.86      0.89      1846\n",
      "          8       0.79      0.78      0.78      1702\n",
      "          9       0.76      0.78      0.77      1709\n",
      "\n",
      "avg / total       0.85      0.85      0.85     17500\n",
      "\n"
     ]
    }
   ],
   "source": [
    "clf = MultinomialNB()\n",
    "\n",
    "# Fit the model\n",
    "clf.fit(X_train_latent, y_train)\n",
    "\n",
    "# Perform the predictions\n",
    "y_predicted = clf.predict(X_test_latent)\n",
    "\n",
    "\n",
    "from sklearn.metrics import accuracy_score\n",
    "print (\"Accuracy = {} %\".format(accuracy_score(y_test, y_predicted)*100))\n",
    "\n",
    "from sklearn.metrics import classification_report\n",
    "print (\"Classification Report \\n {}\".format(classification_report(y_test, y_predicted, labels=range(0,10))))"
   ]
  },
  {
   "cell_type": "code",
   "execution_count": 9,
   "metadata": {},
   "outputs": [
    {
     "name": "stdout",
     "output_type": "stream",
     "text": [
      "Accuracy = 82.47428571428571 %\n",
      "Classification Report \n",
      "              precision    recall  f1-score   support\n",
      "\n",
      "          0       0.91      0.90      0.91      1677\n",
      "          1       0.88      0.94      0.91      1935\n",
      "          2       0.88      0.83      0.86      1767\n",
      "          3       0.79      0.82      0.80      1766\n",
      "          4       0.82      0.74      0.78      1691\n",
      "          5       0.86      0.65      0.74      1653\n",
      "          6       0.88      0.91      0.89      1754\n",
      "          7       0.95      0.83      0.88      1846\n",
      "          8       0.65      0.78      0.71      1702\n",
      "          9       0.69      0.82      0.75      1709\n",
      "\n",
      "avg / total       0.83      0.82      0.83     17500\n",
      "\n"
     ]
    }
   ],
   "source": [
    "clf = MultinomialNB()\n",
    "\n",
    "# Fit the model\n",
    "clf.fit(X_train, y_train)\n",
    "\n",
    "# Perform the predictions\n",
    "y_predicted = clf.predict(X_test)\n",
    "\n",
    "\n",
    "from sklearn.metrics import accuracy_score\n",
    "print (\"Accuracy = {} %\".format(accuracy_score(y_test, y_predicted)*100))\n",
    "\n",
    "from sklearn.metrics import classification_report\n",
    "print (\"Classification Report \\n {}\".format(classification_report(y_test, y_predicted, labels=range(0,10))))"
   ]
  },
  {
   "cell_type": "code",
   "execution_count": 12,
   "metadata": {},
   "outputs": [
    {
     "data": {
      "text/plain": [
       "(52500, 784)"
      ]
     },
     "execution_count": 12,
     "metadata": {},
     "output_type": "execute_result"
    }
   ],
   "source": [
    "X_train.shape"
   ]
  },
  {
   "cell_type": "code",
   "execution_count": 11,
   "metadata": {},
   "outputs": [
    {
     "data": {
      "text/plain": [
       "(52500, 200)"
      ]
     },
     "execution_count": 11,
     "metadata": {},
     "output_type": "execute_result"
    }
   ],
   "source": [
    "X_train_latent.shape"
   ]
  },
  {
   "cell_type": "code",
   "execution_count": 13,
   "metadata": {},
   "outputs": [
    {
     "data": {
      "text/plain": [
       "(70000, 784)"
      ]
     },
     "execution_count": 13,
     "metadata": {},
     "output_type": "execute_result"
    }
   ],
   "source": [
    "X.shape"
   ]
  },
  {
   "cell_type": "code",
   "execution_count": 14,
   "metadata": {},
   "outputs": [
    {
     "data": {
      "text/plain": [
       "1.0"
      ]
     },
     "execution_count": 14,
     "metadata": {},
     "output_type": "execute_result"
    }
   ],
   "source": [
    "X.max()"
   ]
  },
  {
   "cell_type": "code",
   "execution_count": 15,
   "metadata": {},
   "outputs": [
    {
     "data": {
      "text/plain": [
       "0.0"
      ]
     },
     "execution_count": 15,
     "metadata": {},
     "output_type": "execute_result"
    }
   ],
   "source": [
    "X.min()"
   ]
  },
  {
   "cell_type": "code",
   "execution_count": 22,
   "metadata": {},
   "outputs": [
    {
     "data": {
      "text/plain": [
       "array([  0,   0,   0,   0,   0,   0,   0,   0,   0,   0,   0,   0,   0,\n",
       "         0,   0,   0,   0,   0,   0,   0,   0,   0,   0,   0,   0,   0,\n",
       "         0,   0,   0,   0,   0,   0,   0,   0,   0,   0,   0,   0,   0,\n",
       "         0,   0,   0,   0,   0,   0,   0,   0,   0,   0,   0,   0,   0,\n",
       "         0,   0,   0,   0,   0,   0,   0,   0,   0,   0,   0,   0,   0,\n",
       "         0,   0,   0,   0,   0,   0,   0,   0,   0,   0,   0,   0,   0,\n",
       "         0,   0,   0,   0,   0,   0,   0,   0,   0,   0,   0,   0,   0,\n",
       "         0,   0,   0,   0,   0,   0,   0,   0,   0,   0,   0,   0,   0,\n",
       "         0,   0,   0,   0,   0,   0,   0,   0,   0,   0,   0,   0,   0,\n",
       "         0,   0,   0,   0,   0,   0,   0,   0,   0,   0,   0,   0,  64,\n",
       "       253, 255,  63,   0,   0,   0,   0,   0,   0,   0,   0,   0,   0,\n",
       "         0,   0,   0,   0,   0,   0,   0,   0,   0,   0,   0,   0,   0,\n",
       "        96, 205, 251, 253, 205, 111,   4,   0,   0,   0,   0,   0,   0,\n",
       "         0,   0,   0,   0,   0,   0,   0,   0,   0,   0,   0,   0,   0,\n",
       "         0,  96, 189, 251, 251, 253, 251, 251,  31,   0,   0,   0,   0,\n",
       "         0,   0,   0,   0,   0,   0,   0,   0,   0,   0,   0,   0,   0,\n",
       "        16,  64, 223, 244, 251, 251, 211, 213, 251, 251,  31,   0,   0,\n",
       "         0,   0,   0,   0,   0,   0,   0,   0,   0,   0,   0,   0,   0,\n",
       "         0,  80, 181, 251, 253, 251, 251, 251,  94,  96, 251, 251,  31,\n",
       "         0,   0,   0,   0,   0,   0,   0,   0,   0,   0,   0,   0,   0,\n",
       "         0,   0,  92, 253, 253, 253, 255, 253, 253, 253,  95,  96, 253,\n",
       "       253,  31,   0,   0,   0,   0,   0,   0,   0,   0,   0,   0,   0,\n",
       "         0,   0,   0,  92, 236, 251, 243, 220, 233, 251, 251, 243,  82,\n",
       "        96, 251, 251,  31,   0,   0,   0,   0,   0,   0,   0,   0,   0,\n",
       "         0,   0,   0,   0,  80, 253, 251, 251, 188,   0,  96, 251, 251,\n",
       "       109,   0,  96, 251, 251,  31,   0,   0,   0,   0,   0,   0,   0,\n",
       "         0,   0,   0,   0,   0,  96, 240, 253, 243, 188,  42,   0,  96,\n",
       "       204, 109,   4,   0,  12, 197, 251,  31,   0,   0,   0,   0,   0,\n",
       "         0,   0,   0,   0,   0,   0,   0, 221, 251, 253, 121,   0,   0,\n",
       "         0,  36,  23,   0,   0,   0,   0, 190, 251,  31,   0,   0,   0,\n",
       "         0,   0,   0,   0,   0,   0,   0,   0,  48, 234, 253,   0,   0,\n",
       "         0,   0,   0,   0,   0,   0,   0,   0,   0, 191, 253,  31,   0,\n",
       "         0,   0,   0,   0,   0,   0,   0,   0,   0,  44, 221, 251, 251,\n",
       "         0,   0,   0,   0,   0,   0,   0,   0,   0,   0,  12, 197, 251,\n",
       "        31,   0,   0,   0,   0,   0,   0,   0,   0,   0,   0, 190, 251,\n",
       "       251, 251,   0,   0,   0,   0,   0,   0,   0,   0,   0,   0,  96,\n",
       "       251, 251,  31,   0,   0,   0,   0,   0,   0,   0,   0,   0,   0,\n",
       "       190, 251, 251, 113,   0,   0,   0,   0,   0,   0,   0,   0,   0,\n",
       "        40, 234, 251, 219,  23,   0,   0,   0,   0,   0,   0,   0,   0,\n",
       "         0,   0, 190, 251, 251,  94,   0,   0,   0,   0,   0,   0,   0,\n",
       "         0,  40, 217, 253, 231,  47,   0,   0,   0,   0,   0,   0,   0,\n",
       "         0,   0,   0,   0, 191, 253, 253, 253,   0,   0,   0,   0,   0,\n",
       "         0,  12, 174, 253, 253, 219,  39,   0,   0,   0,   0,   0,   0,\n",
       "         0,   0,   0,   0,   0,   0,  67, 236, 251, 251, 191, 190, 111,\n",
       "        72, 190, 191, 197, 251, 243, 121,  39,   0,   0,   0,   0,   0,\n",
       "         0,   0,   0,   0,   0,   0,   0,   0,   0,  63, 236, 251, 253,\n",
       "       251, 251, 251, 251, 253, 251, 188,  94,   0,   0,   0,   0,   0,\n",
       "         0,   0,   0,   0,   0,   0,   0,   0,   0,   0,   0,   0,  27,\n",
       "       129, 253, 251, 251, 251, 251, 229, 168,  15,   0,   0,   0,   0,\n",
       "         0,   0,   0,   0,   0,   0,   0,   0,   0,   0,   0,   0,   0,\n",
       "         0,   0,   0,  95, 212, 251, 211,  94,  59,   0,   0,   0,   0,\n",
       "         0,   0,   0,   0,   0,   0,   0,   0,   0,   0,   0,   0,   0,\n",
       "         0,   0,   0,   0,   0,   0,   0,   0,   0,   0,   0,   0,   0,\n",
       "         0,   0,   0,   0,   0,   0,   0,   0,   0,   0,   0,   0,   0,\n",
       "         0,   0,   0,   0,   0,   0,   0,   0,   0,   0,   0,   0,   0,\n",
       "         0,   0,   0,   0,   0,   0,   0,   0,   0,   0,   0,   0,   0,\n",
       "         0,   0,   0,   0,   0,   0,   0,   0,   0,   0,   0,   0,   0,\n",
       "         0,   0,   0,   0,   0,   0,   0,   0,   0,   0,   0,   0,   0,\n",
       "         0,   0,   0,   0,   0,   0,   0,   0,   0,   0,   0,   0,   0,\n",
       "         0,   0,   0,   0,   0,   0,   0,   0,   0,   0,   0,   0,   0,\n",
       "         0,   0,   0,   0], dtype=uint8)"
      ]
     },
     "execution_count": 22,
     "metadata": {},
     "output_type": "execute_result"
    }
   ],
   "source": [
    "mnist.data[1]"
   ]
  },
  {
   "cell_type": "code",
   "execution_count": 23,
   "metadata": {},
   "outputs": [
    {
     "data": {
      "text/plain": [
       "array([0., 0., 0., ..., 9., 9., 9.])"
      ]
     },
     "execution_count": 23,
     "metadata": {},
     "output_type": "execute_result"
    }
   ],
   "source": [
    "mnist.target"
   ]
  },
  {
   "cell_type": "code",
   "execution_count": null,
   "metadata": {},
   "outputs": [],
   "source": []
  }
 ],
 "metadata": {
  "kernelspec": {
   "display_name": "Python 3",
   "language": "python",
   "name": "python3"
  },
  "language_info": {
   "codemirror_mode": {
    "name": "ipython",
    "version": 3
   },
   "file_extension": ".py",
   "mimetype": "text/x-python",
   "name": "python",
   "nbconvert_exporter": "python",
   "pygments_lexer": "ipython3",
   "version": "3.6.3"
  }
 },
 "nbformat": 4,
 "nbformat_minor": 2
}
