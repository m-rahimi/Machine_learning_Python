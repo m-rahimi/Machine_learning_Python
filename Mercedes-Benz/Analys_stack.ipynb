{
 "cells": [
  {
   "cell_type": "code",
   "execution_count": 1,
   "metadata": {
    "collapsed": false
   },
   "outputs": [
    {
     "name": "stderr",
     "output_type": "stream",
     "text": [
      "/home/amin/Software/anaconda2/lib/python2.7/site-packages/sklearn/cross_validation.py:44: DeprecationWarning: This module was deprecated in version 0.18 in favor of the model_selection module into which all the refactored classes and functions are moved. Also note that the interface of the new CV iterators are different from that of this module. This module will be removed in 0.20.\n",
      "  \"This module will be removed in 0.20.\", DeprecationWarning)\n"
     ]
    }
   ],
   "source": [
    "import numpy as np # linear algebra\n",
    "import pandas as pd # data processing, CSV file I/O (e.g. pd.read_csv)\n",
    "import matplotlib.pyplot as plt\n",
    "import seaborn as sns\n",
    "from sklearn import preprocessing\n",
    "import xgboost as xgb\n",
    "color = sns.color_palette()\n",
    "\n",
    "%matplotlib inline\n",
    "\n",
    "pd.options.mode.chained_assignment = None  # default='warn'\n",
    "pd.options.display.max_columns = 999"
   ]
  },
  {
   "cell_type": "code",
   "execution_count": 2,
   "metadata": {
    "collapsed": true
   },
   "outputs": [],
   "source": [
    "train = pd.read_csv(\"clean_train2.csv\")\n",
    "El = pd.read_csv(\"clean_train_El1.csv\")\n",
    "xgb = pd.read_csv(\"clean_train_Xgb.csv\")\n",
    "lgb = pd.read_csv(\"clean_train_Lgb.csv\")\n",
    "rf  = pd.read_csv(\"clean_train_Rf.csv\")\n",
    "ada = pd.read_csv(\"clean_train_Ada.csv\")\n",
    "gbm = pd.read_csv(\"clean_train_Gbm.csv\")\n",
    "nnt = pd.read_csv(\"clean_train_Keras.csv\")"
   ]
  },
  {
   "cell_type": "code",
   "execution_count": 3,
   "metadata": {
    "collapsed": true
   },
   "outputs": [],
   "source": [
    "stack = El[[\"ID\", \"El1\"]]\n",
    "stack[\"xgb\"] = xgb.Xgboost\n",
    "stack[\"lgb\"] = lgb.Lgb\n",
    "stack[\"rf\"] = rf.Rf\n",
    "stack[\"ada\"] = ada.Ada\n",
    "stack[\"gbm\"] = gbm.Gbm\n",
    "stack[\"nnt\"] = nnt.Keras"
   ]
  },
  {
   "cell_type": "code",
   "execution_count": 4,
   "metadata": {
    "collapsed": false
   },
   "outputs": [
    {
     "data": {
      "text/plain": [
       "(3693, 8)"
      ]
     },
     "execution_count": 4,
     "metadata": {},
     "output_type": "execute_result"
    }
   ],
   "source": [
    "stack.shape"
   ]
  },
  {
   "cell_type": "code",
   "execution_count": 5,
   "metadata": {
    "collapsed": true
   },
   "outputs": [],
   "source": [
    "for ii in [\"El1\", \"xgb\", \"lgb\", \"rf\", \"ada\", \"gbm\", \"nnt\"]:\n",
    "    stack[ii] = (stack[ii] - train[\"y\"])**2"
   ]
  },
  {
   "cell_type": "code",
   "execution_count": 6,
   "metadata": {
    "collapsed": false
   },
   "outputs": [
    {
     "data": {
      "text/html": [
       "<div>\n",
       "<table border=\"1\" class=\"dataframe\">\n",
       "  <thead>\n",
       "    <tr style=\"text-align: right;\">\n",
       "      <th></th>\n",
       "      <th>ID</th>\n",
       "      <th>El1</th>\n",
       "      <th>xgb</th>\n",
       "      <th>lgb</th>\n",
       "      <th>rf</th>\n",
       "      <th>ada</th>\n",
       "      <th>gbm</th>\n",
       "      <th>nnt</th>\n",
       "    </tr>\n",
       "  </thead>\n",
       "  <tbody>\n",
       "    <tr>\n",
       "      <th>count</th>\n",
       "      <td>3693.000000</td>\n",
       "      <td>3693.000000</td>\n",
       "      <td>3693.000000</td>\n",
       "      <td>3693.000000</td>\n",
       "      <td>3.693000e+03</td>\n",
       "      <td>3.693000e+03</td>\n",
       "      <td>3693.000000</td>\n",
       "      <td>3.693000e+03</td>\n",
       "    </tr>\n",
       "    <tr>\n",
       "      <th>mean</th>\n",
       "      <td>4225.135662</td>\n",
       "      <td>63.698787</td>\n",
       "      <td>65.509376</td>\n",
       "      <td>62.637026</td>\n",
       "      <td>6.418919e+01</td>\n",
       "      <td>6.542081e+01</td>\n",
       "      <td>64.711434</td>\n",
       "      <td>8.748915e+01</td>\n",
       "    </tr>\n",
       "    <tr>\n",
       "      <th>std</th>\n",
       "      <td>2418.940068</td>\n",
       "      <td>223.903201</td>\n",
       "      <td>245.567931</td>\n",
       "      <td>222.398322</td>\n",
       "      <td>2.266590e+02</td>\n",
       "      <td>2.079587e+02</td>\n",
       "      <td>227.031917</td>\n",
       "      <td>2.353458e+02</td>\n",
       "    </tr>\n",
       "    <tr>\n",
       "      <th>min</th>\n",
       "      <td>0.000000</td>\n",
       "      <td>0.000010</td>\n",
       "      <td>0.000001</td>\n",
       "      <td>0.000020</td>\n",
       "      <td>1.199025e-12</td>\n",
       "      <td>1.322314e-07</td>\n",
       "      <td>0.000001</td>\n",
       "      <td>3.025867e-08</td>\n",
       "    </tr>\n",
       "    <tr>\n",
       "      <th>25%</th>\n",
       "      <td>2163.000000</td>\n",
       "      <td>4.077497</td>\n",
       "      <td>2.069913</td>\n",
       "      <td>4.597682</td>\n",
       "      <td>4.727983e+00</td>\n",
       "      <td>7.428348e+00</td>\n",
       "      <td>4.917228</td>\n",
       "      <td>6.479164e+00</td>\n",
       "    </tr>\n",
       "    <tr>\n",
       "      <th>50%</th>\n",
       "      <td>4220.000000</td>\n",
       "      <td>15.327565</td>\n",
       "      <td>9.272540</td>\n",
       "      <td>15.384626</td>\n",
       "      <td>1.665751e+01</td>\n",
       "      <td>2.466305e+01</td>\n",
       "      <td>17.440279</td>\n",
       "      <td>2.597177e+01</td>\n",
       "    </tr>\n",
       "    <tr>\n",
       "      <th>75%</th>\n",
       "      <td>6318.000000</td>\n",
       "      <td>41.690706</td>\n",
       "      <td>27.707954</td>\n",
       "      <td>38.119144</td>\n",
       "      <td>4.017311e+01</td>\n",
       "      <td>5.165485e+01</td>\n",
       "      <td>40.744589</td>\n",
       "      <td>7.755376e+01</td>\n",
       "    </tr>\n",
       "    <tr>\n",
       "      <th>max</th>\n",
       "      <td>8417.000000</td>\n",
       "      <td>5345.540580</td>\n",
       "      <td>5658.983363</td>\n",
       "      <td>5371.249976</td>\n",
       "      <td>4.994550e+03</td>\n",
       "      <td>5.118374e+03</td>\n",
       "      <td>5290.380904</td>\n",
       "      <td>4.738912e+03</td>\n",
       "    </tr>\n",
       "  </tbody>\n",
       "</table>\n",
       "</div>"
      ],
      "text/plain": [
       "                ID          El1          xgb          lgb            rf  \\\n",
       "count  3693.000000  3693.000000  3693.000000  3693.000000  3.693000e+03   \n",
       "mean   4225.135662    63.698787    65.509376    62.637026  6.418919e+01   \n",
       "std    2418.940068   223.903201   245.567931   222.398322  2.266590e+02   \n",
       "min       0.000000     0.000010     0.000001     0.000020  1.199025e-12   \n",
       "25%    2163.000000     4.077497     2.069913     4.597682  4.727983e+00   \n",
       "50%    4220.000000    15.327565     9.272540    15.384626  1.665751e+01   \n",
       "75%    6318.000000    41.690706    27.707954    38.119144  4.017311e+01   \n",
       "max    8417.000000  5345.540580  5658.983363  5371.249976  4.994550e+03   \n",
       "\n",
       "                ada          gbm           nnt  \n",
       "count  3.693000e+03  3693.000000  3.693000e+03  \n",
       "mean   6.542081e+01    64.711434  8.748915e+01  \n",
       "std    2.079587e+02   227.031917  2.353458e+02  \n",
       "min    1.322314e-07     0.000001  3.025867e-08  \n",
       "25%    7.428348e+00     4.917228  6.479164e+00  \n",
       "50%    2.466305e+01    17.440279  2.597177e+01  \n",
       "75%    5.165485e+01    40.744589  7.755376e+01  \n",
       "max    5.118374e+03  5290.380904  4.738912e+03  "
      ]
     },
     "execution_count": 6,
     "metadata": {},
     "output_type": "execute_result"
    }
   ],
   "source": [
    "stack.describe()"
   ]
  },
  {
   "cell_type": "code",
   "execution_count": null,
   "metadata": {
    "collapsed": true
   },
   "outputs": [],
   "source": []
  }
 ],
 "metadata": {
  "kernelspec": {
   "display_name": "Python [conda root]",
   "language": "python",
   "name": "conda-root-py"
  },
  "language_info": {
   "codemirror_mode": {
    "name": "ipython",
    "version": 2
   },
   "file_extension": ".py",
   "mimetype": "text/x-python",
   "name": "python",
   "nbconvert_exporter": "python",
   "pygments_lexer": "ipython2",
   "version": "2.7.12"
  }
 },
 "nbformat": 4,
 "nbformat_minor": 1
}
