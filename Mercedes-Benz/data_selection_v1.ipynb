{
 "cells": [
  {
   "cell_type": "code",
   "execution_count": 54,
   "metadata": {
    "collapsed": true
   },
   "outputs": [],
   "source": [
    "import numpy as np # linear algebra\n",
    "import pandas as pd # data processing, CSV file I/O (e.g. pd.read_csv)\n",
    "\n",
    "from mlxtend.feature_selection import SequentialFeatureSelector as SFS\n",
    "\n",
    "from sklearn.linear_model import LinearRegression\n",
    "from sklearn.pipeline import make_pipeline\n",
    "from sklearn.preprocessing import LabelEncoder, OneHotEncoder\n",
    "from sklearn.feature_extraction import DictVectorizer\n",
    "\n",
    "import matplotlib.pyplot as plt\n",
    "import seaborn as sns\n",
    "%matplotlib inline"
   ]
  },
  {
   "cell_type": "code",
   "execution_count": 2,
   "metadata": {
    "collapsed": true
   },
   "outputs": [],
   "source": [
    "# read datasets\n",
    "train = pd.read_csv('train.csv')\n",
    "test = pd.read_csv('test.csv')"
   ]
  },
  {
   "cell_type": "code",
   "execution_count": 3,
   "metadata": {
    "collapsed": false
   },
   "outputs": [
    {
     "name": "stdout",
     "output_type": "stream",
     "text": [
      "('Train shape : ', (4209, 366))\n"
     ]
    }
   ],
   "source": [
    "# drop columns with unique value in train\n",
    "for k in train.keys():\n",
    "    if len(train[k].unique()) == 1:\n",
    "        train.pop(k)\n",
    "        test.pop(k)\n",
    "print(\"Train shape : \", train.shape)"
   ]
  },
  {
   "cell_type": "code",
   "execution_count": 4,
   "metadata": {
    "collapsed": false
   },
   "outputs": [
    {
     "name": "stdout",
     "output_type": "stream",
     "text": [
      "('Train shape : ', (4208, 366))\n"
     ]
    }
   ],
   "source": [
    "# drop the outliers\n",
    "index = train.y.values < 250\n",
    "train = train[index]\n",
    "print(\"Train shape : \", train.shape)"
   ]
  },
  {
   "cell_type": "code",
   "execution_count": 5,
   "metadata": {
    "collapsed": false
   },
   "outputs": [
    {
     "name": "stdout",
     "output_type": "stream",
     "text": [
      "('X shape : ', (8417, 365))\n"
     ]
    }
   ],
   "source": [
    "y = train[\"y\"]\n",
    "train = train.drop(\"y\", axis=1)\n",
    "X = pd.concat([train, test], axis=0)\n",
    "num_train = train.shape[0]\n",
    "print(\"X shape : \", X.shape)"
   ]
  },
  {
   "cell_type": "code",
   "execution_count": 6,
   "metadata": {
    "collapsed": false
   },
   "outputs": [
    {
     "name": "stdout",
     "output_type": "stream",
     "text": [
      "('X_dv shape : ', (8417, 568))\n"
     ]
    }
   ],
   "source": [
    "dv = DictVectorizer()\n",
    "X_dv = dv.fit_transform(X.to_dict(orient = 'records')).toarray()\n",
    "print(\"X_dv shape : \", X_dv.shape)"
   ]
  },
  {
   "cell_type": "code",
   "execution_count": 10,
   "metadata": {
    "collapsed": false
   },
   "outputs": [
    {
     "data": {
      "text/plain": [
       "SequentialFeatureSelector(clone_estimator=True, cv=5,\n",
       "             estimator=LinearRegression(copy_X=True, fit_intercept=True, n_jobs=1, normalize=False),\n",
       "             floating=False, forward=True, k_features=50, n_jobs=1,\n",
       "             pre_dispatch='2*n_jobs', scoring='r2', skip_if_stuck=True,\n",
       "             verbose=0)"
      ]
     },
     "execution_count": 10,
     "metadata": {},
     "output_type": "execute_result"
    }
   ],
   "source": [
    "sfs = SFS(LinearRegression(),\n",
    "              k_features=50,\n",
    "              forward=True,\n",
    "              floating=False,\n",
    "              verbose=0,\n",
    "              scoring='r2',\n",
    "#              n_jobs=6,\n",
    "              cv=5)\n",
    "sfs.fit(X_dv[:num_train], y)"
   ]
  },
  {
   "cell_type": "code",
   "execution_count": 12,
   "metadata": {
    "collapsed": false
   },
   "outputs": [
    {
     "name": "stdout",
     "output_type": "stream",
     "text": [
      "0.608882005172\n",
      "(129, 514, 534, 519, 10, 13, 271, 22, 24, 30, 31, 35, 422, 552, 42, 455, 45, 221, 287, 49, 179, 542, 443, 189, 53, 192, 352, 435, 71, 72, 336, 7, 15, 92, 349, 479, 480, 353, 327, 484, 294, 232, 489, 107, 488, 244, 120, 506, 125, 511)\n",
      "('sfs_df shape : ', (8417, 50))\n"
     ]
    }
   ],
   "source": [
    "print sfs.k_score_\n",
    "col_index = sfs.k_feature_idx_\n",
    "print col_index\n",
    "sfs_df = X_dv[:,col_index]\n",
    "print(\"sfs_df shape : \", sfs_df.shape)"
   ]
  },
  {
   "cell_type": "code",
   "execution_count": 13,
   "metadata": {
    "collapsed": false
   },
   "outputs": [],
   "source": [
    "##Add decomposed components: PCA / ICA etc.\n",
    "from sklearn.decomposition import PCA, FastICA\n",
    "n_comp = 10\n",
    "\n",
    "# PCA\n",
    "pca = PCA(n_components=n_comp, random_state=123)\n",
    "pca_df = pca.fit_transform(X_dv)\n",
    "\n",
    "# ICA\n",
    "ica = FastICA(n_components=n_comp, random_state=321)\n",
    "ica_df = ica.fit_transform(X_dv)   "
   ]
  },
  {
   "cell_type": "code",
   "execution_count": 14,
   "metadata": {
    "collapsed": false
   },
   "outputs": [
    {
     "name": "stdout",
     "output_type": "stream",
     "text": [
      "('tsne_df shape : ', (8417, 3))\n"
     ]
    }
   ],
   "source": [
    "from sklearn.manifold import TSNE\n",
    "tsne = TSNE(n_components=3)\n",
    "tsne_df = tsne.fit_transform(X_dv)\n",
    "print(\"tsne_df shape : \", tsne_df.shape)"
   ]
  },
  {
   "cell_type": "code",
   "execution_count": 15,
   "metadata": {
    "collapsed": false
   },
   "outputs": [
    {
     "name": "stdout",
     "output_type": "stream",
     "text": [
      "('stack_df shape : ', (8417, 73))\n"
     ]
    }
   ],
   "source": [
    "stack_df = np.column_stack((sfs_df, pca_df, ica_df, tsne_df))\n",
    "print(\"stack_df shape : \", stack_df.shape)"
   ]
  },
  {
   "cell_type": "code",
   "execution_count": 23,
   "metadata": {
    "collapsed": true
   },
   "outputs": [],
   "source": [
    "lr = LinearRegression()\n",
    "lr.fit(sfs_df[:num_train], y)\n",
    "pred = lr.predict(sfs_df[num_train:])"
   ]
  },
  {
   "cell_type": "code",
   "execution_count": 28,
   "metadata": {
    "collapsed": false
   },
   "outputs": [],
   "source": [
    "out = pd.DataFrame({'ID': test.ID, 'y': pred})\n",
    "out.to_csv('lr_sfs50cv5.csv', index=False)\n",
    "#out.head(20)"
   ]
  },
  {
   "cell_type": "code",
   "execution_count": 26,
   "metadata": {
    "collapsed": false
   },
   "outputs": [],
   "source": [
    "lr = LinearRegression()\n",
    "lr.fit(stack_df[:num_train], y)\n",
    "pred = lr.predict(stack_df[num_train:])"
   ]
  },
  {
   "cell_type": "code",
   "execution_count": 29,
   "metadata": {
    "collapsed": false
   },
   "outputs": [],
   "source": [
    "out = pd.DataFrame({'ID': test.ID, 'y': pred})\n",
    "out.to_csv('lr_sfs50cv5_pca_ica_tnse.csv', index=False)\n",
    "#out.head(20)"
   ]
  },
  {
   "cell_type": "code",
   "execution_count": 78,
   "metadata": {
    "collapsed": false
   },
   "outputs": [
    {
     "name": "stdout",
     "output_type": "stream",
     "text": [
      "[0]\ttrain-r2:64.3819\ttest-r2:64.5988\n",
      "[100]\ttrain-r2:23.2871\ttest-r2:23.367\n",
      "[200]\ttrain-r2:8.18412\ttest-r2:8.21491\n",
      "[300]\ttrain-r2:2.62986\ttest-r2:2.64644\n",
      "[400]\ttrain-r2:0.579728\ttest-r2:0.599538\n",
      "[500]\ttrain-r2:-0.180715\ttest-r2:-0.154318\n",
      "[600]\ttrain-r2:-0.466141\ttest-r2:-0.43069\n",
      "[700]\ttrain-r2:-0.577475\ttest-r2:-0.531662\n",
      "[800]\ttrain-r2:-0.623168\ttest-r2:-0.568157\n",
      "[900]\ttrain-r2:-0.644398\ttest-r2:-0.580898\n",
      "[1000]\ttrain-r2:-0.656651\ttest-r2:-0.584588\n",
      "[1100]\ttrain-r2:-0.665\ttest-r2:-0.585179\n"
     ]
    }
   ],
   "source": [
    "from sklearn.metrics import r2_score\n",
    "import xgboost as xgb\n",
    "from scipy.sparse import csr_matrix\n",
    "\n",
    "def xgb_r2(preds, dtrain):\n",
    "    labels = dtrain.get_label()\n",
    "    return 'r2', -r2_score(labels, preds) # \n",
    "\n",
    "# form DMatrices for Xgboost training\n",
    "dtrain = xgb.DMatrix(csr_matrix(stack_df[:num_train]), label=np.array(y))\n",
    "dtest = xgb.DMatrix(csr_matrix(stack_df[num_train:]))\n",
    "\n",
    "# prepare dict of params for xgboost to run with\n",
    "xgb_params = {\n",
    "    'eta': 0.005,\n",
    "    'max_depth': 4,\n",
    "    'objective': 'reg:linear'\n",
    "}\n",
    "\n",
    "cv_result = xgb.cv(xgb_params, \n",
    "                   dtrain, \n",
    "                   num_boost_round=2000, # increase to have better results (~700)\n",
    "                   early_stopping_rounds=20,\n",
    "                   feval=xgb_r2,\n",
    "                   verbose_eval=100, \n",
    "                   nfold=5,\n",
    "                   show_stdv=False\n",
    "                  )"
   ]
  },
  {
   "cell_type": "code",
   "execution_count": 79,
   "metadata": {
    "collapsed": false
   },
   "outputs": [
    {
     "name": "stdout",
     "output_type": "stream",
     "text": [
      "1086\n"
     ]
    },
    {
     "data": {
      "image/png": "[encoded data removed]",
      "text/plain": [
       "<matplotlib.figure.Figure at 0x7f694b098210>"
      ]
     },
     "metadata": {},
     "output_type": "display_data"
    }
   ],
   "source": [
    "cv_result[['train-r2-mean', 'test-r2-mean']].plot()\n",
    "\n",
    "num_boost_rounds = len(cv_result)\n",
    "print(num_boost_rounds)"
   ]
  },
  {
   "cell_type": "code",
   "execution_count": 80,
   "metadata": {
    "collapsed": false
   },
   "outputs": [
    {
     "data": {
      "text/plain": [
       "<matplotlib.figure.Figure at 0x7f6931231610>"
      ]
     },
     "metadata": {},
     "output_type": "display_data"
    },
    {
     "data": {
      "image/png": "[encoded data removed]",
      "text/plain": [
       "<matplotlib.figure.Figure at 0x7f6931243650>"
      ]
     },
     "metadata": {},
     "output_type": "display_data"
    }
   ],
   "source": [
    "model = xgb.train(xgb_params, dtrain, num_boost_round=num_boost_rounds)\n",
    "\n",
    "import operator\n",
    "importance = model.get_score()\n",
    "importance = sorted(importance.items(), key=operator.itemgetter(1))\n",
    "\n",
    "df = pd.DataFrame(importance, columns=['feature', 'fscore'])\n",
    "df['fscore'] = df['fscore'] / df['fscore'].sum()\n",
    "\n",
    "plt.figure()\n",
    "df[-20:].plot(kind='barh', x='feature', y='fscore', legend=False, figsize=(10, 5))\n",
    "plt.title('XGBoost Feature Importance')\n",
    "plt.xlabel('relative importance')\n",
    "plt.show()"
   ]
  },
  {
   "cell_type": "code",
   "execution_count": 81,
   "metadata": {
    "collapsed": false
   },
   "outputs": [
    {
     "data": {
      "text/plain": [
       "('r2', -0.65842686143254592)"
      ]
     },
     "execution_count": 81,
     "metadata": {},
     "output_type": "execute_result"
    }
   ],
   "source": [
    "xgb_r2(model.predict(dtrain), dtrain)"
   ]
  },
  {
   "cell_type": "code",
   "execution_count": 82,
   "metadata": {
    "collapsed": true
   },
   "outputs": [],
   "source": [
    "# make predictions and save results\n",
    "y_pred = model.predict(dtest)\n",
    "\n",
    "output = pd.DataFrame({'id': test['ID'].astype(np.int32), 'y': y_pred})\n",
    "output.to_csv('xgb_sfs50cv5_pca_ica_tnse.csv', index=False)"
   ]
  },
  {
   "cell_type": "code",
   "execution_count": 85,
   "metadata": {
    "collapsed": false
   },
   "outputs": [
    {
     "name": "stdout",
     "output_type": "stream",
     "text": [
      "(8417, 74)\n"
     ]
    }
   ],
   "source": [
    "stack_ID = np.column_stack((stack_df, np.array(X[\"ID\"])))\n",
    "print stack_ID.shape"
   ]
  },
  {
   "cell_type": "code",
   "execution_count": 86,
   "metadata": {
    "collapsed": false
   },
   "outputs": [
    {
     "name": "stdout",
     "output_type": "stream",
     "text": [
      "[0]\ttrain-r2:64.3819\ttest-r2:64.5988\n",
      "[100]\ttrain-r2:23.2871\ttest-r2:23.367\n",
      "[200]\ttrain-r2:8.18412\ttest-r2:8.21491\n",
      "[300]\ttrain-r2:2.62986\ttest-r2:2.64644\n",
      "[400]\ttrain-r2:0.579719\ttest-r2:0.599596\n",
      "[500]\ttrain-r2:-0.180756\ttest-r2:-0.154303\n",
      "[600]\ttrain-r2:-0.466307\ttest-r2:-0.430565\n",
      "[700]\ttrain-r2:-0.577453\ttest-r2:-0.531756\n",
      "[800]\ttrain-r2:-0.622966\ttest-r2:-0.568425\n",
      "[900]\ttrain-r2:-0.644188\ttest-r2:-0.581276\n",
      "[1000]\ttrain-r2:-0.656198\ttest-r2:-0.585008\n",
      "[1100]\ttrain-r2:-0.664686\ttest-r2:-0.585736\n"
     ]
    }
   ],
   "source": [
    "# form DMatrices for Xgboost training\n",
    "dtrain = xgb.DMatrix(csr_matrix(stack_ID[:num_train]), label=np.array(y))\n",
    "dtest = xgb.DMatrix(csr_matrix(stack_ID[num_train:]))\n",
    "\n",
    "# prepare dict of params for xgboost to run with\n",
    "xgb_params = {\n",
    "    'eta': 0.005,\n",
    "    'max_depth': 4,\n",
    "    'objective': 'reg:linear'\n",
    "}\n",
    "\n",
    "cv_result = xgb.cv(xgb_params, \n",
    "                   dtrain, \n",
    "                   num_boost_round=2000, # increase to have better results (~700)\n",
    "                   early_stopping_rounds=20,\n",
    "                   feval=xgb_r2,\n",
    "                   verbose_eval=100, \n",
    "                   nfold=5,\n",
    "                   show_stdv=False\n",
    "                  )"
   ]
  },
  {
   "cell_type": "code",
   "execution_count": 87,
   "metadata": {
    "collapsed": false
   },
   "outputs": [
    {
     "name": "stdout",
     "output_type": "stream",
     "text": [
      "1096\n"
     ]
    },
    {
     "data": {
      "image/png": "[encoded data removed]",
      "text/plain": [
       "<matplotlib.figure.Figure at 0x7f69339f1d10>"
      ]
     },
     "metadata": {},
     "output_type": "display_data"
    }
   ],
   "source": [
    "cv_result[['train-r2-mean', 'test-r2-mean']].plot()\n",
    "\n",
    "num_boost_rounds = len(cv_result)\n",
    "print(num_boost_rounds)"
   ]
  },
  {
   "cell_type": "code",
   "execution_count": 88,
   "metadata": {
    "collapsed": false
   },
   "outputs": [
    {
     "data": {
      "text/plain": [
       "<matplotlib.figure.Figure at 0x7f6931299c50>"
      ]
     },
     "metadata": {},
     "output_type": "display_data"
    },
    {
     "data": {
      "image/png": "[encoded data removed]",
      "text/plain": [
       "<matplotlib.figure.Figure at 0x7f6931347dd0>"
      ]
     },
     "metadata": {},
     "output_type": "display_data"
    }
   ],
   "source": [
    "model = xgb.train(xgb_params, dtrain, num_boost_round=num_boost_rounds)\n",
    "\n",
    "import operator\n",
    "importance = model.get_score()\n",
    "importance = sorted(importance.items(), key=operator.itemgetter(1))\n",
    "\n",
    "df = pd.DataFrame(importance, columns=['feature', 'fscore'])\n",
    "df['fscore'] = df['fscore'] / df['fscore'].sum()\n",
    "\n",
    "plt.figure()\n",
    "df[-20:].plot(kind='barh', x='feature', y='fscore', legend=False, figsize=(10, 5))\n",
    "plt.title('XGBoost Feature Importance')\n",
    "plt.xlabel('relative importance')\n",
    "plt.show()"
   ]
  },
  {
   "cell_type": "code",
   "execution_count": 89,
   "metadata": {
    "collapsed": false
   },
   "outputs": [
    {
     "data": {
      "text/plain": [
       "('r2', -0.65681133341681963)"
      ]
     },
     "execution_count": 89,
     "metadata": {},
     "output_type": "execute_result"
    }
   ],
   "source": [
    "xgb_r2(model.predict(dtrain), dtrain)"
   ]
  },
  {
   "cell_type": "code",
   "execution_count": 90,
   "metadata": {
    "collapsed": true
   },
   "outputs": [],
   "source": [
    "# make predictions and save results\n",
    "y_pred = model.predict(dtest)\n",
    "\n",
    "output = pd.DataFrame({'id': test['ID'].astype(np.int32), 'y': y_pred})\n",
    "output.to_csv('xgb_sfs50cv5_pca_ica_tnse_ID.csv', index=False)"
   ]
  },
  {
   "cell_type": "code",
   "execution_count": 91,
   "metadata": {
    "collapsed": true
   },
   "outputs": [],
   "source": [
    "xgb1 = pd.read_csv('xgb_sfs50cv5_pca_ica_tnse.csv')\n",
    "xgb2 = pd.read_csv('xgb_sfs50cv5_pca_ica_tnse_ID.csv')\n",
    "\n",
    "xgb2['y'] = xgb2.y * 0.5 + xgb1.y * 0.5\n",
    "xgb2.to_csv('mix.csv', index=False)"
   ]
  },
  {
   "cell_type": "code",
   "execution_count": 92,
   "metadata": {
    "collapsed": false
   },
   "outputs": [
    {
     "data": {
      "text/html": [
       "<div>\n",
       "<table border=\"1\" class=\"dataframe\">\n",
       "  <thead>\n",
       "    <tr style=\"text-align: right;\">\n",
       "      <th></th>\n",
       "      <th>id</th>\n",
       "      <th>y</th>\n",
       "    </tr>\n",
       "  </thead>\n",
       "  <tbody>\n",
       "    <tr>\n",
       "      <th>count</th>\n",
       "      <td>4209.000000</td>\n",
       "      <td>4209.000000</td>\n",
       "    </tr>\n",
       "    <tr>\n",
       "      <th>mean</th>\n",
       "      <td>4211.039202</td>\n",
       "      <td>100.499302</td>\n",
       "    </tr>\n",
       "    <tr>\n",
       "      <th>std</th>\n",
       "      <td>2423.078926</td>\n",
       "      <td>9.324810</td>\n",
       "    </tr>\n",
       "    <tr>\n",
       "      <th>min</th>\n",
       "      <td>1.000000</td>\n",
       "      <td>76.904465</td>\n",
       "    </tr>\n",
       "    <tr>\n",
       "      <th>25%</th>\n",
       "      <td>2115.000000</td>\n",
       "      <td>93.796295</td>\n",
       "    </tr>\n",
       "    <tr>\n",
       "      <th>50%</th>\n",
       "      <td>4202.000000</td>\n",
       "      <td>95.147209</td>\n",
       "    </tr>\n",
       "    <tr>\n",
       "      <th>75%</th>\n",
       "      <td>6310.000000</td>\n",
       "      <td>110.972260</td>\n",
       "    </tr>\n",
       "    <tr>\n",
       "      <th>max</th>\n",
       "      <td>8416.000000</td>\n",
       "      <td>121.830994</td>\n",
       "    </tr>\n",
       "  </tbody>\n",
       "</table>\n",
       "</div>"
      ],
      "text/plain": [
       "                id            y\n",
       "count  4209.000000  4209.000000\n",
       "mean   4211.039202   100.499302\n",
       "std    2423.078926     9.324810\n",
       "min       1.000000    76.904465\n",
       "25%    2115.000000    93.796295\n",
       "50%    4202.000000    95.147209\n",
       "75%    6310.000000   110.972260\n",
       "max    8416.000000   121.830994"
      ]
     },
     "execution_count": 92,
     "metadata": {},
     "output_type": "execute_result"
    }
   ],
   "source": [
    "xgb1.describe()"
   ]
  },
  {
   "cell_type": "code",
   "execution_count": 93,
   "metadata": {
    "collapsed": false
   },
   "outputs": [
    {
     "data": {
      "text/html": [
       "<div>\n",
       "<table border=\"1\" class=\"dataframe\">\n",
       "  <thead>\n",
       "    <tr style=\"text-align: right;\">\n",
       "      <th></th>\n",
       "      <th>id</th>\n",
       "      <th>y</th>\n",
       "    </tr>\n",
       "  </thead>\n",
       "  <tbody>\n",
       "    <tr>\n",
       "      <th>count</th>\n",
       "      <td>4209.000000</td>\n",
       "      <td>4209.000000</td>\n",
       "    </tr>\n",
       "    <tr>\n",
       "      <th>mean</th>\n",
       "      <td>4211.039202</td>\n",
       "      <td>100.502813</td>\n",
       "    </tr>\n",
       "    <tr>\n",
       "      <th>std</th>\n",
       "      <td>2423.078926</td>\n",
       "      <td>9.325562</td>\n",
       "    </tr>\n",
       "    <tr>\n",
       "      <th>min</th>\n",
       "      <td>1.000000</td>\n",
       "      <td>76.880051</td>\n",
       "    </tr>\n",
       "    <tr>\n",
       "      <th>25%</th>\n",
       "      <td>2115.000000</td>\n",
       "      <td>93.804768</td>\n",
       "    </tr>\n",
       "    <tr>\n",
       "      <th>50%</th>\n",
       "      <td>4202.000000</td>\n",
       "      <td>95.070404</td>\n",
       "    </tr>\n",
       "    <tr>\n",
       "      <th>75%</th>\n",
       "      <td>6310.000000</td>\n",
       "      <td>110.956436</td>\n",
       "    </tr>\n",
       "    <tr>\n",
       "      <th>max</th>\n",
       "      <td>8416.000000</td>\n",
       "      <td>122.016552</td>\n",
       "    </tr>\n",
       "  </tbody>\n",
       "</table>\n",
       "</div>"
      ],
      "text/plain": [
       "                id            y\n",
       "count  4209.000000  4209.000000\n",
       "mean   4211.039202   100.502813\n",
       "std    2423.078926     9.325562\n",
       "min       1.000000    76.880051\n",
       "25%    2115.000000    93.804768\n",
       "50%    4202.000000    95.070404\n",
       "75%    6310.000000   110.956436\n",
       "max    8416.000000   122.016552"
      ]
     },
     "execution_count": 93,
     "metadata": {},
     "output_type": "execute_result"
    }
   ],
   "source": [
    "xgb2.describe()"
   ]
  },
  {
   "cell_type": "code",
   "execution_count": 102,
   "metadata": {
    "collapsed": true
   },
   "outputs": [],
   "source": [
    "xgb1 = pd.read_csv('submission_baseLine_or.csv')\n",
    "LR = pd.read_csv('LR_original.csv')"
   ]
  },
  {
   "cell_type": "code",
   "execution_count": 103,
   "metadata": {
    "collapsed": false
   },
   "outputs": [
    {
     "data": {
      "text/plain": [
       "<matplotlib.axes._subplots.AxesSubplot at 0x7f6930e07e10>"
      ]
     },
     "execution_count": 103,
     "metadata": {},
     "output_type": "execute_result"
    },
    {
     "data": {
      "image/png": "[encoded data removed]",
      "text/plain": [
       "<matplotlib.figure.Figure at 0x7f6930e07350>"
      ]
     },
     "metadata": {},
     "output_type": "display_data"
    }
   ],
   "source": [
    "import matplotlib.pyplot as plt\n",
    "import seaborn as sns\n",
    "%matplotlib inline\n",
    "\n",
    "plt.figure(figsize=(8,4))\n",
    "sns.kdeplot(y, shade=True, label=\"train\")\n",
    "sns.kdeplot(xgb1.y, shade=False, label=\"xgb1\")\n",
    "sns.kdeplot(xgb2.y, shade=False, label=\"xgb2\")\n",
    "sns.kdeplot(LR.y, shade=False, label=\"LR\")"
   ]
  },
  {
   "cell_type": "code",
   "execution_count": null,
   "metadata": {
    "collapsed": true
   },
   "outputs": [],
   "source": []
  }
 ],
 "metadata": {
  "kernelspec": {
   "display_name": "Python [default]",
   "language": "python",
   "name": "python2"
  },
  "language_info": {
   "codemirror_mode": {
    "name": "ipython",
    "version": 2
   },
   "file_extension": ".py",
   "mimetype": "text/x-python",
   "name": "python",
   "nbconvert_exporter": "python",
   "pygments_lexer": "ipython2",
   "version": "2.7.12"
  }
 },
 "nbformat": 4,
 "nbformat_minor": 1
}
