{
 "cells": [
  {
   "cell_type": "code",
   "execution_count": 1,
   "metadata": {
    "collapsed": false
   },
   "outputs": [
    {
     "name": "stderr",
     "output_type": "stream",
     "text": [
      "/home/amin/Software/anaconda2/lib/python2.7/site-packages/sklearn/cross_validation.py:44: DeprecationWarning: This module was deprecated in version 0.18 in favor of the model_selection module into which all the refactored classes and functions are moved. Also note that the interface of the new CV iterators are different from that of this module. This module will be removed in 0.20.\n",
      "  \"This module will be removed in 0.20.\", DeprecationWarning)\n"
     ]
    }
   ],
   "source": [
    "import numpy as np # linear algebra\n",
    "import pandas as pd # data processing, CSV file I/O (e.g. pd.read_csv)\n",
    "import matplotlib.pyplot as plt\n",
    "import seaborn as sns\n",
    "from sklearn import preprocessing\n",
    "import xgboost as xgb\n",
    "color = sns.color_palette()\n",
    "\n",
    "%matplotlib inline\n",
    "\n",
    "pd.options.mode.chained_assignment = None  # default='warn'\n",
    "pd.options.display.max_columns = 999"
   ]
  },
  {
   "cell_type": "code",
   "execution_count": 2,
   "metadata": {
    "collapsed": false
   },
   "outputs": [
    {
     "name": "stdout",
     "output_type": "stream",
     "text": [
      "('Train shape : ', (3694, 317))\n",
      "('Test shape : ', (4209, 316))\n"
     ]
    }
   ],
   "source": [
    "train = pd.read_csv(\"clean_train.csv\")\n",
    "test = pd.read_csv(\"clean_test.csv\")\n",
    "print(\"Train shape : \", train.shape)\n",
    "print(\"Test shape : \", test.shape)"
   ]
  },
  {
   "cell_type": "code",
   "execution_count": 3,
   "metadata": {
    "collapsed": false
   },
   "outputs": [],
   "source": [
    "dtrain = train[[\"ID\", \"X0\", \"y\"]]\n",
    "X0 = dtrain.groupby(\"X0\")[\"y\"].agg({\"med\": np.median, \"mean\": np.mean, \"max\": np.max}).reset_index()"
   ]
  },
  {
   "cell_type": "code",
   "execution_count": 4,
   "metadata": {
    "collapsed": true
   },
   "outputs": [],
   "source": [
    "from sklearn.preprocessing import LabelEncoder\n",
    "lbl = LabelEncoder() \n",
    "lbl.fit(list(X0[\"med\"].values))\n",
    "X0[\"X0_med\"] = lbl.transform(list(X0[\"med\"].values))\n",
    "\n",
    "lbl = LabelEncoder() \n",
    "lbl.fit(list(X0[\"mean\"].values))\n",
    "X0[\"X0_mean\"] = lbl.transform(list(X0[\"mean\"].values))\n",
    "\n",
    "lbl = LabelEncoder() \n",
    "lbl.fit(list(X0[\"max\"].values))\n",
    "X0[\"X0_max\"] = lbl.transform(list(X0[\"max\"].values))"
   ]
  },
  {
   "cell_type": "code",
   "execution_count": 5,
   "metadata": {
    "collapsed": false
   },
   "outputs": [
    {
     "data": {
      "text/html": [
       "<div>\n",
       "<table border=\"1\" class=\"dataframe\">\n",
       "  <thead>\n",
       "    <tr style=\"text-align: right;\">\n",
       "      <th></th>\n",
       "      <th>X0</th>\n",
       "      <th>med</th>\n",
       "      <th>max</th>\n",
       "      <th>mean</th>\n",
       "      <th>X0_med</th>\n",
       "      <th>X0_mean</th>\n",
       "      <th>X0_max</th>\n",
       "    </tr>\n",
       "  </thead>\n",
       "  <tbody>\n",
       "    <tr>\n",
       "      <th>0</th>\n",
       "      <td>a</td>\n",
       "      <td>111.42</td>\n",
       "      <td>142.71</td>\n",
       "      <td>115.048421</td>\n",
       "      <td>38</td>\n",
       "      <td>42</td>\n",
       "      <td>32</td>\n",
       "    </tr>\n",
       "    <tr>\n",
       "      <th>1</th>\n",
       "      <td>aa</td>\n",
       "      <td>152.17</td>\n",
       "      <td>169.91</td>\n",
       "      <td>152.170000</td>\n",
       "      <td>45</td>\n",
       "      <td>46</td>\n",
       "      <td>45</td>\n",
       "    </tr>\n",
       "    <tr>\n",
       "      <th>2</th>\n",
       "      <td>ab</td>\n",
       "      <td>112.30</td>\n",
       "      <td>112.30</td>\n",
       "      <td>112.300000</td>\n",
       "      <td>39</td>\n",
       "      <td>34</td>\n",
       "      <td>10</td>\n",
       "    </tr>\n",
       "    <tr>\n",
       "      <th>3</th>\n",
       "      <td>ac</td>\n",
       "      <td>89.62</td>\n",
       "      <td>89.62</td>\n",
       "      <td>89.620000</td>\n",
       "      <td>3</td>\n",
       "      <td>2</td>\n",
       "      <td>1</td>\n",
       "    </tr>\n",
       "    <tr>\n",
       "      <th>4</th>\n",
       "      <td>ad</td>\n",
       "      <td>90.79</td>\n",
       "      <td>115.95</td>\n",
       "      <td>94.087857</td>\n",
       "      <td>10</td>\n",
       "      <td>15</td>\n",
       "      <td>14</td>\n",
       "    </tr>\n",
       "  </tbody>\n",
       "</table>\n",
       "</div>"
      ],
      "text/plain": [
       "   X0     med     max        mean  X0_med  X0_mean  X0_max\n",
       "0   a  111.42  142.71  115.048421      38       42      32\n",
       "1  aa  152.17  169.91  152.170000      45       46      45\n",
       "2  ab  112.30  112.30  112.300000      39       34      10\n",
       "3  ac   89.62   89.62   89.620000       3        2       1\n",
       "4  ad   90.79  115.95   94.087857      10       15      14"
      ]
     },
     "execution_count": 5,
     "metadata": {},
     "output_type": "execute_result"
    }
   ],
   "source": [
    "X0.head()"
   ]
  },
  {
   "cell_type": "code",
   "execution_count": 6,
   "metadata": {
    "collapsed": false
   },
   "outputs": [
    {
     "data": {
      "text/html": [
       "<div>\n",
       "<table border=\"1\" class=\"dataframe\">\n",
       "  <thead>\n",
       "    <tr style=\"text-align: right;\">\n",
       "      <th></th>\n",
       "      <th>ID</th>\n",
       "      <th>X0</th>\n",
       "      <th>y</th>\n",
       "      <th>med</th>\n",
       "      <th>max</th>\n",
       "      <th>mean</th>\n",
       "      <th>X0_med</th>\n",
       "      <th>X0_mean</th>\n",
       "      <th>X0_max</th>\n",
       "    </tr>\n",
       "  </thead>\n",
       "  <tbody>\n",
       "    <tr>\n",
       "      <th>0</th>\n",
       "      <td>0</td>\n",
       "      <td>k</td>\n",
       "      <td>130.81</td>\n",
       "      <td>88.63</td>\n",
       "      <td>130.81</td>\n",
       "      <td>98.362857</td>\n",
       "      <td>2</td>\n",
       "      <td>22</td>\n",
       "      <td>24</td>\n",
       "    </tr>\n",
       "    <tr>\n",
       "      <th>1</th>\n",
       "      <td>6</td>\n",
       "      <td>k</td>\n",
       "      <td>88.53</td>\n",
       "      <td>88.63</td>\n",
       "      <td>130.81</td>\n",
       "      <td>98.362857</td>\n",
       "      <td>2</td>\n",
       "      <td>22</td>\n",
       "      <td>24</td>\n",
       "    </tr>\n",
       "    <tr>\n",
       "      <th>2</th>\n",
       "      <td>281</td>\n",
       "      <td>k</td>\n",
       "      <td>90.54</td>\n",
       "      <td>88.63</td>\n",
       "      <td>130.81</td>\n",
       "      <td>98.362857</td>\n",
       "      <td>2</td>\n",
       "      <td>22</td>\n",
       "      <td>24</td>\n",
       "    </tr>\n",
       "    <tr>\n",
       "      <th>3</th>\n",
       "      <td>444</td>\n",
       "      <td>k</td>\n",
       "      <td>87.66</td>\n",
       "      <td>88.63</td>\n",
       "      <td>130.81</td>\n",
       "      <td>98.362857</td>\n",
       "      <td>2</td>\n",
       "      <td>22</td>\n",
       "      <td>24</td>\n",
       "    </tr>\n",
       "    <tr>\n",
       "      <th>4</th>\n",
       "      <td>1451</td>\n",
       "      <td>k</td>\n",
       "      <td>88.55</td>\n",
       "      <td>88.63</td>\n",
       "      <td>130.81</td>\n",
       "      <td>98.362857</td>\n",
       "      <td>2</td>\n",
       "      <td>22</td>\n",
       "      <td>24</td>\n",
       "    </tr>\n",
       "  </tbody>\n",
       "</table>\n",
       "</div>"
      ],
      "text/plain": [
       "     ID X0       y    med     max       mean  X0_med  X0_mean  X0_max\n",
       "0     0  k  130.81  88.63  130.81  98.362857       2       22      24\n",
       "1     6  k   88.53  88.63  130.81  98.362857       2       22      24\n",
       "2   281  k   90.54  88.63  130.81  98.362857       2       22      24\n",
       "3   444  k   87.66  88.63  130.81  98.362857       2       22      24\n",
       "4  1451  k   88.55  88.63  130.81  98.362857       2       22      24"
      ]
     },
     "execution_count": 6,
     "metadata": {},
     "output_type": "execute_result"
    }
   ],
   "source": [
    "dtrain = pd.merge(dtrain, X0, on=\"X0\")\n",
    "dtrain.head()"
   ]
  },
  {
   "cell_type": "code",
   "execution_count": 7,
   "metadata": {
    "collapsed": false
   },
   "outputs": [
    {
     "data": {
      "text/html": [
       "<div>\n",
       "<table border=\"1\" class=\"dataframe\">\n",
       "  <thead>\n",
       "    <tr style=\"text-align: right;\">\n",
       "      <th></th>\n",
       "      <th>ID</th>\n",
       "      <th>X0</th>\n",
       "      <th>med</th>\n",
       "      <th>max</th>\n",
       "      <th>mean</th>\n",
       "      <th>X0_med</th>\n",
       "      <th>X0_mean</th>\n",
       "      <th>X0_max</th>\n",
       "    </tr>\n",
       "  </thead>\n",
       "  <tbody>\n",
       "    <tr>\n",
       "      <th>0</th>\n",
       "      <td>1</td>\n",
       "      <td>az</td>\n",
       "      <td>76.81</td>\n",
       "      <td>104.65</td>\n",
       "      <td>78.134395</td>\n",
       "      <td>1.0</td>\n",
       "      <td>1.0</td>\n",
       "      <td>6.0</td>\n",
       "    </tr>\n",
       "    <tr>\n",
       "      <th>1</th>\n",
       "      <td>2</td>\n",
       "      <td>t</td>\n",
       "      <td>91.62</td>\n",
       "      <td>150.43</td>\n",
       "      <td>93.811613</td>\n",
       "      <td>15.0</td>\n",
       "      <td>10.0</td>\n",
       "      <td>37.0</td>\n",
       "    </tr>\n",
       "    <tr>\n",
       "      <th>2</th>\n",
       "      <td>3</td>\n",
       "      <td>az</td>\n",
       "      <td>76.81</td>\n",
       "      <td>104.65</td>\n",
       "      <td>78.134395</td>\n",
       "      <td>1.0</td>\n",
       "      <td>1.0</td>\n",
       "      <td>6.0</td>\n",
       "    </tr>\n",
       "    <tr>\n",
       "      <th>3</th>\n",
       "      <td>4</td>\n",
       "      <td>az</td>\n",
       "      <td>76.81</td>\n",
       "      <td>104.65</td>\n",
       "      <td>78.134395</td>\n",
       "      <td>1.0</td>\n",
       "      <td>1.0</td>\n",
       "      <td>6.0</td>\n",
       "    </tr>\n",
       "    <tr>\n",
       "      <th>4</th>\n",
       "      <td>5</td>\n",
       "      <td>w</td>\n",
       "      <td>110.12</td>\n",
       "      <td>154.43</td>\n",
       "      <td>112.675549</td>\n",
       "      <td>34.0</td>\n",
       "      <td>38.0</td>\n",
       "      <td>39.0</td>\n",
       "    </tr>\n",
       "  </tbody>\n",
       "</table>\n",
       "</div>"
      ],
      "text/plain": [
       "   ID  X0     med     max        mean  X0_med  X0_mean  X0_max\n",
       "0   1  az   76.81  104.65   78.134395     1.0      1.0     6.0\n",
       "1   2   t   91.62  150.43   93.811613    15.0     10.0    37.0\n",
       "2   3  az   76.81  104.65   78.134395     1.0      1.0     6.0\n",
       "3   4  az   76.81  104.65   78.134395     1.0      1.0     6.0\n",
       "4   5   w  110.12  154.43  112.675549    34.0     38.0    39.0"
      ]
     },
     "execution_count": 7,
     "metadata": {},
     "output_type": "execute_result"
    }
   ],
   "source": [
    "dtest = test[[\"ID\", \"X0\"]]\n",
    "dtest = pd.merge(dtest, X0[[\"X0\", \"med\", \"max\", \"mean\", \"X0_med\", \"X0_mean\", \"X0_max\"]], on=\"X0\", how=\"left\")\n",
    "dtest.head()"
   ]
  },
  {
   "cell_type": "code",
   "execution_count": 8,
   "metadata": {
    "collapsed": true
   },
   "outputs": [],
   "source": [
    "dtest[dtest[\"med\"].isnull()] = X0[\"med\"].median()\n",
    "dtest[dtest[\"mean\"].isnull()] = X0[\"mean\"].median()\n",
    "dtest[dtest[\"max\"].isnull()] = X0[\"max\"].median()"
   ]
  },
  {
   "cell_type": "code",
   "execution_count": 9,
   "metadata": {
    "collapsed": false
   },
   "outputs": [
    {
     "data": {
      "image/png": "[encoded data removed]",
      "text/plain": [
       "<matplotlib.figure.Figure at 0x7fe9bffad390>"
      ]
     },
     "metadata": {},
     "output_type": "display_data"
    }
   ],
   "source": [
    "var_name = \"X0_mean\"\n",
    "col_order = np.sort(dtrain[var_name].unique()).tolist()\n",
    "plt.figure(figsize=(12,6))\n",
    "sns.boxplot(x=var_name, y='y', data=dtrain, order=col_order)\n",
    "plt.xlabel(var_name, fontsize=12)\n",
    "plt.ylabel('y', fontsize=12)\n",
    "plt.title(\"Distribution of y variable with \"+var_name, fontsize=15)\n",
    "plt.show()"
   ]
  },
  {
   "cell_type": "code",
   "execution_count": 10,
   "metadata": {
    "collapsed": false
   },
   "outputs": [
    {
     "name": "stdout",
     "output_type": "stream",
     "text": [
      "('Train shape : ', (3694, 323))\n",
      "('Test shape : ', (4209, 322))\n"
     ]
    }
   ],
   "source": [
    "train[[\"med\", \"max\", \"mean\", \"X0_med\", \"X0_mean\", \"X0_max\"]] = dtrain[[\"med\", \"max\", \"mean\", \"X0_med\", \"X0_mean\", \"X0_max\"]]\n",
    "test[[\"med\", \"max\", \"mean\", \"X0_med\", \"X0_mean\", \"X0_max\"]] = dtest[[\"med\", \"max\", \"mean\", \"X0_med\", \"X0_mean\", \"X0_max\"]]\n",
    "print(\"Train shape : \", train.shape)\n",
    "print(\"Test shape : \", test.shape)"
   ]
  },
  {
   "cell_type": "code",
   "execution_count": 11,
   "metadata": {
    "collapsed": true
   },
   "outputs": [],
   "source": [
    "for c in train.columns:\n",
    "    if train[c].dtype == 'object':\n",
    "        lbl = LabelEncoder()\n",
    "        lbl.fit(list(train[c].values) + list(test[c].values))\n",
    "        train[c] = lbl.transform(list(train[c].values))\n",
    "        test[c] = lbl.transform(list(test[c].values))"
   ]
  },
  {
   "cell_type": "code",
   "execution_count": 12,
   "metadata": {
    "collapsed": false
   },
   "outputs": [
    {
     "name": "stdout",
     "output_type": "stream",
     "text": [
      "('Train shape : ', (3694, 383))\n",
      "('Test shape : ', (4209, 382))\n"
     ]
    }
   ],
   "source": [
    "from sklearn.random_projection import GaussianRandomProjection\n",
    "from sklearn.random_projection import SparseRandomProjection\n",
    "from sklearn.decomposition import PCA, FastICA\n",
    "from sklearn.decomposition import TruncatedSVD\n",
    "\n",
    "n_comp = 12\n",
    "\n",
    "# tSVD\n",
    "tsvd = TruncatedSVD(n_components=n_comp, random_state=420)\n",
    "tsvd_results_train = tsvd.fit_transform(train.drop([\"y\"], axis=1))\n",
    "tsvd_results_test = tsvd.transform(test)\n",
    "\n",
    "# PCA\n",
    "pca = PCA(n_components=n_comp, random_state=420)\n",
    "pca2_results_train = pca.fit_transform(train.drop([\"y\"], axis=1))\n",
    "pca2_results_test = pca.transform(test)\n",
    "\n",
    "# ICA\n",
    "ica = FastICA(n_components=n_comp, random_state=420)\n",
    "ica2_results_train = ica.fit_transform(train.drop([\"y\"], axis=1))\n",
    "ica2_results_test = ica.transform(test)\n",
    "\n",
    "# GRP\n",
    "grp = GaussianRandomProjection(n_components=n_comp, eps=0.1, random_state=420)\n",
    "grp_results_train = grp.fit_transform(train.drop([\"y\"], axis=1))\n",
    "grp_results_test = grp.transform(test)\n",
    "\n",
    "# SRP\n",
    "srp = SparseRandomProjection(n_components=n_comp, dense_output=True, random_state=420)\n",
    "srp_results_train = srp.fit_transform(train.drop([\"y\"], axis=1))\n",
    "srp_results_test = srp.transform(test)\n",
    "\n",
    "# Append decomposition components to datasets\n",
    "for i in range(1, n_comp + 1):\n",
    "    train['pca_' + str(i)] = pca2_results_train[:, i - 1]\n",
    "    test['pca_' + str(i)] = pca2_results_test[:, i - 1]\n",
    "\n",
    "    train['ica_' + str(i)] = ica2_results_train[:, i - 1]\n",
    "    test['ica_' + str(i)] = ica2_results_test[:, i - 1]\n",
    "\n",
    "    train['tsvd_' + str(i)] = tsvd_results_train[:, i - 1]\n",
    "    test['tsvd_' + str(i)] = tsvd_results_test[:, i - 1]\n",
    "\n",
    "    train['grp_' + str(i)] = grp_results_train[:, i - 1]\n",
    "    test['grp_' + str(i)] = grp_results_test[:, i - 1]\n",
    "\n",
    "    train['srp_' + str(i)] = srp_results_train[:, i - 1]\n",
    "    test['srp_' + str(i)] = srp_results_test[:, i - 1]\n",
    "    \n",
    "print(\"Train shape : \", train.shape)\n",
    "print(\"Test shape : \", test.shape)"
   ]
  },
  {
   "cell_type": "code",
   "execution_count": 13,
   "metadata": {
    "collapsed": false
   },
   "outputs": [
    {
     "name": "stdout",
     "output_type": "stream",
     "text": [
      "('Train shape : ', (3693, 383))\n"
     ]
    }
   ],
   "source": [
    "# drop the outliers\n",
    "index = train.y.values < 250\n",
    "train = train[index]\n",
    "print(\"Train shape : \", train.shape)"
   ]
  },
  {
   "cell_type": "code",
   "execution_count": 14,
   "metadata": {
    "collapsed": false
   },
   "outputs": [
    {
     "name": "stdout",
     "output_type": "stream",
     "text": [
      "('Train shape : ', (3693, 382))\n"
     ]
    }
   ],
   "source": [
    "y = train[\"y\"]\n",
    "#train.pop('ID')\n",
    "#test_ids = test.pop('ID')\n",
    "train = train.drop(\"y\", axis=1)\n",
    "print(\"Train shape : \", train.shape)"
   ]
  },
  {
   "cell_type": "code",
   "execution_count": 18,
   "metadata": {
    "collapsed": false
   },
   "outputs": [
    {
     "name": "stdout",
     "output_type": "stream",
     "text": [
      "Pipeline(steps=[('standardscaler', StandardScaler(copy=True, with_mean=True, with_std=True)), ('polynomialfeatures', PolynomialFeatures(degree=1, include_bias=True, interaction_only=False)), ('elasticnet', ElasticNet(alpha=0.2, copy_X=True, fit_intercept=True, l1_ratio=1.1,\n",
      "      max_iter=5000, normalize=False, positive=False, precompute=False,\n",
      "      random_state=None, selection='cyclic', tol=0.0001, warm_start=False))])\n"
     ]
    }
   ],
   "source": [
    "# MultiTaskElasticNet\n",
    "from sklearn.preprocessing import StandardScaler\n",
    "from sklearn import linear_model\n",
    "from sklearn.preprocessing import PolynomialFeatures\n",
    "from sklearn.pipeline import make_pipeline\n",
    "from sklearn import grid_search\n",
    "from sklearn.metrics import make_scorer\n",
    "from sklearn.metrics import r2_score\n",
    "\n",
    "model = make_pipeline(StandardScaler(), PolynomialFeatures(), linear_model.ElasticNet(max_iter=5000))\n",
    "parameters = {'elasticnet__alpha' : map(lambda x: x/10.0, range(1,5)), \n",
    "              'elasticnet__l1_ratio' : map(lambda x: x/10.0, range(10,15)),\n",
    "              'polynomialfeatures__degree' : [1]} #, \n",
    "              #'polynomialfeatures__interaction_only' :[True, False]}\n",
    "\n",
    "\n",
    "r2_scorer = make_scorer(r2_score)\n",
    "grid = grid_search.GridSearchCV(estimator=model, param_grid=parameters, scoring=r2_scorer, cv=5)\n",
    "grid_obj = grid.fit(train, y)\n",
    "\n",
    "grid_best = grid_obj.best_estimator_\n",
    "print grid_best"
   ]
  },
  {
   "cell_type": "code",
   "execution_count": 19,
   "metadata": {
    "collapsed": false
   },
   "outputs": [
    {
     "name": "stdout",
     "output_type": "stream",
     "text": [
      "0.593237187702\n",
      "0.623317789459\n",
      "0.574542582921\n",
      "0.586696685555\n",
      "0.551385455815\n"
     ]
    }
   ],
   "source": [
    "from sklearn.model_selection import StratifiedKFold\n",
    "skf = StratifiedKFold(n_splits = 5, shuffle = True, random_state = 44)\n",
    "\n",
    "train_pred = [0 for i in range(train.shape[0])]\n",
    "test_pred = [0 for i in range(test.shape[0])]\n",
    "\n",
    "for train_index, test_index in skf.split(train, y):\n",
    "    x0, x1 = train.iloc[train_index], train.iloc[test_index]\n",
    "    y0, y1 = y.iloc[train_index], y.iloc[test_index] \n",
    "    grid_best.fit(x0, y0)                \n",
    "    \n",
    "    pred = grid_best.predict(x1)\n",
    "    print r2_score(y1, pred)\n",
    "    for ii, idx in enumerate(test_index):\n",
    "        train_pred[idx] = pred[ii]\n",
    "    \n",
    "    pred_test = grid_best.predict(test)\n",
    "    for ii, val in enumerate(pred_test):\n",
    "        test_pred[ii] += val\n",
    "    \n"
   ]
  },
  {
   "cell_type": "code",
   "execution_count": 20,
   "metadata": {
    "collapsed": false
   },
   "outputs": [],
   "source": [
    "train[\"El1\"] = train_pred\n",
    "test[\"El1\"] = map(lambda x: x/5.0, test_pred) # divided by number of CV"
   ]
  },
  {
   "cell_type": "code",
   "execution_count": 21,
   "metadata": {
    "collapsed": true
   },
   "outputs": [],
   "source": [
    "train.to_csv('clean_train_El1.csv', index=False)\n",
    "test.to_csv('clean_test_El1.csv', index=False)"
   ]
  },
  {
   "cell_type": "code",
   "execution_count": null,
   "metadata": {
    "collapsed": true
   },
   "outputs": [],
   "source": []
  }
 ],
 "metadata": {
  "anaconda-cloud": {},
  "kernelspec": {
   "display_name": "Python [default]",
   "language": "python",
   "name": "python2"
  },
  "language_info": {
   "codemirror_mode": {
    "name": "ipython",
    "version": 2
   },
   "file_extension": ".py",
   "mimetype": "text/x-python",
   "name": "python",
   "nbconvert_exporter": "python",
   "pygments_lexer": "ipython2",
   "version": "2.7.12"
  }
 },
 "nbformat": 4,
 "nbformat_minor": 1
}
