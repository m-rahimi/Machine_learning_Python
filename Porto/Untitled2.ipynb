{
 "cells": [
  {
   "cell_type": "code",
   "execution_count": 1,
   "metadata": {
    "collapsed": true
   },
   "outputs": [],
   "source": [
    "import numpy as np\n",
    "import pandas as pd\n",
    "from sklearn.model_selection import train_test_split\n",
    "from sklearn.model_selection import KFold\n",
    "from sklearn.preprocessing import LabelEncoder\n",
    "from numba import jit\n",
    "import time\n",
    "import gc"
   ]
  },
  {
   "cell_type": "code",
   "execution_count": 2,
   "metadata": {
    "collapsed": true
   },
   "outputs": [],
   "source": [
    "# Compute gini\n",
    "\n",
    "# from CPMP's kernel https://www.kaggle.com/cpmpml/extremely-fast-gini-computation\n",
    "@jit\n",
    "def eval_gini(y_true, y_prob):\n",
    "    y_true = np.asarray(y_true)\n",
    "    y_true = y_true[np.argsort(y_prob)]\n",
    "    ntrue = 0\n",
    "    gini = 0\n",
    "    delta = 0\n",
    "    n = len(y_true)\n",
    "    for i in range(n-1, -1, -1):\n",
    "        y_i = y_true[i]\n",
    "        ntrue += y_i\n",
    "        gini += y_i * delta\n",
    "        delta += 1 - y_i\n",
    "    gini = 1 - 2 * gini / np.float(ntrue * (n - ntrue))\n",
    "    return gini\n",
    "\n",
    "def gini_xgb(preds, dtrain):\n",
    "    labels = dtrain.get_label()\n",
    "    gini_score = -eval_gini(labels, preds)\n",
    "    return [('gini', gini_score)]"
   ]
  },
  {
   "cell_type": "code",
   "execution_count": 7,
   "metadata": {
    "collapsed": false
   },
   "outputs": [
    {
     "name": "stdout",
     "output_type": "stream",
     "text": [
      "y_train_lr.out\n",
      "y_train_lreg.out\n",
      "y_train_lda.out\n",
      "y_train_knn.out\n",
      "y_train_nb.out\n",
      "y_train_rf.out\n",
      "y_train_ad.out\n",
      "y_train_gb.out\n",
      "y_train_xgb1.out\n",
      "y_train_xgb2.out\n",
      "y_train_xgb3.out\n",
      "y_train_xgb4.out\n"
     ]
    }
   ],
   "source": [
    "train_meta = pd.DataFrame()\n",
    "test_meta = pd.DataFrame()\n",
    "\n",
    "fold = \"Data/meta1/\"\n",
    "columns = [\"lr\", \"lreg\", \"lda\", \"knn\", \"nb\", \"rf\", \"ad\", \"gb\", \"xgb1\", \"xgb2\", \"xgb3\", \"xgb4\"]\n",
    "for col in columns:\n",
    "    name = \"y_train_\" + col + \".out\"\n",
    "    print name\n",
    "    train_meta[col] = np.loadtxt(fold+name)\n",
    "    name = \"y_test_\" + col + \".out\"\n",
    "#    test_meta[col] = np.loadtxt(fold+name)"
   ]
  },
  {
   "cell_type": "code",
   "execution_count": 8,
   "metadata": {
    "collapsed": true
   },
   "outputs": [],
   "source": [
    "# Read data\n",
    "train_df = pd.read_csv('Data/train.csv', na_values=\"-1\") # .iloc[0:200,:]\n",
    "#test_df = pd.read_csv('Data/test.csv', na_values=\"-1\")"
   ]
  },
  {
   "cell_type": "code",
   "execution_count": 9,
   "metadata": {
    "collapsed": true
   },
   "outputs": [],
   "source": [
    "train_meta[\"y\"] = train_df.target"
   ]
  },
  {
   "cell_type": "code",
   "execution_count": 10,
   "metadata": {
    "collapsed": false
   },
   "outputs": [
    {
     "name": "stdout",
     "output_type": "stream",
     "text": [
      "lr 0.261480444372\n",
      "lreg 0.261289266811\n",
      "lda 0.261481382332\n",
      "knn 0.172214469131\n",
      "nb 0.236574751459\n",
      "rf 0.26888755436\n",
      "ad 0.271640830902\n",
      "gb 0.282853370441\n",
      "xgb1 0.287997209454\n",
      "xgb2 0.28460125291\n",
      "xgb3 0.248615122473\n",
      "xgb4 0.288576782051\n",
      "y 1.0\n"
     ]
    }
   ],
   "source": [
    "for col in train_meta.columns:\n",
    "    print col, eval_gini(train_meta[\"y\"], train_meta[col])"
   ]
  },
  {
   "cell_type": "code",
   "execution_count": 26,
   "metadata": {
    "collapsed": false
   },
   "outputs": [
    {
     "name": "stdout",
     "output_type": "stream",
     "text": [
      "0.289436475541\n"
     ]
    }
   ],
   "source": [
    "yy1 =  0.5*train_meta[\"xgb1\"] + 0.5*train_meta[\"xgb4\"] \n",
    "print eval_gini(train_meta[\"y\"], yy1)"
   ]
  },
  {
   "cell_type": "code",
   "execution_count": 21,
   "metadata": {
    "collapsed": false
   },
   "outputs": [
    {
     "name": "stdout",
     "output_type": "stream",
     "text": [
      "0.285001680513\n"
     ]
    }
   ],
   "source": [
    "yy2 =  0.4*train_meta[\"xgb2\"] + 0.6*train_meta[\"gb\"] \n",
    "print eval_gini(train_meta[\"y\"], yy2)"
   ]
  },
  {
   "cell_type": "code",
   "execution_count": 22,
   "metadata": {
    "collapsed": false
   },
   "outputs": [
    {
     "name": "stdout",
     "output_type": "stream",
     "text": [
      "0.285909338063\n"
     ]
    }
   ],
   "source": [
    "yy = 0.5*yy1 + 0.5*yy2\n",
    "print eval_gini(train_meta[\"y\"], yy)"
   ]
  },
  {
   "cell_type": "code",
   "execution_count": 64,
   "metadata": {
    "collapsed": false
   },
   "outputs": [
    {
     "name": "stdout",
     "output_type": "stream",
     "text": [
      "y_train_xgb5.out\n"
     ]
    }
   ],
   "source": [
    "name = \"y_train_\" + \"xgb5\" + \".out\"\n",
    "print name\n",
    "train_meta[col] = np.loadtxt(fold+\"y_train_xgb4.out\")"
   ]
  },
  {
   "cell_type": "code",
   "execution_count": 43,
   "metadata": {
    "collapsed": true
   },
   "outputs": [],
   "source": [
    "def add_noise(series, noise_level):\n",
    "    return series * (1 + noise_level * np.random.randn(len(series)))\n",
    "\n",
    "\n",
    "def target_encode(trn_series=None,    # Revised to encode validation series\n",
    "                  val_series=None,\n",
    "                  tst_series=None,\n",
    "                  target=None,\n",
    "                  min_samples_leaf=1,\n",
    "                  smoothing=1,\n",
    "                  noise_level=0):\n",
    "    \"\"\"\n",
    "    Smoothing is computed like in the following paper by Daniele Micci-Barreca\n",
    "    https://kaggle2.blob.core.windows.net/forum-message-attachments/225952/7441/high%20cardinality%20categoricals.pdf\n",
    "    trn_series : training categorical feature as a pd.Series\n",
    "    tst_series : test categorical feature as a pd.Series\n",
    "    target : target data as a pd.Series\n",
    "    min_samples_leaf (int) : minimum samples to take category average into account\n",
    "    smoothing (int) : smoothing effect to balance categorical average vs prior\n",
    "    \"\"\"\n",
    "    assert len(trn_series) == len(target)\n",
    "    assert trn_series.name == tst_series.name\n",
    "    temp = pd.concat([trn_series, target], axis=1)\n",
    "    # Compute target mean\n",
    "    averages = temp.groupby(by=trn_series.name)[target.name].agg([\"mean\", \"count\"])\n",
    "    # Compute smoothing\n",
    "    smoothing = 1 / (1 + np.exp(-(averages[\"count\"] - min_samples_leaf) / smoothing))\n",
    "    # Apply average function to all target data\n",
    "    prior = target.mean()\n",
    "    # The bigger the count the less full_avg is taken into account\n",
    "    averages[target.name] = prior * (1 - smoothing) + averages[\"mean\"] * smoothing\n",
    "    averages.drop([\"mean\", \"count\"], axis=1, inplace=True)\n",
    "    # Apply averages to trn and tst series\n",
    "    ft_trn_series = pd.merge(\n",
    "        trn_series.to_frame(trn_series.name),\n",
    "        averages.reset_index().rename(columns={'index': target.name, target.name: 'average'}),\n",
    "        on=trn_series.name,\n",
    "        how='left')['average'].rename(trn_series.name + '_mean').fillna(prior)\n",
    "    # pd.merge does not keep the index so restore it\n",
    "    ft_trn_series.index = trn_series.index\n",
    "    ft_val_series = pd.merge(\n",
    "        val_series.to_frame(val_series.name),\n",
    "        averages.reset_index().rename(columns={'index': target.name, target.name: 'average'}),\n",
    "        on=val_series.name,\n",
    "        how='left')['average'].rename(trn_series.name + '_mean').fillna(prior)\n",
    "    # pd.merge does not keep the index so restore it\n",
    "    ft_val_series.index = val_series.index\n",
    "    ft_tst_series = pd.merge(\n",
    "        tst_series.to_frame(tst_series.name),\n",
    "        averages.reset_index().rename(columns={'index': target.name, target.name: 'average'}),\n",
    "        on=tst_series.name,\n",
    "        how='left')['average'].rename(trn_series.name + '_mean').fillna(prior)\n",
    "    # pd.merge does not keep the index so restore it\n",
    "    ft_tst_series.index = tst_series.index\n",
    "    return add_noise(ft_trn_series, noise_level), add_noise(ft_val_series, noise_level), add_noise(ft_tst_series, noise_level)"
   ]
  },
  {
   "cell_type": "code",
   "execution_count": 68,
   "metadata": {
    "collapsed": false
   },
   "outputs": [
    {
     "name": "stdout",
     "output_type": "stream",
     "text": [
      "y_train_lr.out\n",
      "y_train_lreg.out\n",
      "y_train_lda.out\n",
      "y_train_knn.out\n",
      "y_train_nb.out\n",
      "y_train_rf.out\n",
      "y_train_ad.out\n",
      "y_train_gb.out\n",
      "y_train_xgb2.out\n",
      "y_train_xgb3.out\n",
      "y_train_xgb4.out\n"
     ]
    }
   ],
   "source": [
    "train_meta = pd.DataFrame()\n",
    "test_meta = pd.DataFrame()\n",
    "\n",
    "fold = \"/home/amin/Desktop/Porto/Data/meta1/\"\n",
    "columns = [\"lr\", \"lreg\", \"lda\", \"knn\", \"nb\", \"rf\", \"ad\", \"gb\",  \"xgb2\", \"xgb3\", \"xgb4\"]\n",
    "for col in columns:\n",
    "    name = \"y_train_\" + col + \".out\"\n",
    "    print name\n",
    "    train_meta[col] = np.loadtxt(fold+name)\n",
    "    name = \"y_test_\" + col + \".out\"\n",
    "    test_meta[col] = np.loadtxt(fold+name)"
   ]
  },
  {
   "cell_type": "code",
   "execution_count": 27,
   "metadata": {
    "collapsed": true
   },
   "outputs": [],
   "source": [
    "# Read data\n",
    "train_df = pd.read_csv('Data/train.csv', na_values=\"-1\") # .iloc[0:200,:]\n",
    "test_df = pd.read_csv('Data/test.csv', na_values=\"-1\")"
   ]
  },
  {
   "cell_type": "code",
   "execution_count": 33,
   "metadata": {
    "collapsed": true
   },
   "outputs": [],
   "source": [
    "# from olivier\n",
    "train_features = [\n",
    "    \"ps_car_13\",  #            : 1571.65 / shadow  609.23\n",
    "\t\"ps_reg_03\",  #            : 1408.42 / shadow  511.15\n",
    "\t\"ps_ind_05_cat\",  #        : 1387.87 / shadow   84.72\n",
    "\t\"ps_ind_03\",  #            : 1219.47 / shadow  230.55\n",
    "\t\"ps_ind_15\",  #            :  922.18 / shadow  242.00\n",
    "\t\"ps_reg_02\",  #            :  920.65 / shadow  267.50\n",
    "\t\"ps_car_14\",  #            :  798.48 / shadow  549.58\n",
    "\t\"ps_car_12\",  #            :  731.93 / shadow  293.62\n",
    "\t\"ps_car_01_cat\",  #        :  698.07 / shadow  178.72\n",
    "\t\"ps_car_07_cat\",  #        :  694.53 / shadow   36.35\n",
    "\t\"ps_ind_17_bin\",  #        :  620.77 / shadow   23.15\n",
    "\t\"ps_car_03_cat\",  #        :  611.73 / shadow   50.67\n",
    "\t\"ps_reg_01\",  #            :  598.60 / shadow  178.57\n",
    "\t\"ps_car_15\",  #            :  593.35 / shadow  226.43\n",
    "\t\"ps_ind_01\",  #            :  547.32 / shadow  154.58\n",
    "\t\"ps_ind_16_bin\",  #        :  475.37 / shadow   34.17\n",
    "\t\"ps_ind_07_bin\",  #        :  435.28 / shadow   28.92\n",
    "\t\"ps_car_06_cat\",  #        :  398.02 / shadow  212.43\n",
    "\t\"ps_car_04_cat\",  #        :  376.87 / shadow   76.98\n",
    "\t\"ps_ind_06_bin\",  #        :  370.97 / shadow   36.13\n",
    "\t\"ps_car_09_cat\",  #        :  214.12 / shadow   81.38\n",
    "\t\"ps_car_02_cat\",  #        :  203.03 / shadow   26.67\n",
    "\t\"ps_ind_02_cat\",  #        :  189.47 / shadow   65.68\n",
    "\t\"ps_car_11\",  #            :  173.28 / shadow   76.45\n",
    "\t\"ps_car_05_cat\",  #        :  172.75 / shadow   62.92\n",
    "\t\"ps_calc_09\",  #           :  169.13 / shadow  129.72\n",
    "\t\"ps_calc_05\",  #           :  148.83 / shadow  120.68\n",
    "\t\"ps_ind_08_bin\",  #        :  140.73 / shadow   27.63\n",
    "\t\"ps_car_08_cat\",  #        :  120.87 / shadow   28.82\n",
    "\t\"ps_ind_09_bin\",  #        :  113.92 / shadow   27.05\n",
    "\t\"ps_ind_04_cat\",  #        :  107.27 / shadow   37.43\n",
    "\t\"ps_ind_18_bin\",  #        :   77.42 / shadow   25.97\n",
    "\t\"ps_ind_12_bin\",  #        :   39.67 / shadow   15.52\n",
    "\t\"ps_ind_14\",  #            :   37.37 / shadow   16.65\n",
    "]\n",
    "# add combinations\n",
    "combs = [\n",
    "    ('ps_reg_01', 'ps_car_02_cat'),  \n",
    "    ('ps_reg_01', 'ps_car_04_cat'),\n",
    "]"
   ]
  },
  {
   "cell_type": "code",
   "execution_count": 34,
   "metadata": {
    "collapsed": false
   },
   "outputs": [
    {
     "name": "stdout",
     "output_type": "stream",
     "text": [
      "(1488028, 34)\n"
     ]
    }
   ],
   "source": [
    "target = train_df[\"target\"]\n",
    "ntrain = train_df.shape[0]\n",
    "data = pd.concat([train_df[train_features], test_df[train_features]], axis=0, ignore_index=True)\n",
    "print data.shape\n",
    "#del train_df, test_df\n",
    "#gc.collect()"
   ]
  },
  {
   "cell_type": "code",
   "execution_count": 35,
   "metadata": {
    "collapsed": false
   },
   "outputs": [
    {
     "name": "stdout",
     "output_type": "stream",
     "text": [
      "0.8015609771\n",
      "3.0\n",
      "0.3741657387\n",
      "0.3734969879\n"
     ]
    }
   ],
   "source": [
    "# replace missing values with median\n",
    "columns = [\"ps_reg_03\", \"ps_car_11\", \"ps_car_12\", \"ps_car_14\"]\n",
    "data[columns] = data[columns].replace(-1, np.NaN)\n",
    "for col in columns:\n",
    "    med = data.loc[:ntrain-1, col].dropna().median()\n",
    "    data.loc[data[col].isnull(), col] = med\n",
    "    print med"
   ]
  },
  {
   "cell_type": "code",
   "execution_count": 36,
   "metadata": {
    "collapsed": true
   },
   "outputs": [],
   "source": [
    "from sklearn.preprocessing import LabelEncoder\n",
    "columns = [f for f in data.columns if \"_cat\" in f]\n",
    "\n",
    "for col in columns:\n",
    "    data.loc[data[col].isnull(), col] = -1\n",
    "    enc = LabelEncoder()\n",
    "    data[col] = enc.fit_transform(data[col])"
   ]
  },
  {
   "cell_type": "code",
   "execution_count": 37,
   "metadata": {
    "collapsed": true
   },
   "outputs": [],
   "source": [
    "threshol = 500\n",
    "columns = [f for f in data.columns if \"_cat\" in f]\n",
    "\n",
    "for col in columns:\n",
    "    temp = data.loc[:ntrain-1, col]\n",
    "    density = temp.value_counts().sort_values()\n",
    "    count = density.iloc[0]\n",
    "    while count < threshol:\n",
    "        ix0 = density.index[0]; ix1 = density.index[1]\n",
    "        data.loc[data[col] == ix0, col] = ix1\n",
    "\n",
    "        temp = data.loc[:ntrain-1, col]\n",
    "        density = temp.value_counts().sort_values()\n",
    "        count = density.iloc[0]"
   ]
  },
  {
   "cell_type": "code",
   "execution_count": 38,
   "metadata": {
    "collapsed": false
   },
   "outputs": [
    {
     "name": "stdout",
     "output_type": "stream",
     "text": [
      "('current feature %60s %4d in %5.1f', ('ps_reg_01_plus_ps_car_02_cat', 1, 1.6399224599202474e-05))\n",
      "('current feature %60s %4d in %5.1f', ('ps_reg_01_plus_ps_car_04_cat', 2, 0.04063146511713664))\n"
     ]
    }
   ],
   "source": [
    "# Process data\n",
    "start = time.time()\n",
    "for n_c, (f1, f2) in enumerate(combs):\n",
    "    name1 = f1 + \"_plus_\" + f2\n",
    "    print('current feature %60s %4d in %5.1f', (name1, n_c + 1, (time.time() - start) / 60))\n",
    "\n",
    "    data[name1] = data[f1].apply(lambda x: str(x)) + \"_\" + data[f2].apply(lambda x: str(x))\n",
    "    # Label Encode\n",
    "    lbl = LabelEncoder()\n",
    "    lbl.fit(list(data[name1].values))\n",
    "    data[name1] = lbl.transform(list(data[name1].values))"
   ]
  },
  {
   "cell_type": "code",
   "execution_count": 39,
   "metadata": {
    "collapsed": true
   },
   "outputs": [],
   "source": [
    "from sklearn.preprocessing import MinMaxScaler\n",
    "columns = [f for f in data.columns if \"_bin\" not in f and \"_cat\" not in f]\n",
    "\n",
    "min_max_scaler = MinMaxScaler()\n",
    "data[columns] = min_max_scaler.fit_transform(list(data[columns].values))"
   ]
  },
  {
   "cell_type": "code",
   "execution_count": 62,
   "metadata": {
    "collapsed": false
   },
   "outputs": [
    {
     "name": "stdout",
     "output_type": "stream",
     "text": [
      "(595212, 48) (1488028, 48)\n"
     ]
    }
   ],
   "source": [
    "X = pd.concat([data.loc[:ntrain-1, :], train_meta], axis=1)\n",
    "test = pd.concat([data.loc[ntrain:, :], test_meta], axis=1)\n",
    "print X.shape, test.shape\n",
    "\n",
    "f_cats = [f for f in X.columns if \"_cat\" in f]"
   ]
  },
  {
   "cell_type": "code",
   "execution_count": 71,
   "metadata": {
    "collapsed": false
   },
   "outputs": [],
   "source": [
    "import xgboost as xgb\n",
    "params = {\n",
    "          'objective': 'binary:logistic',  \n",
    "          'max_depth': 4, \n",
    "          'learning_rate': 0.1,\n",
    "          'subsample': 0.8,  \n",
    "          'min_child_weight': 0.77, \n",
    "          'colsample_bytree': 0.9,\n",
    "#           'scale_pos_weight': 1.6,\n",
    "#           'gamma': 10,  \n",
    "#           'reg_alpha': 8,\n",
    "#           'reg_lambda': 1.3\n",
    "         }"
   ]
  },
  {
   "cell_type": "code",
   "execution_count": 72,
   "metadata": {
    "collapsed": false
   },
   "outputs": [
    {
     "name": "stdout",
     "output_type": "stream",
     "text": [
      "('\\nFold ', 0)\n",
      "('  Best N trees = ', 56)\n",
      "('  Best gini = ', -0.275548)\n",
      "('  Gini = ', 0.2742348488403411)\n",
      "('\\nFold ', 1)\n",
      "('  Best N trees = ', 13)\n",
      "('  Best gini = ', -0.290107)\n",
      "('  Gini = ', 0.28785978801457635)\n",
      "('\\nFold ', 2)\n",
      "('  Best N trees = ', 30)\n",
      "('  Best gini = ', -0.288388)\n",
      "('  Gini = ', 0.2860452839382055)\n",
      "('\\nFold ', 3)\n",
      "('  Best N trees = ', 30)\n",
      "('  Best gini = ', -0.284483)\n",
      "('  Gini = ', 0.28261064503915667)\n",
      "('\\nFold ', 4)\n",
      "('  Best N trees = ', 35)\n",
      "('  Best gini = ', -0.289736)\n",
      "('  Gini = ', 0.2880261056887715)\n",
      "('\\nFold ', 5)\n",
      "('  Best N trees = ', 8)\n",
      "('  Best gini = ', -0.27732)\n",
      "('  Gini = ', 0.276899521472021)\n",
      "('\\nFold ', 6)\n",
      "('  Best N trees = ', 24)\n",
      "('  Best gini = ', -0.300253)\n",
      "('  Gini = ', 0.2983233095776787)\n",
      "('\\nFold ', 7)\n",
      "('  Best N trees = ', 53)\n",
      "('  Best gini = ', -0.284524)\n",
      "('  Gini = ', 0.283542779760792)\n",
      "('\\nFold ', 8)\n",
      "('  Best N trees = ', 18)\n",
      "('  Best gini = ', -0.295318)\n",
      "('  Gini = ', 0.2934663519481143)\n",
      "('\\nFold ', 9)\n",
      "('  Best N trees = ', 12)\n",
      "('  Best gini = ', -0.275939)\n",
      "('  Gini = ', 0.27441601251902825)\n",
      "\n",
      "Gini for full training set:\n",
      "0.284051582178\n"
     ]
    }
   ],
   "source": [
    "y_valid_pred = 0*target\n",
    "y_test_pred = 0\n",
    "\n",
    "# Set up folds\n",
    "from sklearn.model_selection import StratifiedKFold\n",
    "K = 10\n",
    "skf = StratifiedKFold(n_splits = K, random_state = 1, shuffle = True)\n",
    "np.random.seed(0)\n",
    "\n",
    "for i, (train_index, test_index) in enumerate(skf.split(X, target)):\n",
    "    \n",
    "    # Create data for this fold\n",
    "    y_train, y_valid = target.iloc[train_index].copy(), target.iloc[test_index]\n",
    "    X_train, X_valid = X.iloc[train_index,:].copy(), X.iloc[test_index,:].copy()\n",
    "    X_test = test.copy()\n",
    "    print( \"\\nFold \", i)\n",
    "    \n",
    "#    Enocode data\n",
    "#     for f in f_cats:\n",
    "#         X_train[f + \"_avg\"], X_valid[f + \"_avg\"], X_test[f + \"_avg\"] = target_encode(\n",
    "#                                                         trn_series=X_train[f],\n",
    "#                                                         val_series=X_valid[f],\n",
    "#                                                         tst_series=X_test[f],\n",
    "#                                                         target=y_train,\n",
    "#                                                         min_samples_leaf=200,\n",
    "#                                                         smoothing=10,\n",
    "#                                                         noise_level=0\n",
    "#                                                         )\n",
    "\n",
    "    d_train = xgb.DMatrix(X_train, y_train)\n",
    "    d_valid = xgb.DMatrix(X_valid, y_valid)\n",
    "    d_test = xgb.DMatrix(X_test)\n",
    "    \n",
    "    watchlist = [(d_train, 'train'), (d_valid, 'valid')]\n",
    "    fit_model = xgb.train(params, d_train, 1000, \n",
    "                               watchlist,\n",
    "                               feval=gini_xgb,\n",
    "                               early_stopping_rounds=50,\n",
    "                               verbose_eval= False\n",
    "                             )\n",
    "    print( \"  Best N trees = \", fit_model.best_ntree_limit )\n",
    "    print( \"  Best gini = \", fit_model.best_score )\n",
    "        \n",
    "    # Generate validation predictions for this fold\n",
    "    pred = fit_model.predict(d_valid)\n",
    "    print( \"  Gini = \", eval_gini(y_valid, pred) )\n",
    "    y_valid_pred.iloc[test_index] = pred\n",
    "    \n",
    "    # Accumulate test set predictions\n",
    "    y_test_pred += fit_model.predict(d_test)\n",
    "    \n",
    "    del X_test, X_train, X_valid, y_train\n",
    "    \n",
    "y_test_pred /= K  # Average test set predictions\n",
    "\n",
    "print( \"\\nGini for full training set:\" )\n",
    "print eval_gini(target, y_valid_pred)"
   ]
  },
  {
   "cell_type": "code",
   "execution_count": 73,
   "metadata": {
    "collapsed": true
   },
   "outputs": [],
   "source": [
    "import operator\n",
    "importance = fit_model.get_fscore()\n",
    "importance = sorted(importance.items(), key=operator.itemgetter(1))\n",
    "\n",
    "df = pd.DataFrame(importance, columns=['feature', 'fscore'])\n",
    "df['fscore'] = df['fscore'] / df['fscore'].sum()"
   ]
  },
  {
   "cell_type": "code",
   "execution_count": 74,
   "metadata": {
    "collapsed": false
   },
   "outputs": [
    {
     "data": {
      "text/plain": [
       "<matplotlib.figure.Figure at 0x7f14e5433e50>"
      ]
     },
     "metadata": {},
     "output_type": "display_data"
    },
    {
     "data": {
      "image/png": "[encoded data removed]",
      "text/plain": [
       "<matplotlib.figure.Figure at 0x7f14ff26d190>"
      ]
     },
     "metadata": {},
     "output_type": "display_data"
    }
   ],
   "source": [
    "import matplotlib.pyplot as plt\n",
    "import seaborn as sns\n",
    "color = sns.color_palette()\n",
    "\n",
    "%matplotlib inline\n",
    "\n",
    "plt.figure()\n",
    "df[-20:].plot(kind='barh', x='feature', y='fscore', legend=False, figsize=(10, 5))\n",
    "plt.title('XGBoost Feature Importance')\n",
    "plt.xlabel('relative importance')\n",
    "plt.show()"
   ]
  },
  {
   "cell_type": "code",
   "execution_count": 63,
   "metadata": {
    "collapsed": true
   },
   "outputs": [],
   "source": [
    "# Set up classifier\n",
    "from sklearn.linear_model import LogisticRegression\n",
    "cc = 1.0\n",
    "model = LogisticRegression(C=cc)"
   ]
  },
  {
   "cell_type": "code",
   "execution_count": 69,
   "metadata": {
    "collapsed": false
   },
   "outputs": [
    {
     "name": "stdout",
     "output_type": "stream",
     "text": [
      "(595212, 11) (892816, 11)\n"
     ]
    }
   ],
   "source": [
    "X = train_meta.copy()\n",
    "test = test_meta.copy()\n",
    "print X.shape, test.shape\n",
    "\n",
    "f_cats = [f for f in X.columns if \"_cat\" in f]"
   ]
  },
  {
   "cell_type": "code",
   "execution_count": 70,
   "metadata": {
    "collapsed": false
   },
   "outputs": [
    {
     "name": "stdout",
     "output_type": "stream",
     "text": [
      "('\\nFold ', 0)\n",
      "('  Gini = ', 0.27214636366382905)\n",
      "('\\nFold ', 1)\n",
      "('  Gini = ', 0.28883348235779627)\n",
      "('\\nFold ', 2)\n",
      "('  Gini = ', 0.28615430427859845)\n",
      "('\\nFold ', 3)\n",
      "('  Gini = ', 0.28371952203322937)\n",
      "('\\nFold ', 4)\n",
      "('  Gini = ', 0.2873186098308499)\n",
      "('\\nFold ', 5)\n",
      "('  Gini = ', 0.27728778002157106)\n",
      "('\\nFold ', 6)\n",
      "('  Gini = ', 0.2968527857474561)\n",
      "('\\nFold ', 7)\n",
      "('  Gini = ', 0.2849901839672515)\n",
      "('\\nFold ', 8)\n",
      "('  Gini = ', 0.29118833794974186)\n",
      "('\\nFold ', 9)\n",
      "('  Gini = ', 0.2726991173929736)\n",
      "\n",
      "Gini for full training set:\n",
      "0.28411342804\n"
     ]
    }
   ],
   "source": [
    "y_valid_pred = 0*target\n",
    "y_test_pred = 0\n",
    "\n",
    "# Set up folds\n",
    "from sklearn.model_selection import StratifiedKFold\n",
    "K = 10\n",
    "skf = StratifiedKFold(n_splits = K, random_state = 1, shuffle = True)\n",
    "np.random.seed(0)\n",
    "\n",
    "for i, (train_index, test_index) in enumerate(skf.split(X, target)):\n",
    "    \n",
    "    # Create data for this fold\n",
    "    y_train, y_valid = target.iloc[train_index].copy(), target.iloc[test_index]\n",
    "    X_train, X_valid = X.iloc[train_index,:].copy(), X.iloc[test_index,:].copy()\n",
    "    X_test = test.copy()\n",
    "    print( \"\\nFold \", i)\n",
    "    \n",
    "# #    Enocode data\n",
    "#     for f in f_cats:\n",
    "#         X_train[f + \"_avg\"], X_valid[f + \"_avg\"], X_test[f + \"_avg\"] = target_encode(\n",
    "#                                                         trn_series=X_train[f],\n",
    "#                                                         val_series=X_valid[f],\n",
    "#                                                         tst_series=X_test[f],\n",
    "#                                                         target=y_train,\n",
    "#                                                         min_samples_leaf=200,\n",
    "#                                                         smoothing=10,\n",
    "#                                                         noise_level=0\n",
    "#                                                         )\n",
    "\n",
    "    eval_set=[(X_valid,y_valid)]\n",
    "    fit_model = model.fit( X_train, y_train) \n",
    "#     , \n",
    "#                                eval_set=eval_set,\n",
    "#                                eval_metric=gini_xgb,\n",
    "#                                early_stopping_rounds=50,\n",
    "#                                verbose=False\n",
    "#                              )\n",
    "#    print( \"  Best N trees = \", model.best_ntree_limit )\n",
    "#    print( \"  Best gini = \", model.best_score )\n",
    "        \n",
    "    # Generate validation predictions for this fold\n",
    "    pred = fit_model.predict_proba(X_valid)[:,1]\n",
    "    print( \"  Gini = \", eval_gini(y_valid, pred) )\n",
    "    y_valid_pred.iloc[test_index] = pred\n",
    "    \n",
    "    # Accumulate test set predictions\n",
    "    y_test_pred += fit_model.predict_proba(X_test)[:,1]\n",
    "    \n",
    "    del X_test, X_train, X_valid, y_train\n",
    "    \n",
    "y_test_pred /= K  # Average test set predictions\n",
    "\n",
    "print( \"\\nGini for full training set:\" )\n",
    "print eval_gini(target, y_valid_pred)"
   ]
  },
  {
   "cell_type": "code",
   "execution_count": null,
   "metadata": {
    "collapsed": true
   },
   "outputs": [],
   "source": []
  }
 ],
 "metadata": {
  "anaconda-cloud": {},
  "kernelspec": {
   "display_name": "Python [Root]",
   "language": "python",
   "name": "Python [Root]"
  },
  "language_info": {
   "codemirror_mode": {
    "name": "ipython",
    "version": 2
   },
   "file_extension": ".py",
   "mimetype": "text/x-python",
   "name": "python",
   "nbconvert_exporter": "python",
   "pygments_lexer": "ipython2",
   "version": "2.7.12"
  }
 },
 "nbformat": 4,
 "nbformat_minor": 1
}
