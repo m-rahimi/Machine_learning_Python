{
 "cells": [
  {
   "cell_type": "code",
   "execution_count": 1,
   "metadata": {
    "collapsed": true
   },
   "outputs": [],
   "source": [
    "import numpy as np\n",
    "import pandas as pd\n",
    "import gc"
   ]
  },
  {
   "cell_type": "code",
   "execution_count": 2,
   "metadata": {
    "collapsed": false
   },
   "outputs": [
    {
     "name": "stdout",
     "output_type": "stream",
     "text": [
      "Read data file to obtain some statistic about the features and target\n",
      "shape of data file:  (35604, 91)\n"
     ]
    }
   ],
   "source": [
    "print(\"Read data file to obtain some statistic about the features and target\")\n",
    "data = pd.read_csv('clean_data_LR.csv')\n",
    "print \"shape of data file: \", data.shape"
   ]
  },
  {
   "cell_type": "code",
   "execution_count": 7,
   "metadata": {
    "collapsed": true
   },
   "outputs": [],
   "source": [
    "from sklearn.linear_model import LogisticRegression\n",
    "from sklearn.metrics import log_loss"
   ]
  },
  {
   "cell_type": "code",
   "execution_count": 28,
   "metadata": {
    "collapsed": false
   },
   "outputs": [],
   "source": [
    "model = LogisticRegression(C=100)"
   ]
  },
  {
   "cell_type": "code",
   "execution_count": 29,
   "metadata": {
    "collapsed": true
   },
   "outputs": [],
   "source": [
    "train = data.drop(\"target\", axis=1)\n",
    "target = data[\"target\"]"
   ]
  },
  {
   "cell_type": "code",
   "execution_count": 30,
   "metadata": {
    "collapsed": false
   },
   "outputs": [
    {
     "name": "stdout",
     "output_type": "stream",
     "text": [
      "0.411941733546\n",
      "0.419798047166\n",
      "0.412451885203\n",
      "0.427833143193\n",
      "0.421199093753\n",
      "0.428311631334\n",
      "0.416935592711\n",
      "0.426460204054\n",
      "0.412884357684\n",
      "0.423680596643\n",
      "mean logloss score in 10 folds:  0.420149628529 0.00607379413903\n"
     ]
    }
   ],
   "source": [
    "from sklearn.model_selection import KFold\n",
    "skf = KFold(n_splits = 10, shuffle = True, random_state = 44)\n",
    "\n",
    "scores = []\n",
    "for train_index, test_index in skf.split(train):\n",
    "        x0, x1 = train.iloc[train_index], train.iloc[test_index]\n",
    "        y0, y1 = target.iloc[train_index], target.iloc[test_index] \n",
    "        model.fit(x0, y0)            \n",
    "        predict = model.predict_proba(x1)\n",
    "        scores.append(log_loss(y1, predict))\n",
    "        print log_loss(y1, predict)\n",
    "        \n",
    "print \"mean logloss score in 10 folds: \", np.mean(scores), np.std(scores)"
   ]
  },
  {
   "cell_type": "code",
   "execution_count": 31,
   "metadata": {
    "collapsed": false
   },
   "outputs": [
    {
     "data": {
      "text/plain": [
       "array([[ -2.87009178e-08,   1.41209305e-05,   3.25656247e-07,\n",
       "          9.44831370e-10,  -1.46205030e-07,   1.82323367e-08,\n",
       "          1.66999200e-11,   9.15734594e-08,   3.99570219e-10,\n",
       "          1.16385645e-08,   1.21026552e-09,   1.05510053e-10,\n",
       "          9.16019793e-09,   9.31524209e-07,   3.26254314e-09,\n",
       "          9.29090766e-07,  -1.95576937e-08,  -9.53563608e-10,\n",
       "          1.41653741e-09,   0.00000000e+00,  -1.55040304e-10,\n",
       "          7.22527389e-11,   5.45761372e-10,  -3.52018337e-10,\n",
       "          2.28450098e-10,   5.86542046e-10,  -6.63781417e-12,\n",
       "         -7.55474348e-11,   5.17981118e-10,  -4.01911663e-11,\n",
       "          5.92863117e-12,   6.45872649e-13,   5.11876926e-12,\n",
       "          2.26553013e-13,   2.72649188e-11,   3.74451803e-12,\n",
       "          2.61878337e-11,  -1.09748612e-12,  -6.50505688e-13,\n",
       "         -4.35238569e-12,   3.99040762e-11,   3.33789488e-11,\n",
       "          8.64909650e-12,   4.44876583e-11,  -1.41087306e-11,\n",
       "          9.78129907e-12,  -2.49556282e-13,   3.24028537e-12,\n",
       "          3.84923067e-11,  -1.19845244e-11,  -3.79240556e-13,\n",
       "         -5.22181069e-12,  -2.01399326e-11,   6.23508649e-12,\n",
       "         -2.26330863e-12,   2.25091292e-12,   2.96376750e-11,\n",
       "          5.77873101e-12,   2.47304618e-11,  -7.39739216e-12,\n",
       "          1.55464387e-11,   9.50778920e-12,   2.00059255e-12,\n",
       "          8.46699524e-12,   4.46858017e-12,   5.41226005e-11,\n",
       "         -5.72978875e-12,  -3.31284784e-12,  -7.16725295e-12,\n",
       "          2.63285512e-11,   3.91967441e-12,   1.59452978e-11,\n",
       "          1.25387073e-10,  -4.95110967e-13,   2.46905393e-11,\n",
       "         -1.79778349e-11,   2.38566465e-11,   1.11834141e-11,\n",
       "         -7.65924063e-13,  -3.43558484e-13,   2.13216250e-11,\n",
       "         -3.53845428e-12,  -9.65749601e-12,   2.38524431e-11,\n",
       "         -2.40861291e-12,  -1.44562352e-11,  -2.49065768e-11,\n",
       "         -2.19671483e-13,   2.88525437e-12,   2.63978144e-07]])"
      ]
     },
     "execution_count": 31,
     "metadata": {},
     "output_type": "execute_result"
    }
   ],
   "source": [
    "model.coef_"
   ]
  }
 ],
 "metadata": {
  "kernelspec": {
   "display_name": "Python [Root]",
   "language": "python",
   "name": "Python [Root]"
  },
  "language_info": {
   "codemirror_mode": {
    "name": "ipython",
    "version": 2
   },
   "file_extension": ".py",
   "mimetype": "text/x-python",
   "name": "python",
   "nbconvert_exporter": "python",
   "pygments_lexer": "ipython2",
   "version": "2.7.12"
  }
 },
 "nbformat": 4,
 "nbformat_minor": 2
}
