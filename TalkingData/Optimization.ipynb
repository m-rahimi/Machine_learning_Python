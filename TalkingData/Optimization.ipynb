{
 "cells": [
  {
   "cell_type": "code",
   "execution_count": 1,
   "metadata": {},
   "outputs": [],
   "source": [
    "%matplotlib inline\n",
    "import numpy as np\n",
    "import matplotlib.pyplot as plt\n",
    "import lightgbm as lgb\n",
    "import pandas as pd\n",
    "from skopt.space import Real, Integer\n",
    "from skopt.utils import use_named_args\n",
    "from skopt import gp_minimize\n",
    "from skopt.plots import plot_convergence\n",
    "import matplotlib.pyplot as plt\n",
    "import seaborn as sns\n",
    "import warnings\n",
    "from tqdm import tqdm"
   ]
  },
  {
   "cell_type": "code",
   "execution_count": 2,
   "metadata": {},
   "outputs": [],
   "source": [
    "import pandas as pd\n",
    "hdf = pd.HDFStore(\"../../store/storage4.h5\")\n",
    "\n",
    "train = hdf[\"train\"]\n",
    "valid = hdf[\"valid\"]\n",
    "test = hdf[\"test\"]\n",
    "\n",
    "hdf.close()"
   ]
  },
  {
   "cell_type": "code",
   "execution_count": 3,
   "metadata": {},
   "outputs": [
    {
     "data": {
      "text/plain": [
       "Index(['app', 'channel', 'device', 'ip', 'is_attributed', 'os', 'hour', 'day',\n",
       "       'X0', 'X1', 'X2', 'X3', 'X4', 'X5', 'X6', 'X7', 'X8', 'ip_tcount',\n",
       "       'ip_app_count', 'ip_app_os_count', 'ip_tchan_count', 'ip_app_os_var',\n",
       "       'ip_app_channel_var_day', 'ip_app_channel_mean_hour', 'nextClick'],\n",
       "      dtype='object')"
      ]
     },
     "execution_count": 3,
     "metadata": {},
     "output_type": "execute_result"
    }
   ],
   "source": [
    "train.columns"
   ]
  },
  {
   "cell_type": "code",
   "execution_count": 4,
   "metadata": {},
   "outputs": [],
   "source": [
    "features = ['nextClick',\n",
    " 'app',\n",
    " 'device',\n",
    " 'os',\n",
    " 'channel',\n",
    " 'hour',\n",
    " 'day',\n",
    " 'ip_tcount',\n",
    " 'ip_tchan_count',\n",
    " 'ip_app_count',\n",
    " 'ip_app_os_count',\n",
    " 'ip_app_os_var',\n",
    " 'ip_app_channel_var_day',\n",
    " 'ip_app_channel_mean_hour',\n",
    " 'X0',\n",
    " 'X1',\n",
    " 'X2',\n",
    " 'X3',\n",
    " 'X4',\n",
    " 'X5',\n",
    " 'X6',\n",
    " 'X7',\n",
    " 'X8']\n",
    "cat = ['app', 'device', 'os', 'channel', 'hour', 'day']"
   ]
  },
  {
   "cell_type": "code",
   "execution_count": 5,
   "metadata": {},
   "outputs": [],
   "source": [
    "params = {'learning_rate': 0.05, 'num_leaves': 24, 'max_depth': 6, 'min_child_samples': 100, 'max_bin': 100, \n",
    "          'subsample': 0.7, 'subsample_freq': 1, 'colsample_bytree': 0.7, 'min_child_weight': 0, \n",
    "          'scale_pos_weight': 230, 'subsample_for_bin': 200000, 'min_split_gain': 0, 'reg_alpha': 0, \n",
    "          'reg_lambda': 0, 'nthread': 20, 'verbose': 0, 'boosting_type': 'gbdt',\n",
    "          'objective': 'binary', 'metric': 'auc'}"
   ]
  },
  {
   "cell_type": "code",
   "execution_count": 6,
   "metadata": {},
   "outputs": [],
   "source": [
    "dtrain = lgb.Dataset(train[features], label=train.is_attributed, categorical_feature=cat, free_raw_data=False)\n",
    "dtest = lgb.Dataset(valid[features], valid.is_attributed, categorical_feature=cat, free_raw_data=False, reference=dtrain)"
   ]
  },
  {
   "cell_type": "code",
   "execution_count": 7,
   "metadata": {},
   "outputs": [
    {
     "name": "stdout",
     "output_type": "stream",
     "text": [
      "scale_pos_weight 200\n",
      "{'learning_rate': 0.05, 'num_leaves': 24, 'max_depth': 6, 'min_child_samples': 100, 'max_bin': 100, 'subsample': 0.7, 'subsample_freq': 1, 'colsample_bytree': 0.7, 'min_child_weight': 0, 'scale_pos_weight': 200, 'subsample_for_bin': 200000, 'min_split_gain': 0, 'reg_alpha': 0, 'reg_lambda': 0, 'nthread': 20, 'verbose': 0, 'boosting_type': 'gbdt', 'objective': 'binary', 'metric': 'auc'}\n"
     ]
    },
    {
     "name": "stderr",
     "output_type": "stream",
     "text": [
      "/home/amin/Software/anaconda3/lib/python3.6/site-packages/lightgbm/basic.py:1036: UserWarning: Using categorical_feature in Dataset.\n",
      "  warnings.warn('Using categorical_feature in Dataset.')\n",
      "/home/amin/Software/anaconda3/lib/python3.6/site-packages/lightgbm/basic.py:681: UserWarning: categorical_feature in param dict is overrided.\n",
      "  warnings.warn('categorical_feature in param dict is overrided.')\n"
     ]
    },
    {
     "name": "stdout",
     "output_type": "stream",
     "text": [
      "Training until validation scores don't improve for 30 rounds.\n",
      "[50]\tvalid's auc: 0.983766\n",
      "[100]\tvalid's auc: 0.987797\n",
      "[150]\tvalid's auc: 0.989528\n",
      "[200]\tvalid's auc: 0.990178\n",
      "[250]\tvalid's auc: 0.990442\n",
      "[300]\tvalid's auc: 0.990695\n",
      "[350]\tvalid's auc: 0.990844\n",
      "[400]\tvalid's auc: 0.990939\n",
      "[450]\tvalid's auc: 0.99114\n",
      "[500]\tvalid's auc: 0.991174\n",
      "Early stopping, best iteration is:\n",
      "[506]\tvalid's auc: 0.991182\n",
      "defaultdict(<class 'dict'>, {'valid': {'auc': 0.9911821582585557}})\n",
      "scale_pos_weight 220\n",
      "{'learning_rate': 0.05, 'num_leaves': 24, 'max_depth': 6, 'min_child_samples': 100, 'max_bin': 100, 'subsample': 0.7, 'subsample_freq': 1, 'colsample_bytree': 0.7, 'min_child_weight': 0, 'scale_pos_weight': 220, 'subsample_for_bin': 200000, 'min_split_gain': 0, 'reg_alpha': 0, 'reg_lambda': 0, 'nthread': 20, 'verbose': 0, 'boosting_type': 'gbdt', 'objective': 'binary', 'metric': 'auc', 'categorical_column': [1, 2, 3, 4, 5, 6]}\n",
      "Training until validation scores don't improve for 30 rounds.\n",
      "[50]\tvalid's auc: 0.983922\n",
      "[100]\tvalid's auc: 0.987636\n",
      "[150]\tvalid's auc: 0.989425\n",
      "[200]\tvalid's auc: 0.990114\n",
      "[250]\tvalid's auc: 0.990421\n",
      "[300]\tvalid's auc: 0.990679\n",
      "[350]\tvalid's auc: 0.990827\n",
      "[400]\tvalid's auc: 0.990967\n",
      "[450]\tvalid's auc: 0.991086\n",
      "[500]\tvalid's auc: 0.991148\n",
      "[550]\tvalid's auc: 0.991188\n",
      "[600]\tvalid's auc: 0.991255\n",
      "[650]\tvalid's auc: 0.991311\n",
      "Early stopping, best iteration is:\n",
      "[662]\tvalid's auc: 0.991335\n",
      "defaultdict(<class 'dict'>, {'valid': {'auc': 0.9913352735415589}})\n",
      "scale_pos_weight 240\n",
      "{'learning_rate': 0.05, 'num_leaves': 24, 'max_depth': 6, 'min_child_samples': 100, 'max_bin': 100, 'subsample': 0.7, 'subsample_freq': 1, 'colsample_bytree': 0.7, 'min_child_weight': 0, 'scale_pos_weight': 240, 'subsample_for_bin': 200000, 'min_split_gain': 0, 'reg_alpha': 0, 'reg_lambda': 0, 'nthread': 20, 'verbose': 0, 'boosting_type': 'gbdt', 'objective': 'binary', 'metric': 'auc', 'categorical_column': [1, 2, 3, 4, 5, 6]}\n",
      "Training until validation scores don't improve for 30 rounds.\n",
      "[50]\tvalid's auc: 0.984177\n",
      "[100]\tvalid's auc: 0.987867\n",
      "[150]\tvalid's auc: 0.989408\n",
      "[200]\tvalid's auc: 0.99004\n",
      "[250]\tvalid's auc: 0.990466\n",
      "[300]\tvalid's auc: 0.990688\n",
      "[350]\tvalid's auc: 0.990813\n",
      "[400]\tvalid's auc: 0.990968\n",
      "[450]\tvalid's auc: 0.991084\n",
      "[500]\tvalid's auc: 0.991144\n",
      "[550]\tvalid's auc: 0.991183\n",
      "[600]\tvalid's auc: 0.991241\n",
      "Early stopping, best iteration is:\n",
      "[596]\tvalid's auc: 0.991265\n",
      "defaultdict(<class 'dict'>, {'valid': {'auc': 0.9912654051493681}})\n",
      "scale_pos_weight 260\n",
      "{'learning_rate': 0.05, 'num_leaves': 24, 'max_depth': 6, 'min_child_samples': 100, 'max_bin': 100, 'subsample': 0.7, 'subsample_freq': 1, 'colsample_bytree': 0.7, 'min_child_weight': 0, 'scale_pos_weight': 260, 'subsample_for_bin': 200000, 'min_split_gain': 0, 'reg_alpha': 0, 'reg_lambda': 0, 'nthread': 20, 'verbose': 0, 'boosting_type': 'gbdt', 'objective': 'binary', 'metric': 'auc', 'categorical_column': [1, 2, 3, 4, 5, 6]}\n",
      "Training until validation scores don't improve for 30 rounds.\n",
      "[50]\tvalid's auc: 0.9843\n",
      "[100]\tvalid's auc: 0.988138\n",
      "[150]\tvalid's auc: 0.989601\n",
      "[200]\tvalid's auc: 0.990194\n",
      "[250]\tvalid's auc: 0.99055\n",
      "[300]\tvalid's auc: 0.990728\n",
      "[350]\tvalid's auc: 0.990858\n",
      "[400]\tvalid's auc: 0.991\n",
      "[450]\tvalid's auc: 0.991142\n",
      "[500]\tvalid's auc: 0.991191\n",
      "[550]\tvalid's auc: 0.991213\n",
      "[600]\tvalid's auc: 0.991241\n",
      "[650]\tvalid's auc: 0.991281\n",
      "Early stopping, best iteration is:\n",
      "[654]\tvalid's auc: 0.991289\n",
      "defaultdict(<class 'dict'>, {'valid': {'auc': 0.9912886245505417}})\n"
     ]
    }
   ],
   "source": [
    "for n in [200, 220, 240, 260]:\n",
    "    params['scale_pos_weight'] = n\n",
    "    print('scale_pos_weight', n)\n",
    "    print(params)\n",
    "    \n",
    "    dtrain = lgb.Dataset(train[features], label=train.is_attributed, categorical_feature=cat)\n",
    "    dtest = lgb.Dataset(valid[features], valid.is_attributed, categorical_feature=cat, reference=dtrain)\n",
    "\n",
    "    model =  lgb.train(params = params, train_set = dtrain, num_boost_round = 1000,\n",
    "                             valid_sets = [dtest], valid_names = ['valid'],\n",
    "                             verbose_eval = 50,\n",
    "                             early_stopping_rounds = 30)\n",
    "    \n",
    "    print(model.best_score)\n",
    "\n",
    "    pred = model.predict(test[features], model.best_iteration)\n",
    "\n",
    "    sub = pd.DataFrame()\n",
    "    sub['click_id'] = test['click_id'].astype('int')\n",
    "    sub['is_attributed'] = pred\n",
    "\n",
    "    sub.to_csv(str(n)+\".csv\", index=False, float_format='%.9f')"
   ]
  },
  {
   "cell_type": "code",
   "execution_count": 8,
   "metadata": {},
   "outputs": [],
   "source": [
    "params = {'learning_rate': 0.05, 'num_leaves': 28, 'max_depth': 6, 'min_child_samples': 100, 'max_bin': 100, \n",
    "          'subsample': 0.7, 'subsample_freq': 1, 'colsample_bytree': 0.7, 'min_child_weight': 0, \n",
    "          'scale_pos_weight': 230, 'subsample_for_bin': 200000, 'min_split_gain': 0, 'reg_alpha': 0, \n",
    "          'reg_lambda': 0, 'nthread': 20, 'verbose': 0, 'boosting_type': 'gbdt',\n",
    "          'objective': 'binary', 'metric': 'auc'}"
   ]
  },
  {
   "cell_type": "code",
   "execution_count": 9,
   "metadata": {},
   "outputs": [
    {
     "name": "stdout",
     "output_type": "stream",
     "text": [
      "scale_pos_weight 200\n",
      "{'learning_rate': 0.05, 'num_leaves': 28, 'max_depth': 6, 'min_child_samples': 100, 'max_bin': 100, 'subsample': 0.7, 'subsample_freq': 1, 'colsample_bytree': 0.7, 'min_child_weight': 0, 'scale_pos_weight': 200, 'subsample_for_bin': 200000, 'min_split_gain': 0, 'reg_alpha': 0, 'reg_lambda': 0, 'nthread': 20, 'verbose': 0, 'boosting_type': 'gbdt', 'objective': 'binary', 'metric': 'auc'}\n"
     ]
    },
    {
     "name": "stderr",
     "output_type": "stream",
     "text": [
      "/home/amin/Software/anaconda3/lib/python3.6/site-packages/lightgbm/basic.py:1036: UserWarning: Using categorical_feature in Dataset.\n",
      "  warnings.warn('Using categorical_feature in Dataset.')\n"
     ]
    },
    {
     "name": "stdout",
     "output_type": "stream",
     "text": [
      "Training until validation scores don't improve for 30 rounds.\n",
      "[50]\tvalid's auc: 0.984122\n",
      "[100]\tvalid's auc: 0.988093\n",
      "[150]\tvalid's auc: 0.989615\n",
      "[200]\tvalid's auc: 0.990182\n",
      "[250]\tvalid's auc: 0.990599\n",
      "[300]\tvalid's auc: 0.990814\n",
      "[350]\tvalid's auc: 0.991001\n",
      "[400]\tvalid's auc: 0.991077\n",
      "[450]\tvalid's auc: 0.991205\n",
      "[500]\tvalid's auc: 0.991295\n",
      "[550]\tvalid's auc: 0.991316\n",
      "Early stopping, best iteration is:\n",
      "[520]\tvalid's auc: 0.991319\n",
      "defaultdict(<class 'dict'>, {'valid': {'auc': 0.991319258577067}})\n",
      "scale_pos_weight 220\n",
      "{'learning_rate': 0.05, 'num_leaves': 28, 'max_depth': 6, 'min_child_samples': 100, 'max_bin': 100, 'subsample': 0.7, 'subsample_freq': 1, 'colsample_bytree': 0.7, 'min_child_weight': 0, 'scale_pos_weight': 220, 'subsample_for_bin': 200000, 'min_split_gain': 0, 'reg_alpha': 0, 'reg_lambda': 0, 'nthread': 20, 'verbose': 0, 'boosting_type': 'gbdt', 'objective': 'binary', 'metric': 'auc'}\n",
      "Training until validation scores don't improve for 30 rounds.\n",
      "[50]\tvalid's auc: 0.984139\n",
      "[100]\tvalid's auc: 0.988069\n",
      "[150]\tvalid's auc: 0.98961\n",
      "[200]\tvalid's auc: 0.990339\n",
      "[250]\tvalid's auc: 0.990702\n",
      "[300]\tvalid's auc: 0.990888\n",
      "[350]\tvalid's auc: 0.991052\n",
      "[400]\tvalid's auc: 0.99117\n",
      "[450]\tvalid's auc: 0.991293\n",
      "[500]\tvalid's auc: 0.991345\n",
      "[550]\tvalid's auc: 0.991372\n",
      "[600]\tvalid's auc: 0.991415\n",
      "Early stopping, best iteration is:\n",
      "[593]\tvalid's auc: 0.991422\n",
      "defaultdict(<class 'dict'>, {'valid': {'auc': 0.9914216035747485}})\n",
      "scale_pos_weight 240\n",
      "{'learning_rate': 0.05, 'num_leaves': 28, 'max_depth': 6, 'min_child_samples': 100, 'max_bin': 100, 'subsample': 0.7, 'subsample_freq': 1, 'colsample_bytree': 0.7, 'min_child_weight': 0, 'scale_pos_weight': 240, 'subsample_for_bin': 200000, 'min_split_gain': 0, 'reg_alpha': 0, 'reg_lambda': 0, 'nthread': 20, 'verbose': 0, 'boosting_type': 'gbdt', 'objective': 'binary', 'metric': 'auc'}\n",
      "Training until validation scores don't improve for 30 rounds.\n",
      "[50]\tvalid's auc: 0.984461\n",
      "[100]\tvalid's auc: 0.988238\n",
      "[150]\tvalid's auc: 0.989789\n",
      "[200]\tvalid's auc: 0.990364\n",
      "[250]\tvalid's auc: 0.990677\n",
      "[300]\tvalid's auc: 0.990903\n",
      "[350]\tvalid's auc: 0.991022\n",
      "[400]\tvalid's auc: 0.991116\n",
      "[450]\tvalid's auc: 0.991263\n",
      "[500]\tvalid's auc: 0.991327\n",
      "[550]\tvalid's auc: 0.991354\n",
      "[600]\tvalid's auc: 0.991398\n",
      "[650]\tvalid's auc: 0.99142\n",
      "Early stopping, best iteration is:\n",
      "[657]\tvalid's auc: 0.991426\n",
      "defaultdict(<class 'dict'>, {'valid': {'auc': 0.9914259261548924}})\n",
      "scale_pos_weight 260\n",
      "{'learning_rate': 0.05, 'num_leaves': 28, 'max_depth': 6, 'min_child_samples': 100, 'max_bin': 100, 'subsample': 0.7, 'subsample_freq': 1, 'colsample_bytree': 0.7, 'min_child_weight': 0, 'scale_pos_weight': 260, 'subsample_for_bin': 200000, 'min_split_gain': 0, 'reg_alpha': 0, 'reg_lambda': 0, 'nthread': 20, 'verbose': 0, 'boosting_type': 'gbdt', 'objective': 'binary', 'metric': 'auc'}\n",
      "Training until validation scores don't improve for 30 rounds.\n",
      "[50]\tvalid's auc: 0.984584\n",
      "[100]\tvalid's auc: 0.988302\n",
      "[150]\tvalid's auc: 0.989718\n",
      "[200]\tvalid's auc: 0.990264\n",
      "[250]\tvalid's auc: 0.990619\n",
      "[300]\tvalid's auc: 0.990864\n",
      "[350]\tvalid's auc: 0.990974\n",
      "[400]\tvalid's auc: 0.991047\n",
      "[450]\tvalid's auc: 0.991164\n",
      "[500]\tvalid's auc: 0.991249\n",
      "[550]\tvalid's auc: 0.991284\n",
      "[600]\tvalid's auc: 0.991319\n",
      "[650]\tvalid's auc: 0.991325\n",
      "Early stopping, best iteration is:\n",
      "[624]\tvalid's auc: 0.991342\n",
      "defaultdict(<class 'dict'>, {'valid': {'auc': 0.9913416796910859}})\n"
     ]
    }
   ],
   "source": [
    "for n in [200, 220, 240, 260]:\n",
    "    params['scale_pos_weight'] = n\n",
    "    print('scale_pos_weight', n)\n",
    "    print(params)\n",
    "    model =  lgb.train(params = params, train_set = dtrain, num_boost_round = 1000,\n",
    "                             valid_sets = [dtest], valid_names = ['valid'],\n",
    "                             verbose_eval = 50,\n",
    "                             early_stopping_rounds = 30)\n",
    "    \n",
    "    print(model.best_score)\n",
    "\n",
    "    pred = model.predict(test[features], model.best_iteration)\n",
    "\n",
    "    sub = pd.DataFrame()\n",
    "    sub['click_id'] = test['click_id'].astype('int')\n",
    "    sub['is_attributed'] = pred\n",
    "\n",
    "    sub.to_csv(str(n)+\"l28.csv\", index=False, float_format='%.9f')"
   ]
  },
  {
   "cell_type": "code",
   "execution_count": 10,
   "metadata": {},
   "outputs": [],
   "source": [
    "params = {'learning_rate': 0.05, 'num_leaves': 24, 'max_depth': 6, 'min_child_samples': 100, 'max_bin': 100, \n",
    "          'subsample': 0.7, 'subsample_freq': 1, 'colsample_bytree': 0.7, 'min_child_weight': 0, \n",
    "          'scale_pos_weight': 230, 'subsample_for_bin': 200000, 'min_split_gain': 0, 'reg_alpha': 0, \n",
    "          'reg_lambda': 0, 'nthread': 20, 'verbose': 0, 'boosting_type': 'gbdt',\n",
    "          'objective': 'binary', 'metric': 'auc'}"
   ]
  },
  {
   "cell_type": "code",
   "execution_count": 11,
   "metadata": {},
   "outputs": [
    {
     "name": "stdout",
     "output_type": "stream",
     "text": [
      "scale_pos_weight 230\n",
      "{'learning_rate': 0.05, 'num_leaves': 24, 'max_depth': 6, 'min_child_samples': 100, 'max_bin': 100, 'subsample': 0.7, 'subsample_freq': 1, 'colsample_bytree': 0.7, 'min_child_weight': 0, 'scale_pos_weight': 230, 'subsample_for_bin': 200000, 'min_split_gain': 0, 'reg_alpha': 0, 'reg_lambda': 0, 'nthread': 20, 'verbose': 0, 'boosting_type': 'gbdt', 'objective': 'binary', 'metric': 'auc'}\n"
     ]
    },
    {
     "name": "stderr",
     "output_type": "stream",
     "text": [
      "/home/amin/Software/anaconda3/lib/python3.6/site-packages/lightgbm/basic.py:1036: UserWarning: Using categorical_feature in Dataset.\n",
      "  warnings.warn('Using categorical_feature in Dataset.')\n"
     ]
    },
    {
     "name": "stdout",
     "output_type": "stream",
     "text": [
      "Training until validation scores don't improve for 30 rounds.\n",
      "[50]\tvalid's auc: 0.984178\n",
      "[100]\tvalid's auc: 0.987768\n",
      "[150]\tvalid's auc: 0.989378\n",
      "[200]\tvalid's auc: 0.990084\n",
      "[250]\tvalid's auc: 0.990447\n",
      "[300]\tvalid's auc: 0.990654\n",
      "[350]\tvalid's auc: 0.990785\n",
      "[400]\tvalid's auc: 0.990933\n",
      "[450]\tvalid's auc: 0.991049\n",
      "[500]\tvalid's auc: 0.991114\n",
      "[550]\tvalid's auc: 0.991121\n",
      "[600]\tvalid's auc: 0.991195\n",
      "[650]\tvalid's auc: 0.991219\n",
      "[700]\tvalid's auc: 0.991246\n",
      "[750]\tvalid's auc: 0.991272\n",
      "[800]\tvalid's auc: 0.991282\n",
      "[850]\tvalid's auc: 0.991298\n",
      "[900]\tvalid's auc: 0.991334\n",
      "[950]\tvalid's auc: 0.991374\n",
      "Early stopping, best iteration is:\n",
      "[940]\tvalid's auc: 0.991377\n",
      "defaultdict(<class 'dict'>, {'valid': {'auc': 0.9913773220203835}})\n"
     ]
    }
   ],
   "source": [
    "for n in [230]:\n",
    "    params['scale_pos_weight'] = n\n",
    "    print('scale_pos_weight', n)\n",
    "    print(params)\n",
    "    model =  lgb.train(params = params, train_set = dtrain, num_boost_round = 1000,\n",
    "                             valid_sets = [dtest], valid_names = ['valid'],\n",
    "                             verbose_eval = 50,\n",
    "                             early_stopping_rounds = 30)\n",
    "    \n",
    "    print(model.best_score)\n",
    "\n",
    "    pred = model.predict(test[features], model.best_iteration)\n",
    "\n",
    "    sub = pd.DataFrame()\n",
    "    sub['click_id'] = test['click_id'].astype('int')\n",
    "    sub['is_attributed'] = pred\n",
    "\n",
    "    sub.to_csv(str(n)+\".csv\", index=False, float_format='%.9f')"
   ]
  },
  {
   "cell_type": "code",
   "execution_count": 12,
   "metadata": {},
   "outputs": [],
   "source": [
    "params = {'learning_rate': 0.05, 'num_leaves': 34, 'max_depth': 6, 'min_child_samples': 100, 'max_bin': 100, \n",
    "          'subsample': 0.7, 'subsample_freq': 1, 'colsample_bytree': 0.7, 'min_child_weight': 0, \n",
    "          'scale_pos_weight': 230, 'subsample_for_bin': 200000, 'min_split_gain': 0, 'reg_alpha': 0, \n",
    "          'reg_lambda': 0, 'nthread': 20, 'verbose': 0, 'boosting_type': 'gbdt',\n",
    "          'objective': 'binary', 'metric': 'auc'}"
   ]
  },
  {
   "cell_type": "code",
   "execution_count": null,
   "metadata": {},
   "outputs": [
    {
     "name": "stdout",
     "output_type": "stream",
     "text": [
      "scale_pos_weight 200\n",
      "{'learning_rate': 0.05, 'num_leaves': 34, 'max_depth': 6, 'min_child_samples': 100, 'max_bin': 100, 'subsample': 0.7, 'subsample_freq': 1, 'colsample_bytree': 0.7, 'min_child_weight': 0, 'scale_pos_weight': 200, 'subsample_for_bin': 200000, 'min_split_gain': 0, 'reg_alpha': 0, 'reg_lambda': 0, 'nthread': 20, 'verbose': 0, 'boosting_type': 'gbdt', 'objective': 'binary', 'metric': 'auc'}\n"
     ]
    },
    {
     "name": "stderr",
     "output_type": "stream",
     "text": [
      "/home/amin/Software/anaconda3/lib/python3.6/site-packages/lightgbm/basic.py:1036: UserWarning: Using categorical_feature in Dataset.\n",
      "  warnings.warn('Using categorical_feature in Dataset.')\n"
     ]
    },
    {
     "name": "stdout",
     "output_type": "stream",
     "text": [
      "Training until validation scores don't improve for 30 rounds.\n",
      "[50]\tvalid's auc: 0.984699\n",
      "[100]\tvalid's auc: 0.988456\n",
      "[150]\tvalid's auc: 0.989799\n",
      "[200]\tvalid's auc: 0.990397\n",
      "[250]\tvalid's auc: 0.990671\n",
      "[300]\tvalid's auc: 0.990871\n",
      "[350]\tvalid's auc: 0.991004\n",
      "[400]\tvalid's auc: 0.991137\n",
      "[450]\tvalid's auc: 0.991257\n",
      "[500]\tvalid's auc: 0.991334\n",
      "[550]\tvalid's auc: 0.991398\n",
      "[600]\tvalid's auc: 0.991442\n",
      "[650]\tvalid's auc: 0.991461\n",
      "[700]\tvalid's auc: 0.991458\n",
      "Early stopping, best iteration is:\n",
      "[683]\tvalid's auc: 0.991475\n",
      "defaultdict(<class 'dict'>, {'valid': {'auc': 0.9914754711753446}})\n",
      "scale_pos_weight 220\n",
      "{'learning_rate': 0.05, 'num_leaves': 34, 'max_depth': 6, 'min_child_samples': 100, 'max_bin': 100, 'subsample': 0.7, 'subsample_freq': 1, 'colsample_bytree': 0.7, 'min_child_weight': 0, 'scale_pos_weight': 220, 'subsample_for_bin': 200000, 'min_split_gain': 0, 'reg_alpha': 0, 'reg_lambda': 0, 'nthread': 20, 'verbose': 0, 'boosting_type': 'gbdt', 'objective': 'binary', 'metric': 'auc'}\n",
      "Training until validation scores don't improve for 30 rounds.\n",
      "[50]\tvalid's auc: 0.984646\n",
      "[100]\tvalid's auc: 0.988459\n",
      "[150]\tvalid's auc: 0.989939\n",
      "[200]\tvalid's auc: 0.990497\n",
      "[250]\tvalid's auc: 0.990817\n",
      "[300]\tvalid's auc: 0.990992\n"
     ]
    }
   ],
   "source": [
    "for n in [200, 220]:\n",
    "    params['scale_pos_weight'] = n\n",
    "    print('scale_pos_weight', n)\n",
    "    print(params)\n",
    "    model =  lgb.train(params = params, train_set = dtrain, num_boost_round = 1000,\n",
    "                             valid_sets = [dtest], valid_names = ['valid'],\n",
    "                             verbose_eval = 50,\n",
    "                             early_stopping_rounds = 30)\n",
    "    \n",
    "    print(model.best_score)\n",
    "\n",
    "    pred = model.predict(test[features], model.best_iteration)\n",
    "\n",
    "    sub = pd.DataFrame()\n",
    "    sub['click_id'] = test['click_id'].astype('int')\n",
    "    sub['is_attributed'] = pred\n",
    "\n",
    "    sub.to_csv(str(n)+\"l32.csv\", index=False, float_format='%.9f')"
   ]
  },
  {
   "cell_type": "code",
   "execution_count": null,
   "metadata": {},
   "outputs": [],
   "source": []
  }
 ],
 "metadata": {
  "kernelspec": {
   "display_name": "Python 3",
   "language": "python",
   "name": "python3"
  },
  "language_info": {
   "codemirror_mode": {
    "name": "ipython",
    "version": 3
   },
   "file_extension": ".py",
   "mimetype": "text/x-python",
   "name": "python",
   "nbconvert_exporter": "python",
   "pygments_lexer": "ipython3",
   "version": "3.6.4"
  }
 },
 "nbformat": 4,
 "nbformat_minor": 2
}
