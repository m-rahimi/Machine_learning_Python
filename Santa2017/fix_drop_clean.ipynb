{
 "cells": [
  {
   "cell_type": "code",
   "execution_count": 1,
   "metadata": {
    "collapsed": true
   },
   "outputs": [],
   "source": [
    "import numpy as np\n",
    "import pandas as pd\n",
    "from ortools.graph import pywrapgraph\n",
    "from collections import defaultdict, Counter"
   ]
  },
  {
   "cell_type": "code",
   "execution_count": 2,
   "metadata": {
    "collapsed": false
   },
   "outputs": [],
   "source": [
    "sub = pd.read_csv('drop_t390_t260.csv').values.tolist()"
   ]
  },
  {
   "cell_type": "code",
   "execution_count": 3,
   "metadata": {
    "collapsed": false
   },
   "outputs": [],
   "source": [
    "triplets = 5001\n",
    "twins = 45001\n",
    "wish = pd.read_csv('Data/child_wishlist_v2.csv', header=None).as_matrix()[:twins, 1:]"
   ]
  },
  {
   "cell_type": "code",
   "execution_count": 4,
   "metadata": {
    "collapsed": false
   },
   "outputs": [
    {
     "name": "stdout",
     "output_type": "stream",
     "text": [
      "-1 4188\n",
      "defaultdict(<type 'int'>, {320L: 560, 272L: 253, 389L: 223, 998L: 467, 494L: 993, 240L: 247, 118L: 691, 186L: 10, 671L: 744})\n"
     ]
    }
   ],
   "source": [
    "counts = Counter(elem[1] for elem in sub)\n",
    "\n",
    "gifts_remain = defaultdict(int)\n",
    "for i,j in counts.items():\n",
    "    if j != 1000 and i != -1:\n",
    "        gifts_remain[i] = 1000 - j\n",
    "    if i == -1:\n",
    "        print i, j\n",
    "print gifts_remain"
   ]
  },
  {
   "cell_type": "code",
   "execution_count": 5,
   "metadata": {
    "collapsed": true
   },
   "outputs": [],
   "source": [
    "def fix_twins(score):\n",
    "    for child in range(triplets,twins,2):\n",
    "        gifts = set()\n",
    "        gift_happy = defaultdict(int)\n",
    "        if sub[child][1] == -1:\n",
    "            for j in range(2):\n",
    "                child2 = child + j\n",
    "                for index in range(100):\n",
    "                    gift = wish[child2][index]\n",
    "                    gifts.add(gift)\n",
    "                    gift_happy[gift] += (100 - index)*2\n",
    "\n",
    "            gift_add = []\n",
    "            for gift in gifts:\n",
    "                if gift in gifts_remain.keys():\n",
    "                    gift_add.append(gift)\n",
    "\n",
    "            if gift_add:            \n",
    "#                print child, gift_add#, gift_happy[gift]\n",
    "                for gift in gift_add:\n",
    "                    if gifts_remain[gift] >= 4 and gift_happy[gift] > score:\n",
    "                        print \"Twins\",child, gift, gift_happy[gift]\n",
    "                        sub[child][1] = gift\n",
    "                        sub[child+1][1] = gift\n",
    "                        gifts_remain[gift] -= 2"
   ]
  },
  {
   "cell_type": "code",
   "execution_count": 6,
   "metadata": {
    "collapsed": true
   },
   "outputs": [],
   "source": [
    "def fix_triplets(score):\n",
    "    for child in range(0,triplets,3):\n",
    "        gifts = set()\n",
    "        gift_happy = defaultdict(int)\n",
    "        if sub[child][1] == -1:\n",
    "            for j in range(3):\n",
    "                child3 = child + j\n",
    "                for index in range(100):\n",
    "                    gift = wish[child3][index]\n",
    "                    gifts.add(gift)\n",
    "                    gift_happy[gift] += (100 - index)*2\n",
    "\n",
    "            gift_add = []\n",
    "            for gift in gifts:\n",
    "                if gift in gifts_remain.keys():\n",
    "                    gift_add.append(gift)\n",
    "\n",
    "            if gift_add:            \n",
    "#                print child, gift_add#, gift_happy[gift]\n",
    "                for gift in gift_add:\n",
    "                    if (gifts_remain[gift] == 3 or gifts_remain[gift]>=5) and gift_happy[gift] > score:\n",
    "                        print \"Triplet\",child, gift, gift_happy[gift]\n",
    "                        sub[child][1] = gift\n",
    "                        sub[child+1][1] = gift\n",
    "                        sub[child+2][1] = gift\n",
    "                        gifts_remain[gift] -= 3"
   ]
  },
  {
   "cell_type": "code",
   "execution_count": 7,
   "metadata": {
    "collapsed": false
   },
   "outputs": [
    {
     "name": "stdout",
     "output_type": "stream",
     "text": [
      "Score 200\n",
      "Score 180\n",
      "Twins 16145 240 194\n",
      "Triplet 102 320 188\n",
      "Triplet 4467 118 188\n",
      "Score 160\n",
      "Triplet 84 389 164\n",
      "Triplet 2631 186 180\n",
      "Triplet 2682 389 170\n",
      "Triplet 4053 272 172\n",
      "Triplet 4356 671 178\n",
      "Score 140\n",
      "Triplet 915 186 156\n",
      "Triplet 2814 389 152\n",
      "Score 120\n",
      "Twins 5671 186 138\n",
      "Twins 28389 389 124\n",
      "Triplet 834 272 122\n",
      "Triplet 2247 998 138\n",
      "Triplet 2517 118 128\n",
      "Score 100\n",
      "Triplet 2691 998 112\n",
      "Triplet 4728 240 112\n",
      "Score 80\n",
      "Twins 13561 998 86\n",
      "Twins 28205 240 86\n",
      "Triplet 2022 389 90\n",
      "Triplet 3864 320 90\n",
      "Score 60\n",
      "Triplet 732 240 74\n",
      "Triplet 786 240 68\n",
      "Triplet 1713 272 70\n",
      "Triplet 3399 118 76\n",
      "Triplet 3528 320 74\n",
      "Triplet 4458 118 70\n",
      "Score 40\n",
      "Triplet 2145 320 56\n",
      "Score 20\n",
      "Triplet 2505 240 38\n"
     ]
    }
   ],
   "source": [
    "for i in range(200,0,-20):\n",
    "    print \"Score\", i\n",
    "    fix_twins(i)\n",
    "    fix_triplets(i)"
   ]
  },
  {
   "cell_type": "code",
   "execution_count": 9,
   "metadata": {
    "collapsed": false
   },
   "outputs": [
    {
     "name": "stdout",
     "output_type": "stream",
     "text": [
      "defaultdict(<type 'int'>, {320L: 548, 272L: 244, 389L: 209, 998L: 459, 494L: 993, 240L: 231, 118L: 679, 186L: 2, 671L: 741})\n"
     ]
    }
   ],
   "source": [
    "print gifts_remain"
   ]
  },
  {
   "cell_type": "code",
   "execution_count": 8,
   "metadata": {
    "collapsed": false
   },
   "outputs": [
    {
     "name": "stdout",
     "output_type": "stream",
     "text": [
      "Add remained gift to childs\n"
     ]
    }
   ],
   "source": [
    "print \"Add remained gift to childs\""
   ]
  },
  {
   "cell_type": "code",
   "execution_count": 9,
   "metadata": {
    "collapsed": false
   },
   "outputs": [
    {
     "name": "stdout",
     "output_type": "stream",
     "text": [
      "Ntwins 532\n",
      "Ntriplets 1014\n"
     ]
    }
   ],
   "source": [
    "Ntwins = 0\n",
    "for child in range(triplets,twins,2):\n",
    "    if sub[child][1] == -1:\n",
    "        Ntwins += 1\n",
    "        \n",
    "Ntriplets = 0\n",
    "for child in range(0,triplets,3):\n",
    "    if sub[child][1] == -1:\n",
    "        Ntriplets += 1\n",
    "\n",
    "print \"Ntwins\", Ntwins\n",
    "print \"Ntriplets\", Ntriplets"
   ]
  },
  {
   "cell_type": "code",
   "execution_count": 10,
   "metadata": {
    "collapsed": false
   },
   "outputs": [
    {
     "name": "stdout",
     "output_type": "stream",
     "text": [
      "defaultdict(<type 'int'>, {320L: 546, 272L: 240, 389L: 204, 998L: 456, 494L: 990, 240L: 228, 118L: 672, 186L: 0, 671L: 738})\n"
     ]
    }
   ],
   "source": [
    "gifts = gifts_remain.keys()\n",
    "n2 = defaultdict(int); n3 = defaultdict(int)\n",
    "for gift in gifts:\n",
    "    if gifts_remain[gift] % 6 == 1:\n",
    "        gifts_remain[gift] -= 7\n",
    "        Ntwins -= 2\n",
    "        n2[gift] = 2\n",
    "        Ntriplets -= 1\n",
    "        n3[gift] = 1\n",
    "    elif gifts_remain[gift] % 6 == 2:\n",
    "        gifts_remain[gift] -= 2\n",
    "        Ntwins -= 1\n",
    "        n2[gift] = 1\n",
    "    elif gifts_remain[gift] % 6 == 3:\n",
    "        gifts_remain[gift] -= 3\n",
    "        Ntriplets -= 1\n",
    "        n3[gift] = 1\n",
    "    elif gifts_remain[gift] % 6 == 4:\n",
    "        gifts_remain[gift] -= 4\n",
    "        Ntwins -= 2\n",
    "        n2[gift] = 2\n",
    "    elif gifts_remain[gift] % 6 == 5:\n",
    "        gifts_remain[gift] -= 5\n",
    "        Ntwins -= 1\n",
    "        n2[gift] = 1\n",
    "        Ntriplets -= 1\n",
    "        n3[gift] = 1\n",
    "print gifts_remain"
   ]
  },
  {
   "cell_type": "code",
   "execution_count": 11,
   "metadata": {
    "collapsed": false
   },
   "outputs": [
    {
     "name": "stdout",
     "output_type": "stream",
     "text": [
      "525 1008\n"
     ]
    }
   ],
   "source": [
    "print Ntwins, Ntriplets"
   ]
  },
  {
   "cell_type": "code",
   "execution_count": 12,
   "metadata": {
    "collapsed": false
   },
   "outputs": [
    {
     "name": "stdout",
     "output_type": "stream",
     "text": [
      "defaultdict(<type 'int'>, {320L: 1, 272L: 2, 186L: 1, 389L: 1, 118L: 2})\n",
      "defaultdict(<type 'int'>, {389L: 1, 998L: 1, 494L: 1, 240L: 1, 118L: 1, 671L: 1})\n"
     ]
    }
   ],
   "source": [
    "print n2\n",
    "print n3"
   ]
  },
  {
   "cell_type": "code",
   "execution_count": 13,
   "metadata": {
    "collapsed": false
   },
   "outputs": [],
   "source": [
    "for i in range(0,Ntwins/3):\n",
    "    for gift in gifts:\n",
    "        if gifts_remain[gift] > 0 :\n",
    "            gifts_remain[gift] -= 6\n",
    "            n2[gift] += 3\n",
    "            break"
   ]
  },
  {
   "cell_type": "code",
   "execution_count": 14,
   "metadata": {
    "collapsed": false
   },
   "outputs": [
    {
     "name": "stdout",
     "output_type": "stream",
     "text": [
      "defaultdict(<type 'int'>, {320L: 0, 272L: 0, 389L: 0, 998L: 396, 494L: 990, 240L: 228, 118L: 672, 186L: 0, 671L: 738})\n"
     ]
    }
   ],
   "source": [
    "print gifts_remain"
   ]
  },
  {
   "cell_type": "code",
   "execution_count": 15,
   "metadata": {
    "collapsed": false
   },
   "outputs": [],
   "source": [
    "for i in range(0,Ntriplets/2):\n",
    "    for gift in gifts:\n",
    "        if gifts_remain[gift] > 0 :\n",
    "            gifts_remain[gift] -= 6\n",
    "            n3[gift] += 2\n",
    "            break"
   ]
  },
  {
   "cell_type": "code",
   "execution_count": 16,
   "metadata": {
    "collapsed": false
   },
   "outputs": [
    {
     "name": "stdout",
     "output_type": "stream",
     "text": [
      "defaultdict(<type 'int'>, {320L: 0, 272L: 0, 389L: 0, 998L: 0, 494L: 0, 240L: 0, 118L: 0, 186L: 0, 671L: 0})\n"
     ]
    }
   ],
   "source": [
    "print gifts_remain"
   ]
  },
  {
   "cell_type": "code",
   "execution_count": 17,
   "metadata": {
    "collapsed": false
   },
   "outputs": [
    {
     "name": "stdout",
     "output_type": "stream",
     "text": [
      "defaultdict(<type 'int'>, {320L: 274, 389L: 103, 998L: 30, 272L: 122, 118L: 2, 186L: 1})\n",
      "defaultdict(<type 'int'>, {389L: 1, 998L: 133, 494L: 331, 240L: 77, 118L: 225, 671L: 247})\n"
     ]
    }
   ],
   "source": [
    "print n2\n",
    "print n3"
   ]
  },
  {
   "cell_type": "code",
   "execution_count": 18,
   "metadata": {
    "collapsed": false
   },
   "outputs": [
    {
     "name": "stdout",
     "output_type": "stream",
     "text": [
      "-1 4106\n",
      "defaultdict(<type 'int'>, {320: 548, 272: 244, 389: 209, 998: 459, 494L: 993, 240: 231, 118: 679, 186: 2, 671: 741})\n"
     ]
    }
   ],
   "source": [
    "counts = Counter(elem[1] for elem in sub)\n",
    "\n",
    "gifts_remain = defaultdict(int)\n",
    "for i,j in counts.items():\n",
    "    if j != 1000 and i != -1:\n",
    "        gifts_remain[i] = 1000 - j\n",
    "    if i == -1:\n",
    "        print i, j\n",
    "print gifts_remain"
   ]
  },
  {
   "cell_type": "code",
   "execution_count": 19,
   "metadata": {
    "collapsed": false
   },
   "outputs": [],
   "source": [
    "# Twins\n",
    "gifts = n2.keys()\n",
    "for child in range(triplets,twins,2):\n",
    "    if sub[child][1] == -1:\n",
    "        for gift in gifts:\n",
    "            if n2[gift]>0 :\n",
    "                sub[child][1] = gift\n",
    "                sub[child+1][1] = gift\n",
    "                gifts_remain[gift] -= 2\n",
    "                n2[gift] -= 1\n",
    "                break"
   ]
  },
  {
   "cell_type": "code",
   "execution_count": 20,
   "metadata": {
    "collapsed": true
   },
   "outputs": [],
   "source": [
    "# Triplets\n",
    "gifts = n3.keys()\n",
    "for child in range(0,triplets,3):\n",
    "    if sub[child][1] == -1:\n",
    "        for gift in gifts:\n",
    "            if (gifts_remain[gift] == 3 or gifts_remain[gift]>=5):\n",
    "                sub[child][1] = gift\n",
    "                sub[child+1][1] = gift\n",
    "                sub[child+2][1] = gift\n",
    "                gifts_remain[gift] -= 3\n",
    "                n3[gift] -= 1\n",
    "                break"
   ]
  },
  {
   "cell_type": "code",
   "execution_count": 21,
   "metadata": {
    "collapsed": false
   },
   "outputs": [
    {
     "name": "stdout",
     "output_type": "stream",
     "text": [
      "defaultdict(<type 'int'>, {320: 0, 272: 0, 389: 0, 998: 0, 494L: 0, 240: 0, 118: 0, 186: 0, 671: 0})\n"
     ]
    }
   ],
   "source": [
    "print gifts_remain"
   ]
  },
  {
   "cell_type": "code",
   "execution_count": 22,
   "metadata": {
    "collapsed": false
   },
   "outputs": [
    {
     "name": "stdout",
     "output_type": "stream",
     "text": [
      "defaultdict(<type 'int'>, {})\n"
     ]
    }
   ],
   "source": [
    "counts = Counter(elem[1] for elem in sub)\n",
    "\n",
    "gifts = defaultdict(int)\n",
    "for i,j in counts.items():\n",
    "    if j != 1000 and i != -1:\n",
    "        gifts[i] = j\n",
    "    if i == -1:\n",
    "        print \"There is a problem\", i, j\n",
    "print gifts"
   ]
  },
  {
   "cell_type": "code",
   "execution_count": 23,
   "metadata": {
    "collapsed": false
   },
   "outputs": [],
   "source": [
    "out = open('drop_t390_t260_fix5_2.csv', 'w')\n",
    "out.write('ChildId,GiftId\\n')\n",
    "for i in range(len(sub)):\n",
    "    out.write(str(sub[i][0]) + ',' + str(sub[i][1]) + '\\n')\n",
    "out.close()"
   ]
  }
 ],
 "metadata": {
  "kernelspec": {
   "display_name": "Python [Root]",
   "language": "python",
   "name": "Python [Root]"
  },
  "language_info": {
   "codemirror_mode": {
    "name": "ipython",
    "version": 2
   },
   "file_extension": ".py",
   "mimetype": "text/x-python",
   "name": "python",
   "nbconvert_exporter": "python",
   "pygments_lexer": "ipython2",
   "version": "2.7.12"
  }
 },
 "nbformat": 4,
 "nbformat_minor": 2
}
