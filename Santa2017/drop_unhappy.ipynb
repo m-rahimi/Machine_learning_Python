{
 "cells": [
  {
   "cell_type": "code",
   "execution_count": 1,
   "metadata": {
    "collapsed": true
   },
   "outputs": [],
   "source": [
    "import numpy as np\n",
    "import pandas as pd\n",
    "from ortools.graph import pywrapgraph\n",
    "from collections import defaultdict"
   ]
  },
  {
   "cell_type": "markdown",
   "metadata": {},
   "source": [
    "# Triplets"
   ]
  },
  {
   "cell_type": "code",
   "execution_count": 2,
   "metadata": {
    "collapsed": false
   },
   "outputs": [],
   "source": [
    "triplets = 5001\n",
    "wish = pd.read_csv('Data/child_wishlist_v2.csv', header=None).as_matrix()[:triplets, 1:]\n",
    "#sant = pd.read_csv('Data/gift_goodkids_v2.csv', header=None).as_matrix()[:, 1:]"
   ]
  },
  {
   "cell_type": "code",
   "execution_count": 3,
   "metadata": {
    "collapsed": false
   },
   "outputs": [],
   "source": [
    "edgeMap = defaultdict(int)\n",
    "child3 = 0\n",
    "for i in range(0,triplets,3):\n",
    "    for j in range(3):\n",
    "        child = i + j\n",
    "        for gift in range(100):\n",
    "            edgeMap[(child3, wish[child][gift])] += (100 - gift)*2\n",
    "    child3 += 1"
   ]
  },
  {
   "cell_type": "code",
   "execution_count": 4,
   "metadata": {
    "collapsed": false
   },
   "outputs": [],
   "source": [
    "padding = 1667\n",
    "start_nodes = []\n",
    "end_nodes = []\n",
    "capacities = []\n",
    "unit_costs = []\n",
    "supplies = []\n",
    "\n",
    "for h in edgeMap:\n",
    "    c, g = h\n",
    "    start_nodes.append(int(c))\n",
    "    end_nodes.append(int(padding + g))\n",
    "    capacities.append(1)\n",
    "    unit_costs.append(-edgeMap[h])"
   ]
  },
  {
   "cell_type": "code",
   "execution_count": 5,
   "metadata": {
    "collapsed": false
   },
   "outputs": [],
   "source": [
    "for i in range(padding):\n",
    "    supplies.append(1)\n",
    "for j in range(padding, padding+1000):\n",
    "    supplies.append(-1000)"
   ]
  },
  {
   "cell_type": "code",
   "execution_count": 6,
   "metadata": {
    "collapsed": true
   },
   "outputs": [],
   "source": [
    "min_cost_flow = pywrapgraph.SimpleMinCostFlow()"
   ]
  },
  {
   "cell_type": "code",
   "execution_count": 7,
   "metadata": {
    "collapsed": true
   },
   "outputs": [],
   "source": [
    "for i in range(0, len(start_nodes)):\n",
    "    min_cost_flow.AddArcWithCapacityAndUnitCost(start_nodes[i], end_nodes[i], capacities[i], unit_costs[i])"
   ]
  },
  {
   "cell_type": "code",
   "execution_count": 8,
   "metadata": {
    "collapsed": true
   },
   "outputs": [],
   "source": [
    "# Add node supplies.\n",
    "for i in range(0, len(supplies)):\n",
    "    min_cost_flow.SetNodeSupply(i, supplies[i])"
   ]
  },
  {
   "cell_type": "code",
   "execution_count": 9,
   "metadata": {
    "collapsed": false
   },
   "outputs": [
    {
     "name": "stdout",
     "output_type": "stream",
     "text": [
      "Start solve....\n",
      "('Maximum flow:', 1667)\n",
      "('Optimal cost:', 653360)\n",
      "('Num arcs:', 438244)\n"
     ]
    }
   ],
   "source": [
    "# Find the minimum cost flow\n",
    "print('Start solve....')\n",
    "min_cost_flow.SolveMaxFlowWithMinCost()\n",
    "res1 = min_cost_flow.MaximumFlow()\n",
    "print('Maximum flow:', res1)\n",
    "res2 = min_cost_flow.OptimalCost()\n",
    "print('Optimal cost:', -res2 )\n",
    "print('Num arcs:', min_cost_flow.NumArcs())"
   ]
  },
  {
   "cell_type": "code",
   "execution_count": 10,
   "metadata": {
    "collapsed": false
   },
   "outputs": [],
   "source": [
    "pred = defaultdict(int)\n",
    "for i in range(min_cost_flow.NumArcs()):\n",
    "    cost = min_cost_flow.Flow(i) * min_cost_flow.UnitCost(i)\n",
    "    if cost != 0:\n",
    "        pred[min_cost_flow.Tail(i)] = min_cost_flow.Head(i) - padding"
   ]
  },
  {
   "cell_type": "code",
   "execution_count": 11,
   "metadata": {
    "collapsed": false
   },
   "outputs": [],
   "source": [
    "happiness = np.zeros(1667, dtype=np.int32)\n",
    "for child3 in range(1667):\n",
    "    gift = pred[child3]\n",
    "    child_happiness = 0\n",
    "    for j in range(3):\n",
    "        child = child3*3 + j\n",
    "        flag = np.where(wish[child]==gift)[0] + 1\n",
    "        if not flag:\n",
    "            child_happiness += -1\n",
    "        else:\n",
    "            child_happiness += (101 - flag[0]) * 2\n",
    "    happiness[child3] = child_happiness"
   ]
  },
  {
   "cell_type": "code",
   "execution_count": 12,
   "metadata": {
    "collapsed": false
   },
   "outputs": [
    {
     "name": "stdout",
     "output_type": "stream",
     "text": [
      "Number of triplets unhappy 253\n"
     ]
    }
   ],
   "source": [
    "unhappy = np.where(happiness < 350)[0]\n",
    "print \"Number of triplets unhappy\", len(unhappy)\n",
    "for i in unhappy:\n",
    "    pred[i] = -1\n",
    "    \n",
    "answ3 = np.zeros(3*padding, dtype=np.int32)\n",
    "answ3[:] = -1\n",
    "for i in pred.keys():\n",
    "    answ3[i*3] = pred[i]\n",
    "    answ3[i*3 + 1] = pred[i]\n",
    "    answ3[i*3 + 2] = pred[i]"
   ]
  },
  {
   "cell_type": "markdown",
   "metadata": {},
   "source": [
    "# Twins"
   ]
  },
  {
   "cell_type": "code",
   "execution_count": 13,
   "metadata": {
    "collapsed": true
   },
   "outputs": [],
   "source": [
    "twins = 45001\n",
    "wish = pd.read_csv('Data/child_wishlist_v2.csv', header=None).as_matrix()[triplets:twins, 1:]"
   ]
  },
  {
   "cell_type": "code",
   "execution_count": 14,
   "metadata": {
    "collapsed": false
   },
   "outputs": [
    {
     "name": "stdout",
     "output_type": "stream",
     "text": [
      "20000\n"
     ]
    }
   ],
   "source": [
    "n_twins = 40000\n",
    "edgeMap = defaultdict(int)\n",
    "child2 = 0\n",
    "for i in range(0,n_twins,2):\n",
    "    for j in range(2):\n",
    "        child = i + j\n",
    "        for gift in range(100):\n",
    "            edgeMap[(child2, wish[child][gift])] += (100 - gift)*2\n",
    "    child2 += 1\n",
    "    \n",
    "print child2"
   ]
  },
  {
   "cell_type": "code",
   "execution_count": 15,
   "metadata": {
    "collapsed": true
   },
   "outputs": [],
   "source": [
    "padding = 20000\n",
    "start_nodes = []\n",
    "end_nodes = []\n",
    "capacities = []\n",
    "unit_costs = []\n",
    "supplies = []\n",
    "\n",
    "for h in edgeMap:\n",
    "    c, g = h\n",
    "    start_nodes.append(int(c))\n",
    "    end_nodes.append(int(padding + g))\n",
    "    capacities.append(1)\n",
    "    unit_costs.append(-edgeMap[h])"
   ]
  },
  {
   "cell_type": "code",
   "execution_count": 16,
   "metadata": {
    "collapsed": true
   },
   "outputs": [],
   "source": [
    "for i in range(padding):\n",
    "    supplies.append(1)\n",
    "for j in range(padding, padding+1000):\n",
    "    supplies.append(-1000)"
   ]
  },
  {
   "cell_type": "code",
   "execution_count": 17,
   "metadata": {
    "collapsed": true
   },
   "outputs": [],
   "source": [
    "min_cost_flow = pywrapgraph.SimpleMinCostFlow()"
   ]
  },
  {
   "cell_type": "code",
   "execution_count": 18,
   "metadata": {
    "collapsed": true
   },
   "outputs": [],
   "source": [
    "for i in range(0, len(start_nodes)):\n",
    "    min_cost_flow.AddArcWithCapacityAndUnitCost(start_nodes[i], end_nodes[i], capacities[i], unit_costs[i])"
   ]
  },
  {
   "cell_type": "code",
   "execution_count": 19,
   "metadata": {
    "collapsed": true
   },
   "outputs": [],
   "source": [
    "# Add node supplies.\n",
    "for i in range(0, len(supplies)):\n",
    "    min_cost_flow.SetNodeSupply(i, supplies[i])"
   ]
  },
  {
   "cell_type": "code",
   "execution_count": 20,
   "metadata": {
    "collapsed": false
   },
   "outputs": [
    {
     "name": "stdout",
     "output_type": "stream",
     "text": [
      "Start solve....\n",
      "('Maximum flow:', 20000)\n",
      "('Optimal cost:', 6691120)\n",
      "('Num arcs:', 3739339)\n"
     ]
    }
   ],
   "source": [
    "# Find the minimum cost flow\n",
    "print('Start solve....')\n",
    "min_cost_flow.SolveMaxFlowWithMinCost()\n",
    "res1 = min_cost_flow.MaximumFlow()\n",
    "print('Maximum flow:', res1)\n",
    "res2 = min_cost_flow.OptimalCost()\n",
    "print('Optimal cost:', -res2 )\n",
    "print('Num arcs:', min_cost_flow.NumArcs())"
   ]
  },
  {
   "cell_type": "code",
   "execution_count": 21,
   "metadata": {
    "collapsed": false
   },
   "outputs": [],
   "source": [
    "pred = defaultdict(int)\n",
    "for i in range(min_cost_flow.NumArcs()):\n",
    "    cost = min_cost_flow.Flow(i) * min_cost_flow.UnitCost(i)\n",
    "    if cost != 0:\n",
    "        pred[min_cost_flow.Tail(i)] = min_cost_flow.Head(i) - padding"
   ]
  },
  {
   "cell_type": "code",
   "execution_count": 22,
   "metadata": {
    "collapsed": false
   },
   "outputs": [],
   "source": [
    "happiness = np.zeros(20000, dtype=np.int32)\n",
    "for child2 in range(20000):\n",
    "    gift = pred[child2]\n",
    "    child_happiness = 0\n",
    "    for j in range(2):\n",
    "        child = child2*2 + j\n",
    "        flag = np.where(wish[child]==gift)[0] + 1\n",
    "        if not flag:\n",
    "            child_happiness += -1\n",
    "        else:\n",
    "            child_happiness += (101 - flag[0]) * 2\n",
    "    happiness[child2] = child_happiness"
   ]
  },
  {
   "cell_type": "code",
   "execution_count": 26,
   "metadata": {
    "collapsed": false
   },
   "outputs": [
    {
     "name": "stdout",
     "output_type": "stream",
     "text": [
      "Number of triplets unhappy 537\n"
     ]
    }
   ],
   "source": [
    "unhappy = np.where(happiness < 260)[0]\n",
    "print \"Number of triplets unhappy\", len(unhappy)\n",
    "for i in unhappy:\n",
    "    pred[i] = -1\n",
    "    \n",
    "answ2 = np.zeros(2*padding, dtype=np.int32)\n",
    "answ2[:] = -1\n",
    "for i in pred.keys():\n",
    "     answ2[i*2] = pred[i]\n",
    "     answ2[i*2 + 1] = pred[i]"
   ]
  },
  {
   "cell_type": "code",
   "execution_count": null,
   "metadata": {
    "collapsed": true
   },
   "outputs": [],
   "source": []
  },
  {
   "cell_type": "markdown",
   "metadata": {},
   "source": [
    "# combine triplets and twins"
   ]
  },
  {
   "cell_type": "code",
   "execution_count": 33,
   "metadata": {
    "collapsed": true
   },
   "outputs": [],
   "source": [
    "answ = np.zeros(twins, dtype=np.int32)\n",
    "answ[:] = -1"
   ]
  },
  {
   "cell_type": "code",
   "execution_count": 34,
   "metadata": {
    "collapsed": false
   },
   "outputs": [],
   "source": [
    "for i in range(len(answ3)):\n",
    "    answ[i] = answ3[i]\n",
    "for i in range(len(answ2)):\n",
    "    answ[i+triplets] = answ2[i]"
   ]
  },
  {
   "cell_type": "code",
   "execution_count": 35,
   "metadata": {
    "collapsed": true
   },
   "outputs": [],
   "source": [
    "from collections import Counter\n",
    "counts = Counter(elem for elem in answ)"
   ]
  },
  {
   "cell_type": "markdown",
   "metadata": {},
   "source": [
    "# Single"
   ]
  },
  {
   "cell_type": "code",
   "execution_count": 37,
   "metadata": {
    "collapsed": true
   },
   "outputs": [],
   "source": [
    "twins = 45001\n",
    "wish = pd.read_csv('Data/child_wishlist_v2.csv', header=None).as_matrix()[twins:, 1:]\n",
    "#sant = pd.read_csv('Data/gift_goodkids_v2.csv', header=None).as_matrix()[:, 1:]"
   ]
  },
  {
   "cell_type": "code",
   "execution_count": 38,
   "metadata": {
    "collapsed": false
   },
   "outputs": [
    {
     "ename": "KeyboardInterrupt",
     "evalue": "",
     "output_type": "error",
     "traceback": [
      "\u001b[1;31m\u001b[0m",
      "\u001b[1;31mKeyboardInterrupt\u001b[0mTraceback (most recent call last)",
      "\u001b[1;32m<ipython-input-38-00d23de6a028>\u001b[0m in \u001b[0;36m<module>\u001b[1;34m()\u001b[0m\n\u001b[0;32m      2\u001b[0m \u001b[1;32mfor\u001b[0m \u001b[0mchild\u001b[0m \u001b[1;32min\u001b[0m \u001b[0mrange\u001b[0m\u001b[1;33m(\u001b[0m\u001b[0mwish\u001b[0m\u001b[1;33m.\u001b[0m\u001b[0mshape\u001b[0m\u001b[1;33m[\u001b[0m\u001b[1;36m0\u001b[0m\u001b[1;33m]\u001b[0m\u001b[1;33m)\u001b[0m\u001b[1;33m:\u001b[0m\u001b[1;33m\u001b[0m\u001b[0m\n\u001b[0;32m      3\u001b[0m     \u001b[1;32mfor\u001b[0m \u001b[0mgift\u001b[0m \u001b[1;32min\u001b[0m \u001b[0mrange\u001b[0m\u001b[1;33m(\u001b[0m\u001b[1;36m100\u001b[0m\u001b[1;33m)\u001b[0m\u001b[1;33m:\u001b[0m\u001b[1;33m\u001b[0m\u001b[0m\n\u001b[1;32m----> 4\u001b[1;33m         \u001b[0medgeMap\u001b[0m\u001b[1;33m[\u001b[0m\u001b[1;33m(\u001b[0m\u001b[0mchild\u001b[0m\u001b[1;33m,\u001b[0m \u001b[0mwish\u001b[0m\u001b[1;33m[\u001b[0m\u001b[0mchild\u001b[0m\u001b[1;33m]\u001b[0m\u001b[1;33m[\u001b[0m\u001b[0mgift\u001b[0m\u001b[1;33m]\u001b[0m\u001b[1;33m)\u001b[0m\u001b[1;33m]\u001b[0m \u001b[1;33m+=\u001b[0m \u001b[1;33m(\u001b[0m\u001b[1;36m1\u001b[0m \u001b[1;33m+\u001b[0m \u001b[1;33m(\u001b[0m\u001b[1;36m100\u001b[0m \u001b[1;33m-\u001b[0m \u001b[0mgift\u001b[0m\u001b[1;33m)\u001b[0m\u001b[1;33m*\u001b[0m\u001b[1;36m2\u001b[0m\u001b[1;33m)\u001b[0m\u001b[1;33m*\u001b[0m\u001b[1;36m100\u001b[0m\u001b[1;33m\u001b[0m\u001b[0m\n\u001b[0m",
      "\u001b[1;31mKeyboardInterrupt\u001b[0m: "
     ]
    }
   ],
   "source": [
    "edgeMap = defaultdict(int)\n",
    "for child in range(wish.shape[0]):\n",
    "    for gift in range(100):\n",
    "        edgeMap[(child, wish[child][gift])] += (1 + (100 - gift)*2)*100"
   ]
  },
  {
   "cell_type": "code",
   "execution_count": 27,
   "metadata": {
    "collapsed": false
   },
   "outputs": [],
   "source": [
    "# for gift in range(sant.shape[0]):\n",
    "#     for i in range(sant.shape[1]):\n",
    "#         child = sant[gift][i] - twins\n",
    "#         if child >= 0 and child < 10000: #must modified\n",
    "#             child2 = child / 2\n",
    "#             edgeMap[(child2, gift)] += 1 + (1000 - i)*2"
   ]
  },
  {
   "cell_type": "code",
   "execution_count": 28,
   "metadata": {
    "collapsed": true
   },
   "outputs": [],
   "source": [
    "padding = wish.shape[0]\n",
    "start_nodes = []\n",
    "end_nodes = []\n",
    "capacities = []\n",
    "unit_costs = []\n",
    "supplies = []\n",
    "\n",
    "for h in edgeMap:\n",
    "    c, g = h\n",
    "    start_nodes.append(int(c))\n",
    "    end_nodes.append(int(padding + g))\n",
    "    capacities.append(1)\n",
    "    unit_costs.append(-edgeMap[h])"
   ]
  },
  {
   "cell_type": "code",
   "execution_count": 29,
   "metadata": {
    "collapsed": true
   },
   "outputs": [],
   "source": [
    "for i in range(padding):\n",
    "    supplies.append(1)\n",
    "for j in range(padding, padding+1000):\n",
    "    supplies.append(-1000+counts[j])"
   ]
  },
  {
   "cell_type": "code",
   "execution_count": 30,
   "metadata": {
    "collapsed": true
   },
   "outputs": [],
   "source": [
    "min_cost_flow = pywrapgraph.SimpleMinCostFlow()"
   ]
  },
  {
   "cell_type": "code",
   "execution_count": 31,
   "metadata": {
    "collapsed": true
   },
   "outputs": [],
   "source": [
    "for i in range(0, len(start_nodes)):\n",
    "    min_cost_flow.AddArcWithCapacityAndUnitCost(start_nodes[i], end_nodes[i], capacities[i], unit_costs[i])"
   ]
  },
  {
   "cell_type": "code",
   "execution_count": 32,
   "metadata": {
    "collapsed": true
   },
   "outputs": [],
   "source": [
    "# Add node supplies.\n",
    "for i in range(0, len(supplies)):\n",
    "    min_cost_flow.SetNodeSupply(i, supplies[i-padding])"
   ]
  },
  {
   "cell_type": "code",
   "execution_count": 33,
   "metadata": {
    "collapsed": false
   },
   "outputs": [
    {
     "name": "stdout",
     "output_type": "stream",
     "text": [
      "Start solve....\n",
      "('Maximum flow:', 10000)\n",
      "('Optimal cost:', 201037445)\n",
      "('Num arcs:', 1008836)\n"
     ]
    }
   ],
   "source": [
    "# Find the minimum cost flow\n",
    "print('Start solve....')\n",
    "min_cost_flow.SolveMaxFlowWithMinCost()\n",
    "res1 = min_cost_flow.MaximumFlow()\n",
    "print('Maximum flow:', res1)\n",
    "res2 = min_cost_flow.OptimalCost()\n",
    "print('Optimal cost:', -res2 )\n",
    "print('Num arcs:', min_cost_flow.NumArcs())"
   ]
  },
  {
   "cell_type": "code",
   "execution_count": 34,
   "metadata": {
    "collapsed": true
   },
   "outputs": [],
   "source": [
    "answ1 = np.zeros(padding, dtype=np.int32)\n",
    "answ1[:] = -1\n",
    "for i in range(min_cost_flow.NumArcs()):\n",
    "    cost = min_cost_flow.Flow(i) * min_cost_flow.UnitCost(i)\n",
    "    if cost != 0:\n",
    "        answ1[min_cost_flow.Tail(i)] = min_cost_flow.Head(i) - padding"
   ]
  },
  {
   "cell_type": "markdown",
   "metadata": {},
   "source": [
    "# write out put"
   ]
  },
  {
   "cell_type": "code",
   "execution_count": 37,
   "metadata": {
    "collapsed": false
   },
   "outputs": [],
   "source": [
    "out = open('subm.csv', 'w')\n",
    "out.write('ChildId,GiftId\\n')\n",
    "for i in range(len(answ)):\n",
    "    out.write(str(i) + ',' + str(answ[i]) + '\\n')\n",
    "for i in range(len(answ1)):\n",
    "    out.write(str(i+twins) + ',' + str(answ1[i]) + '\\n')\n",
    "out.close()"
   ]
  }
 ],
 "metadata": {
  "anaconda-cloud": {},
  "kernelspec": {
   "display_name": "Python [Root]",
   "language": "python",
   "name": "Python [Root]"
  },
  "language_info": {
   "codemirror_mode": {
    "name": "ipython",
    "version": 2
   },
   "file_extension": ".py",
   "mimetype": "text/x-python",
   "name": "python",
   "nbconvert_exporter": "python",
   "pygments_lexer": "ipython2",
   "version": "2.7.12"
  }
 },
 "nbformat": 4,
 "nbformat_minor": 2
}
