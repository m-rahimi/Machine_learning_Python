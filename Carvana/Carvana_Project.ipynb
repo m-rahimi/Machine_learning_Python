{
 "cells": [
  {
   "cell_type": "markdown",
   "metadata": {},
   "source": [
    "# Carvana Take Home Interview Exercise"
   ]
  },
  {
   "cell_type": "code",
   "execution_count": 1,
   "metadata": {},
   "outputs": [],
   "source": [
    "import numpy as np\n",
    "import pandas as pd"
   ]
  },
  {
   "cell_type": "code",
   "execution_count": 2,
   "metadata": {},
   "outputs": [
    {
     "data": {
      "text/plain": [
       "(3886, 12)"
      ]
     },
     "execution_count": 2,
     "metadata": {},
     "output_type": "execute_result"
    }
   ],
   "source": [
    "df = pd.read_csv(\"Apple-Twitter-Sentiment-DFE.csv\", encoding = \"ISO-8859-1\", parse_dates=[\"date\"])\n",
    "df.shape"
   ]
  },
  {
   "cell_type": "code",
   "execution_count": 3,
   "metadata": {},
   "outputs": [
    {
     "data": {
      "text/plain": [
       "3               2162\n",
       "1               1219\n",
       "5                423\n",
       "not_relevant      82\n",
       "Name: sentiment, dtype: int64"
      ]
     },
     "execution_count": 3,
     "metadata": {},
     "output_type": "execute_result"
    }
   ],
   "source": [
    "# study the target\n",
    "df[\"sentiment\"].value_counts()"
   ]
  },
  {
   "cell_type": "code",
   "execution_count": 4,
   "metadata": {},
   "outputs": [
    {
     "data": {
      "text/plain": [
       "(3804, 12)"
      ]
     },
     "execution_count": 4,
     "metadata": {},
     "output_type": "execute_result"
    }
   ],
   "source": [
    "# based on the result I think we have three categories, so I drop the not_relevant \n",
    "df = df[df.sentiment != \"not_relevant\"]\n",
    "df.shape"
   ]
  },
  {
   "cell_type": "code",
   "execution_count": 5,
   "metadata": {},
   "outputs": [],
   "source": [
    "# Clean the text\n",
    "import re\n",
    "from bs4 import BeautifulSoup\n",
    "from nltk.tokenize import WordPunctTokenizer\n",
    "tok = WordPunctTokenizer()\n",
    "\n",
    "pat1 = r'@[A-Za-z0-9_]+'\n",
    "pat2 = r'https?://[^ ]+'\n",
    "combined_pat = r'|'.join((pat1, pat2))\n",
    "www_pat = r'www.[^ ]+'\n",
    "negations_dic = {\"isn't\":\"is not\", \"aren't\":\"are not\", \"wasn't\":\"was not\", \"weren't\":\"were not\",\n",
    "                \"haven't\":\"have not\",\"hasn't\":\"has not\",\"hadn't\":\"had not\",\"won't\":\"will not\",\n",
    "                \"wouldn't\":\"would not\", \"don't\":\"do not\", \"doesn't\":\"does not\",\"didn't\":\"did not\",\n",
    "                \"can't\":\"can not\",\"couldn't\":\"could not\",\"shouldn't\":\"should not\",\"mightn't\":\"might not\",\n",
    "                \"mustn't\":\"must not\"}\n",
    "neg_pattern = re.compile(r'\\b(' + '|'.join(negations_dic.keys()) + r')\\b')\n",
    "\n",
    "def text_cleaner(text):\n",
    "    soup = BeautifulSoup(text, 'lxml')\n",
    "    souped = soup.get_text()\n",
    "    try:\n",
    "        bom_removed = souped.decode(\"utf-8-sig\").replace(u\"\\ufffd\", \"?\")\n",
    "    except:\n",
    "        bom_removed = souped\n",
    "    stripped = re.sub(combined_pat, '', bom_removed)\n",
    "    stripped = re.sub(www_pat, '', stripped)\n",
    "    lower_case = stripped.lower()\n",
    "    neg_handled = neg_pattern.sub(lambda x: negations_dic[x.group()], lower_case)\n",
    "    letters_only = re.sub(\"[^a-zA-Z]\", \" \", neg_handled)\n",
    "    # During the letters_only process two lines above, it has created unnecessay white spaces,\n",
    "    # I will tokenize and join together to remove unneccessary white spaces\n",
    "    words = [x for x  in tok.tokenize(letters_only) if len(x) > 1]\n",
    "    return (\" \".join(words)).strip()"
   ]
  },
  {
   "cell_type": "code",
   "execution_count": 6,
   "metadata": {},
   "outputs": [],
   "source": [
    "df[\"clean\"] = df[\"text\"].apply(lambda x: text_cleaner(x))"
   ]
  },
  {
   "cell_type": "code",
   "execution_count": 7,
   "metadata": {},
   "outputs": [],
   "source": [
    "# I use date to create a new features\n",
    "df[\"hour\"] = df[\"date\"].dt.hour\n",
    "df[\"weekday\"] = df[\"date\"].dt.weekday"
   ]
  },
  {
   "cell_type": "code",
   "execution_count": 8,
   "metadata": {},
   "outputs": [],
   "source": [
    "# create target\n",
    "from sklearn import preprocessing\n",
    "le = preprocessing.LabelEncoder()\n",
    "df[\"target\"] = le.fit_transform(df[\"sentiment\"])"
   ]
  },
  {
   "cell_type": "markdown",
   "metadata": {},
   "source": [
    "## GloVe  \n",
    "I want to use the pre-trained GloVe vectors for prediction using  \n",
    "- Gensim  \n",
    "- Keras"
   ]
  },
  {
   "cell_type": "markdown",
   "metadata": {},
   "source": [
    "## Gensim"
   ]
  },
  {
   "cell_type": "code",
   "execution_count": 9,
   "metadata": {},
   "outputs": [],
   "source": [
    "import gensim.downloader as api\n",
    "glove_twitter = api.load(\"glove-twitter-100\") "
   ]
  },
  {
   "cell_type": "code",
   "execution_count": 10,
   "metadata": {},
   "outputs": [],
   "source": [
    "def get_w2v(tweet, size, vectors, aggregation='mean'):\n",
    "    \"\"\"convert words into vectors\n",
    "    INPUT\n",
    "    tweet: string\n",
    "    size: int, size of the output\n",
    "    vectors: pre-trained word embeddings\n",
    "    aggregation: method to aggregate doublication\n",
    "    OUTPUT\n",
    "    a vector with a lenght of the sie\"\"\"\n",
    "    vec = np.zeros(size).reshape((1, size))\n",
    "    count = 0.\n",
    "    for word in tweet.split():\n",
    "        try:\n",
    "            vec += vectors[word].reshape((1, size))\n",
    "            count += 1.\n",
    "        except KeyError:\n",
    "            continue\n",
    "    if aggregation == 'mean':\n",
    "        if count != 0:\n",
    "            vec /= count\n",
    "        return vec\n",
    "    elif aggregation == 'sum':\n",
    "        return vec"
   ]
  },
  {
   "cell_type": "code",
   "execution_count": 11,
   "metadata": {},
   "outputs": [
    {
     "name": "stdout",
     "output_type": "stream",
     "text": [
      "Shape of vector:  (3804, 100)\n"
     ]
    }
   ],
   "source": [
    "vecs_glove = np.concatenate([get_w2v(z, 100, glove_twitter,'sum') for z in df[\"clean\"].values])\n",
    "print(\"Shape of vector: \", vecs_glove.shape)"
   ]
  },
  {
   "cell_type": "code",
   "execution_count": 12,
   "metadata": {},
   "outputs": [
    {
     "name": "stderr",
     "output_type": "stream",
     "text": [
      "/Users/mrahimi/Software/anaconda3/lib/python3.6/site-packages/ipykernel_launcher.py:2: FutureWarning: Method .as_matrix will be removed in a future version. Use .values instead.\n",
      "  \n"
     ]
    }
   ],
   "source": [
    "# merge embeding vectors and two features\n",
    "data = np.concatenate([vecs_glove, df[[\"hour\", \"weekday\"]].as_matrix()], axis=1)"
   ]
  },
  {
   "cell_type": "code",
   "execution_count": 13,
   "metadata": {},
   "outputs": [
    {
     "name": "stdout",
     "output_type": "stream",
     "text": [
      "Number of train: 3043\n",
      "Number of test: 761\n"
     ]
    }
   ],
   "source": [
    "# spilit data into train and test\n",
    "np.random.seed(123)\n",
    "index = np.random.rand(data.shape[0])  > 0.2\n",
    "\n",
    "train = data[index]\n",
    "test = data[~index]\n",
    "\n",
    "print(\"Number of train:\", train.shape[0])\n",
    "print(\"Number of test:\", test.shape[0])"
   ]
  },
  {
   "cell_type": "markdown",
   "metadata": {},
   "source": [
    "### Logistic Regression for prediction"
   ]
  },
  {
   "cell_type": "code",
   "execution_count": 14,
   "metadata": {},
   "outputs": [],
   "source": [
    "from sklearn.linear_model import LogisticRegression\n",
    "clf = LogisticRegression()"
   ]
  },
  {
   "cell_type": "code",
   "execution_count": 15,
   "metadata": {},
   "outputs": [
    {
     "name": "stderr",
     "output_type": "stream",
     "text": [
      "/Users/mrahimi/Software/anaconda3/lib/python3.6/site-packages/sklearn/linear_model/logistic.py:432: FutureWarning: Default solver will be changed to 'lbfgs' in 0.22. Specify a solver to silence this warning.\n",
      "  FutureWarning)\n",
      "/Users/mrahimi/Software/anaconda3/lib/python3.6/site-packages/sklearn/linear_model/logistic.py:459: FutureWarning: Default multi_class will be changed to 'auto' in 0.22. Specify the multi_class option to silence this warning.\n",
      "  \"this warning.\", FutureWarning)\n"
     ]
    },
    {
     "data": {
      "text/plain": [
       "LogisticRegression(C=1.0, class_weight=None, dual=False, fit_intercept=True,\n",
       "          intercept_scaling=1, max_iter=100, multi_class='warn',\n",
       "          n_jobs=None, penalty='l2', random_state=None, solver='warn',\n",
       "          tol=0.0001, verbose=0, warm_start=False)"
      ]
     },
     "execution_count": 15,
     "metadata": {},
     "output_type": "execute_result"
    }
   ],
   "source": [
    "# Train the model\n",
    "clf.fit(train, df.loc[index, \"target\"])"
   ]
  },
  {
   "cell_type": "code",
   "execution_count": 17,
   "metadata": {},
   "outputs": [
    {
     "name": "stdout",
     "output_type": "stream",
     "text": [
      "log loss error of the train: 0.5859452568761673\n",
      "log loss error of the test: 0.6372300676607052\n"
     ]
    }
   ],
   "source": [
    "# Evaluation\n",
    "from sklearn.metrics import log_loss\n",
    "\n",
    "pred = clf.predict_proba(train)\n",
    "print(\"log loss error of the train:\", log_loss(df.loc[index, \"target\"], pred))\n",
    "\n",
    "pred = clf.predict_proba(test)\n",
    "print(\"log loss error of the test:\", log_loss(df.loc[~index, \"target\"], pred))"
   ]
  },
  {
   "cell_type": "markdown",
   "metadata": {},
   "source": [
    "### Improvement  \n",
    "- optimize parameters  \n",
    "- apply feature selection methods and regularization\n",
    "- use no-linear models such as xgboost or deep learning"
   ]
  },
  {
   "cell_type": "markdown",
   "metadata": {},
   "source": [
    "## Keras  \n",
    "In this part, I only use text for prediction. In the next part, I will add two engineered features to the embedded vector."
   ]
  },
  {
   "cell_type": "code",
   "execution_count": 9,
   "metadata": {},
   "outputs": [
    {
     "name": "stderr",
     "output_type": "stream",
     "text": [
      "Using TensorFlow backend.\n"
     ]
    }
   ],
   "source": [
    "from keras.preprocessing.text import Tokenizer\n",
    "from keras.preprocessing.sequence import pad_sequences\n",
    "from keras.models import Sequential\n",
    "from keras.layers import Dense\n",
    "from keras.layers import Flatten\n",
    "from keras.layers import Embedding"
   ]
  },
  {
   "cell_type": "code",
   "execution_count": 10,
   "metadata": {},
   "outputs": [],
   "source": [
    "t = Tokenizer()\n",
    "t.fit_on_texts(df[\"clean\"])"
   ]
  },
  {
   "cell_type": "code",
   "execution_count": 11,
   "metadata": {},
   "outputs": [],
   "source": [
    "vocab_size = len(t.word_index) + 1\n",
    "# integer encode the documents\n",
    "encoded_docs = t.texts_to_sequences(df[\"clean\"])"
   ]
  },
  {
   "cell_type": "code",
   "execution_count": 12,
   "metadata": {},
   "outputs": [],
   "source": [
    "# pad documents to a max length of 20 words\n",
    "# I select 20 to save the memory and computation but one can increase to improve the performance\n",
    "max_length = 20\n",
    "padded_docs = pad_sequences(encoded_docs, maxlen=max_length, padding='post')"
   ]
  },
  {
   "cell_type": "code",
   "execution_count": 13,
   "metadata": {},
   "outputs": [
    {
     "name": "stdout",
     "output_type": "stream",
     "text": [
      "Loaded 400000 word vectors.\n"
     ]
    }
   ],
   "source": [
    "# load the whole embedding into memory\n",
    "embeddings_index = dict()\n",
    "f = open('/Users/mrahimi/Downloads/glove.6B/glove.6B.100d.txt')\n",
    "for line in f:\n",
    "    values = line.split()\n",
    "    word = values[0]\n",
    "    coefs = np.asarray(values[1:], dtype='float32')\n",
    "    embeddings_index[word] = coefs\n",
    "f.close()\n",
    "print('Loaded %s word vectors.' % len(embeddings_index))"
   ]
  },
  {
   "cell_type": "code",
   "execution_count": 14,
   "metadata": {},
   "outputs": [],
   "source": [
    "# create a weight matrix for words in training docs\n",
    "embedding_matrix = np.zeros((vocab_size, 100))\n",
    "for word, i in t.word_index.items():\n",
    "    embedding_vector = embeddings_index.get(word)\n",
    "    if embedding_vector is not None:\n",
    "        embedding_matrix[i] = embedding_vector"
   ]
  },
  {
   "cell_type": "code",
   "execution_count": 15,
   "metadata": {},
   "outputs": [
    {
     "name": "stdout",
     "output_type": "stream",
     "text": [
      "_________________________________________________________________\n",
      "Layer (type)                 Output Shape              Param #   \n",
      "=================================================================\n",
      "embedding_1 (Embedding)      (None, 20, 100)           545700    \n",
      "_________________________________________________________________\n",
      "flatten_1 (Flatten)          (None, 2000)              0         \n",
      "_________________________________________________________________\n",
      "dense_1 (Dense)              (None, 10)                20010     \n",
      "_________________________________________________________________\n",
      "dense_2 (Dense)              (None, 3)                 33        \n",
      "=================================================================\n",
      "Total params: 565,743\n",
      "Trainable params: 20,043\n",
      "Non-trainable params: 545,700\n",
      "_________________________________________________________________\n",
      "None\n"
     ]
    }
   ],
   "source": [
    "# define model\n",
    "model = Sequential()\n",
    "e = Embedding(vocab_size, 100, weights=[embedding_matrix], input_length=20, trainable=False)\n",
    "model.add(e)\n",
    "model.add(Flatten())\n",
    "#model.add(Dense(50, activation='relu'))\n",
    "model.add(Dense(10, activation='relu'))\n",
    "model.add(Dense(3, activation='softmax'))\n",
    "# compile the model\n",
    "model.compile(optimizer='adam', loss='categorical_crossentropy', metrics=['accuracy'])\n",
    "# summarize the model\n",
    "print(model.summary())"
   ]
  },
  {
   "cell_type": "code",
   "execution_count": 16,
   "metadata": {},
   "outputs": [],
   "source": [
    "# spilit data to train and test\n",
    "np.random.seed(123)\n",
    "index = np.random.rand(df.shape[0])  > 0.2\n",
    "# create labels\n",
    "labels = pd.get_dummies(df[\"target\"])"
   ]
  },
  {
   "cell_type": "code",
   "execution_count": 17,
   "metadata": {},
   "outputs": [
    {
     "name": "stdout",
     "output_type": "stream",
     "text": [
      "Epoch 1/50\n",
      "3043/3043 [==============================] - 1s 323us/step - loss: 0.8703 - acc: 0.6155\n",
      "Epoch 2/50\n",
      "3043/3043 [==============================] - 0s 110us/step - loss: 0.7104 - acc: 0.6970\n",
      "Epoch 3/50\n",
      "3043/3043 [==============================] - 0s 106us/step - loss: 0.6302 - acc: 0.7358\n",
      "Epoch 4/50\n",
      "3043/3043 [==============================] - 0s 110us/step - loss: 0.5637 - acc: 0.7752\n",
      "Epoch 5/50\n",
      "3043/3043 [==============================] - 0s 108us/step - loss: 0.5042 - acc: 0.8032\n",
      "Epoch 6/50\n",
      "3043/3043 [==============================] - 0s 112us/step - loss: 0.4564 - acc: 0.8245\n",
      "Epoch 7/50\n",
      "3043/3043 [==============================] - 0s 110us/step - loss: 0.4089 - acc: 0.8498\n",
      "Epoch 8/50\n",
      "3043/3043 [==============================] - 0s 108us/step - loss: 0.3707 - acc: 0.8656\n",
      "Epoch 9/50\n",
      "3043/3043 [==============================] - 0s 108us/step - loss: 0.3413 - acc: 0.8820\n",
      "Epoch 10/50\n",
      "3043/3043 [==============================] - 0s 109us/step - loss: 0.3102 - acc: 0.8935\n",
      "Epoch 11/50\n",
      "3043/3043 [==============================] - 0s 112us/step - loss: 0.2910 - acc: 0.9001\n",
      "Epoch 12/50\n",
      "3043/3043 [==============================] - 0s 107us/step - loss: 0.2613 - acc: 0.9178\n",
      "Epoch 13/50\n",
      "3043/3043 [==============================] - 0s 109us/step - loss: 0.2470 - acc: 0.9238\n",
      "Epoch 14/50\n",
      "3043/3043 [==============================] - 0s 109us/step - loss: 0.2428 - acc: 0.9244\n",
      "Epoch 15/50\n",
      "3043/3043 [==============================] - 0s 108us/step - loss: 0.2264 - acc: 0.9349\n",
      "Epoch 16/50\n",
      "3043/3043 [==============================] - 0s 111us/step - loss: 0.2056 - acc: 0.9385\n",
      "Epoch 17/50\n",
      "3043/3043 [==============================] - 0s 113us/step - loss: 0.1986 - acc: 0.9382\n",
      "Epoch 18/50\n",
      "3043/3043 [==============================] - 0s 109us/step - loss: 0.1893 - acc: 0.9435\n",
      "Epoch 19/50\n",
      "3043/3043 [==============================] - 0s 108us/step - loss: 0.1797 - acc: 0.9461\n",
      "Epoch 20/50\n",
      "3043/3043 [==============================] - 0s 107us/step - loss: 0.1694 - acc: 0.9487\n",
      "Epoch 21/50\n",
      "3043/3043 [==============================] - 0s 111us/step - loss: 0.1773 - acc: 0.9461\n",
      "Epoch 22/50\n",
      "3043/3043 [==============================] - 0s 108us/step - loss: 0.1578 - acc: 0.9504\n",
      "Epoch 23/50\n",
      "3043/3043 [==============================] - 0s 109us/step - loss: 0.1627 - acc: 0.9504\n",
      "Epoch 24/50\n",
      "3043/3043 [==============================] - 0s 108us/step - loss: 0.1448 - acc: 0.9537\n",
      "Epoch 25/50\n",
      "3043/3043 [==============================] - 0s 108us/step - loss: 0.1614 - acc: 0.9537\n",
      "Epoch 26/50\n",
      "3043/3043 [==============================] - 0s 110us/step - loss: 0.1516 - acc: 0.9491\n",
      "Epoch 27/50\n",
      "3043/3043 [==============================] - 0s 109us/step - loss: 0.1430 - acc: 0.9520\n",
      "Epoch 28/50\n",
      "3043/3043 [==============================] - 0s 110us/step - loss: 0.1394 - acc: 0.9550\n",
      "Epoch 29/50\n",
      "3043/3043 [==============================] - 0s 108us/step - loss: 0.1464 - acc: 0.9540\n",
      "Epoch 30/50\n",
      "3043/3043 [==============================] - 0s 108us/step - loss: 0.1437 - acc: 0.9510\n",
      "Epoch 31/50\n",
      "3043/3043 [==============================] - 0s 111us/step - loss: 0.1345 - acc: 0.9510\n",
      "Epoch 32/50\n",
      "3043/3043 [==============================] - 0s 112us/step - loss: 0.1405 - acc: 0.9514\n",
      "Epoch 33/50\n",
      "3043/3043 [==============================] - 0s 109us/step - loss: 0.1347 - acc: 0.9583\n",
      "Epoch 34/50\n",
      "3043/3043 [==============================] - 0s 110us/step - loss: 0.1319 - acc: 0.9540\n",
      "Epoch 35/50\n",
      "3043/3043 [==============================] - 0s 111us/step - loss: 0.1248 - acc: 0.9553\n",
      "Epoch 36/50\n",
      "3043/3043 [==============================] - 0s 112us/step - loss: 0.1224 - acc: 0.9583\n",
      "Epoch 37/50\n",
      "3043/3043 [==============================] - 0s 111us/step - loss: 0.1294 - acc: 0.9560\n",
      "Epoch 38/50\n",
      "3043/3043 [==============================] - 0s 112us/step - loss: 0.1272 - acc: 0.9566\n",
      "Epoch 39/50\n",
      "3043/3043 [==============================] - 0s 116us/step - loss: 0.1239 - acc: 0.9553\n",
      "Epoch 40/50\n",
      "3043/3043 [==============================] - 0s 113us/step - loss: 0.1315 - acc: 0.9523\n",
      "Epoch 41/50\n",
      "3043/3043 [==============================] - 0s 111us/step - loss: 0.1308 - acc: 0.9504\n",
      "Epoch 42/50\n",
      "3043/3043 [==============================] - 0s 111us/step - loss: 0.1193 - acc: 0.9599\n",
      "Epoch 43/50\n",
      "3043/3043 [==============================] - 0s 112us/step - loss: 0.1335 - acc: 0.9517\n",
      "Epoch 44/50\n",
      "3043/3043 [==============================] - 0s 112us/step - loss: 0.1275 - acc: 0.9550\n",
      "Epoch 45/50\n",
      "3043/3043 [==============================] - 0s 114us/step - loss: 0.1204 - acc: 0.9540\n",
      "Epoch 46/50\n",
      "3043/3043 [==============================] - 0s 111us/step - loss: 0.1363 - acc: 0.9510\n",
      "Epoch 47/50\n",
      "3043/3043 [==============================] - 0s 110us/step - loss: 0.1221 - acc: 0.9579\n",
      "Epoch 48/50\n",
      "3043/3043 [==============================] - 0s 111us/step - loss: 0.1247 - acc: 0.9547\n",
      "Epoch 49/50\n",
      "3043/3043 [==============================] - 0s 113us/step - loss: 0.1214 - acc: 0.9563\n",
      "Epoch 50/50\n",
      "3043/3043 [==============================] - 0s 112us/step - loss: 0.1205 - acc: 0.9553\n"
     ]
    },
    {
     "data": {
      "text/plain": [
       "<keras.callbacks.History at 0x1a4349e390>"
      ]
     },
     "execution_count": 17,
     "metadata": {},
     "output_type": "execute_result"
    }
   ],
   "source": [
    "# train the model\n",
    "model.fit(padded_docs[index], labels[index], epochs=50, batch_size=32)"
   ]
  },
  {
   "cell_type": "code",
   "execution_count": 18,
   "metadata": {},
   "outputs": [
    {
     "name": "stdout",
     "output_type": "stream",
     "text": [
      "log loss error of the train: 0.12046771376364764\n",
      "log loss error of the test: 1.4625597579098981\n"
     ]
    }
   ],
   "source": [
    "# Evaluation\n",
    "from sklearn.metrics import log_loss\n",
    "\n",
    "pred = model.predict(padded_docs[index])\n",
    "pred = pred[:2000]\n",
    "y = df.loc[index, \"target\"].values\n",
    "y = y[:2000]\n",
    "print(\"log loss error of the train:\", log_loss(y, pred))\n",
    "\n",
    "pred = model.predict(padded_docs[~index])\n",
    "print(\"log loss error of the test:\", log_loss(df.loc[~index, \"target\"], pred))"
   ]
  },
  {
   "cell_type": "markdown",
   "metadata": {},
   "source": [
    "## Keras \n",
    "concatenate embedded vectors with engineered features"
   ]
  },
  {
   "cell_type": "code",
   "execution_count": 19,
   "metadata": {},
   "outputs": [],
   "source": [
    "from keras.layers import Input, Embedding, Dense\n",
    "from keras.models import Model\n",
    "from keras.layers import concatenate\n",
    "\n",
    "embed_input = Input(shape=(20,), dtype='int32', name='embed_input')\n",
    "e = Embedding(vocab_size, 100, weights=[embedding_matrix], input_length=20, trainable=False)(embed_input)\n",
    "flatten = Flatten()(e)\n",
    "\n",
    "engin_input = Input(shape=(2,), name='engin_input')\n",
    "x = concatenate([flatten, engin_input])\n",
    "\n",
    "# I stack a deep densely-connected network on top\n",
    "x = Dense(64, activation='relu')(x)\n",
    "x = Dense(32, activation='relu')(x)\n",
    "x = Dense(16, activation='relu')(x)\n",
    "\n",
    "# # And finally I add the main layer\n",
    "output = Dense(3, activation='softmax')(x)\n",
    "\n",
    "# create model\n",
    "model = Model(inputs=[embed_input, engin_input], outputs=[output])\n",
    "model.compile(optimizer='adam', loss='categorical_crossentropy')"
   ]
  },
  {
   "cell_type": "code",
   "execution_count": 20,
   "metadata": {},
   "outputs": [
    {
     "name": "stdout",
     "output_type": "stream",
     "text": [
      "Epoch 1/50\n",
      "3043/3043 [==============================] - 2s 525us/step - loss: 0.8953\n",
      "Epoch 2/50\n",
      "3043/3043 [==============================] - 1s 220us/step - loss: 0.7059\n",
      "Epoch 3/50\n",
      "3043/3043 [==============================] - 1s 216us/step - loss: 0.5730\n",
      "Epoch 4/50\n",
      "3043/3043 [==============================] - 1s 221us/step - loss: 0.4490\n",
      "Epoch 5/50\n",
      "3043/3043 [==============================] - 1s 225us/step - loss: 0.3041\n",
      "Epoch 6/50\n",
      "3043/3043 [==============================] - 1s 224us/step - loss: 0.2258\n",
      "Epoch 7/50\n",
      "3043/3043 [==============================] - 1s 219us/step - loss: 0.1852\n",
      "Epoch 8/50\n",
      "3043/3043 [==============================] - 1s 218us/step - loss: 0.1474\n",
      "Epoch 9/50\n",
      "3043/3043 [==============================] - 1s 218us/step - loss: 0.1320\n",
      "Epoch 10/50\n",
      "3043/3043 [==============================] - 1s 217us/step - loss: 0.1199\n",
      "Epoch 11/50\n",
      "3043/3043 [==============================] - 1s 228us/step - loss: 0.1216\n",
      "Epoch 12/50\n",
      "3043/3043 [==============================] - 1s 223us/step - loss: 0.1077\n",
      "Epoch 13/50\n",
      "3043/3043 [==============================] - 1s 225us/step - loss: 0.1046\n",
      "Epoch 14/50\n",
      "3043/3043 [==============================] - 1s 217us/step - loss: 0.1034\n",
      "Epoch 15/50\n",
      "3043/3043 [==============================] - 1s 219us/step - loss: 0.1025\n",
      "Epoch 16/50\n",
      "3043/3043 [==============================] - 1s 223us/step - loss: 0.0974\n",
      "Epoch 17/50\n",
      "3043/3043 [==============================] - 1s 227us/step - loss: 0.0942\n",
      "Epoch 18/50\n",
      "3043/3043 [==============================] - 1s 230us/step - loss: 0.0997\n",
      "Epoch 19/50\n",
      "3043/3043 [==============================] - 1s 233us/step - loss: 0.0966\n",
      "Epoch 20/50\n",
      "3043/3043 [==============================] - 1s 227us/step - loss: 0.0939\n",
      "Epoch 21/50\n",
      "3043/3043 [==============================] - 1s 220us/step - loss: 0.0985\n",
      "Epoch 22/50\n",
      "3043/3043 [==============================] - 1s 218us/step - loss: 0.0946\n",
      "Epoch 23/50\n",
      "3043/3043 [==============================] - 1s 230us/step - loss: 0.0937\n",
      "Epoch 24/50\n",
      "3043/3043 [==============================] - 1s 229us/step - loss: 0.0938\n",
      "Epoch 25/50\n",
      "3043/3043 [==============================] - 1s 223us/step - loss: 0.0929\n",
      "Epoch 26/50\n",
      "3043/3043 [==============================] - 1s 224us/step - loss: 0.0906\n",
      "Epoch 27/50\n",
      "3043/3043 [==============================] - 1s 221us/step - loss: 0.0982\n",
      "Epoch 28/50\n",
      "3043/3043 [==============================] - 1s 230us/step - loss: 0.1505\n",
      "Epoch 29/50\n",
      "3043/3043 [==============================] - 1s 226us/step - loss: 0.1796\n",
      "Epoch 30/50\n",
      "3043/3043 [==============================] - 1s 231us/step - loss: 0.1072\n",
      "Epoch 31/50\n",
      "3043/3043 [==============================] - 1s 223us/step - loss: 0.0978\n",
      "Epoch 32/50\n",
      "3043/3043 [==============================] - 1s 231us/step - loss: 0.0933\n",
      "Epoch 33/50\n",
      "3043/3043 [==============================] - 1s 228us/step - loss: 0.0884\n",
      "Epoch 34/50\n",
      "3043/3043 [==============================] - 1s 236us/step - loss: 0.0886\n",
      "Epoch 35/50\n",
      "3043/3043 [==============================] - 1s 227us/step - loss: 0.0878\n",
      "Epoch 36/50\n",
      "3043/3043 [==============================] - 1s 227us/step - loss: 0.0973\n",
      "Epoch 37/50\n",
      "3043/3043 [==============================] - 1s 238us/step - loss: 0.0886\n",
      "Epoch 38/50\n",
      "3043/3043 [==============================] - 1s 235us/step - loss: 0.0885\n",
      "Epoch 39/50\n",
      "3043/3043 [==============================] - 1s 241us/step - loss: 0.0883\n",
      "Epoch 40/50\n",
      "3043/3043 [==============================] - 1s 237us/step - loss: 0.0895\n",
      "Epoch 41/50\n",
      "3043/3043 [==============================] - 1s 227us/step - loss: 0.0871\n",
      "Epoch 42/50\n",
      "3043/3043 [==============================] - 1s 231us/step - loss: 0.0880\n",
      "Epoch 43/50\n",
      "3043/3043 [==============================] - 1s 235us/step - loss: 0.0874\n",
      "Epoch 44/50\n",
      "3043/3043 [==============================] - 1s 238us/step - loss: 0.0870\n",
      "Epoch 45/50\n",
      "3043/3043 [==============================] - 1s 227us/step - loss: 0.0865\n",
      "Epoch 46/50\n",
      "3043/3043 [==============================] - 1s 234us/step - loss: 0.0883\n",
      "Epoch 47/50\n",
      "3043/3043 [==============================] - 1s 234us/step - loss: 0.0863\n",
      "Epoch 48/50\n",
      "3043/3043 [==============================] - 1s 236us/step - loss: 0.0933\n",
      "Epoch 49/50\n",
      "3043/3043 [==============================] - 1s 237us/step - loss: 0.0979\n",
      "Epoch 50/50\n",
      "3043/3043 [==============================] - 1s 235us/step - loss: 0.1071\n"
     ]
    },
    {
     "data": {
      "text/plain": [
       "<keras.callbacks.History at 0x1a59711748>"
      ]
     },
     "execution_count": 20,
     "metadata": {},
     "output_type": "execute_result"
    }
   ],
   "source": [
    "model.fit([padded_docs[index], df.loc[index,[\"hour\", \"weekday\"]].values], [labels[index]], epochs=50, batch_size=32)"
   ]
  },
  {
   "cell_type": "code",
   "execution_count": 22,
   "metadata": {},
   "outputs": [
    {
     "name": "stdout",
     "output_type": "stream",
     "text": [
      "log loss error of the train: 0.10310982171697017\n",
      "log loss error of the test: 1.8950074991264985\n"
     ]
    }
   ],
   "source": [
    "# Evaluation\n",
    "from sklearn.metrics import log_loss\n",
    "\n",
    "pred = model.predict([padded_docs[index], df.loc[index,[\"hour\", \"weekday\"]].values])\n",
    "pred = pred[:2000]\n",
    "y = df.loc[index, \"target\"].values\n",
    "y = y[:2000]\n",
    "print(\"log loss error of the train:\", log_loss(y, pred))\n",
    "\n",
    "pred = model.predict([padded_docs[~index], df.loc[~index,[\"hour\", \"weekday\"]].values])\n",
    "print(\"log loss error of the test:\", log_loss(df.loc[~index, \"target\"], pred))"
   ]
  },
  {
   "cell_type": "markdown",
   "metadata": {},
   "source": [
    "### Improvment  \n",
    "the differnece between the train and test error shows that the model over fit to the train data, so I need to use some methods to avoid overfitting.  \n",
    "- early stop\n",
    "- regularization\n",
    "- drop out"
   ]
  },
  {
   "cell_type": "code",
   "execution_count": null,
   "metadata": {},
   "outputs": [],
   "source": []
  }
 ],
 "metadata": {
  "kernelspec": {
   "display_name": "Python 3",
   "language": "python",
   "name": "python3"
  },
  "language_info": {
   "codemirror_mode": {
    "name": "ipython",
    "version": 3
   },
   "file_extension": ".py",
   "mimetype": "text/x-python",
   "name": "python",
   "nbconvert_exporter": "python",
   "pygments_lexer": "ipython3",
   "version": "3.7.0"
  }
 },
 "nbformat": 4,
 "nbformat_minor": 2
}
