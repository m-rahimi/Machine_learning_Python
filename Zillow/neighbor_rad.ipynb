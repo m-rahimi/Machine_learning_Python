{
 "cells": [
  {
   "cell_type": "code",
   "execution_count": 1,
   "metadata": {
    "collapsed": true
   },
   "outputs": [],
   "source": [
    "import warnings\n",
    "warnings.filterwarnings(\"ignore\", category=DeprecationWarning)"
   ]
  },
  {
   "cell_type": "code",
   "execution_count": 2,
   "metadata": {
    "collapsed": true
   },
   "outputs": [],
   "source": [
    "import numpy as np\n",
    "import pandas as pd\n",
    "import gc"
   ]
  },
  {
   "cell_type": "code",
   "execution_count": 3,
   "metadata": {
    "collapsed": true
   },
   "outputs": [],
   "source": [
    "ncpu = 8\n",
    "rad = 0.004\n",
    "ss = \"k400\""
   ]
  },
  {
   "cell_type": "code",
   "execution_count": 4,
   "metadata": {
    "collapsed": false
   },
   "outputs": [
    {
     "name": "stdout",
     "output_type": "stream",
     "text": [
      "Read the properties and merge with coord\n",
      "Size of the properties data frame:  (2985217, 3)\n"
     ]
    }
   ],
   "source": [
    "path = \"../Zillow2/Data/\"\n",
    "print(\"Read the properties and merge with coord\")\n",
    "coord = pd.read_csv(path + 'renamed_properties_2016.csv', usecols = [\"id_parcel\", \"latitude\", \"longitude\"])\n",
    "print \"Size of the properties data frame: \", coord.shape"
   ]
  },
  {
   "cell_type": "code",
   "execution_count": 5,
   "metadata": {
    "collapsed": false
   },
   "outputs": [
    {
     "name": "stdout",
     "output_type": "stream",
     "text": [
      "Size of the properties data frame:  (2985217, 7)\n"
     ]
    }
   ],
   "source": [
    "features = [\"id_parcel\", \"area_lot\", \"tax_property\", \"build_year\", \"area_total_calc\", \"tax_building\", \"tax_total\"]\n",
    "\n",
    "prop = pd.read_csv(path + 'renamed_properties_2016.csv', usecols = features)\n",
    "print \"Size of the properties data frame: \", prop.shape"
   ]
  },
  {
   "cell_type": "code",
   "execution_count": 6,
   "metadata": {
    "collapsed": false
   },
   "outputs": [
    {
     "name": "stdout",
     "output_type": "stream",
     "text": [
      "Size of the properties data frame:  (2973780, 3)\n",
      "Size of the properties data frame:  (2973780, 7)\n"
     ]
    }
   ],
   "source": [
    "index = pd.isnull(coord[\"latitude\"])\n",
    "coord = coord[~index]\n",
    "prop = prop[~index]\n",
    "print \"Size of the properties data frame: \", coord.shape\n",
    "print \"Size of the properties data frame: \", prop.shape"
   ]
  },
  {
   "cell_type": "code",
   "execution_count": 7,
   "metadata": {
    "collapsed": true
   },
   "outputs": [],
   "source": [
    "coord.latitude = coord.latitude / 1e6\n",
    "coord.longitude = coord.longitude / 1e6"
   ]
  },
  {
   "cell_type": "code",
   "execution_count": null,
   "metadata": {
    "collapsed": true
   },
   "outputs": [],
   "source": [
    "from sklearn.neighbors import NearestNeighbors\n",
    "from joblib import Parallel, delayed\n",
    "import multiprocessing\n",
    "\n",
    "num_cores = multiprocessing.cpu_count()\n",
    "print \"number of cores \" + str(num_cores)"
   ]
  },
  {
   "cell_type": "code",
   "execution_count": null,
   "metadata": {
    "collapsed": true
   },
   "outputs": [],
   "source": [
    "def splitDataFrameIntoSmaller(df, chunkSize = 100000): \n",
    "    listOfDf = list()\n",
    "    numberChunks = len(df) // chunkSize + 1\n",
    "    for i in range(numberChunks):\n",
    "        listOfDf.append(i*chunkSize)\n",
    "    listOfDf.append(len(df))\n",
    "    return listOfDf\n",
    "\n",
    "split_index = splitDataFrameIntoSmaller(prop, chunkSize=coord.shape[0]/num_cores)\n",
    "print split_index"
   ]
  },
  {
   "cell_type": "code",
   "execution_count": null,
   "metadata": {
    "collapsed": true
   },
   "outputs": [],
   "source": [
    "def knn_avg(n1, n2, cc):\n",
    "    avg_list = []\n",
    "    for ii in range(n1, n2):\n",
    "        index = np.setdiff1d(indices[ii], ii)\n",
    "        if len(index) > 5:\n",
    "            avg = prop.loc[index, cc].mean()\n",
    "        else:\n",
    "            avg = -1\n",
    "        avg_list.append(avg)\n",
    "    return avg_list"
   ]
  },
  {
   "cell_type": "code",
   "execution_count": null,
   "metadata": {
    "collapsed": true
   },
   "outputs": [],
   "source": [
    "features = [\"area_lot\", \"tax_property\", \"build_year\", \"area_total_calc\", \"tax_building\", \"tax_total\"]\n",
    "feat_avg = [\"area_lot_avg\", \"tax_property_avg\", \"build_year_avg\", \"area_total_calc_avg\", \n",
    "            \"tax_building_avg\", \"tax_total_avg\"]"
   ]
  },
  {
   "cell_type": "code",
   "execution_count": null,
   "metadata": {
    "collapsed": true
   },
   "outputs": [],
   "source": [
    "knn = NearestNeighbors(n_neighbors=10000, algorithm='ball_tree', \n",
    "                        n_jobs = num_cores).fit(coord.loc[:, [\"latitude\", \"longitude\"]])"
   ]
  },
  {
   "cell_type": "code",
   "execution_count": 2,
   "metadata": {
    "collapsed": false
   },
   "outputs": [
    {
     "name": "stdout",
     "output_type": "stream",
     "text": [
      "k1\n",
      "k2\n",
      "k3\n",
      "k4\n",
      "k5\n",
      "k6\n",
      "k7\n",
      "k8\n",
      "k9\n",
      "k10\n"
     ]
    }
   ],
   "source": [
    "for rad in [0.001, 0.002, 0.003, 0.004, 0.005, 0.006, 0.007, 0.008, 0.009, 0.01]:\n",
    "    ss = \"k\" + str(int(rad*1000))\n",
    "    print \"Folder \" + ss\n",
    "\n",
    "    indices = knn.radius_neighbors(coord.loc[:, [\"latitude\", \"longitude\"]], radius = rad,\n",
    "                                          return_distance = False)\n",
    "    ll = []\n",
    "    for ii in indices:\n",
    "        ll.append(len(ii))\n",
    "    prop[ss] = ll\n",
    "    \n",
    "    for f1, f2 in zip(features, feat_avg):\n",
    "        multi = Parallel(n_jobs=num_cores)(delayed(knn_avg)(split_index[i], split_index[i+1], f1)\n",
    "                                   for i in range(0,len(split_index)-1))\n",
    "    \n",
    "        single = [x for xx in multi for x in xx]\n",
    "    \n",
    "        ss2 = f2 #ss + \"_\" + f2\n",
    "        prop[ss2] = single\n",
    "        print ss, f2\n",
    "        \n",
    "    name = ss + \".csv\"\n",
    "    prop[[\"id_parcel\", ss] + feat_avg].to_csv(name, index=False)"
   ]
  }
 ],
 "metadata": {
  "anaconda-cloud": {},
  "kernelspec": {
   "display_name": "Python [default]",
   "language": "python",
   "name": "python2"
  },
  "language_info": {
   "codemirror_mode": {
    "name": "ipython",
    "version": 2
   },
   "file_extension": ".py",
   "mimetype": "text/x-python",
   "name": "python",
   "nbconvert_exporter": "python",
   "pygments_lexer": "ipython2",
   "version": "2.7.12"
  }
 },
 "nbformat": 4,
 "nbformat_minor": 1
}
