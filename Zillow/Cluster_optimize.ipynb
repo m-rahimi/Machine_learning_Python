{
 "cells": [
  {
   "cell_type": "code",
   "execution_count": 1,
   "metadata": {
    "collapsed": true
   },
   "outputs": [],
   "source": [
    "import warnings\n",
    "warnings.filterwarnings(\"ignore\", category=DeprecationWarning)"
   ]
  },
  {
   "cell_type": "code",
   "execution_count": 2,
   "metadata": {
    "collapsed": true
   },
   "outputs": [],
   "source": [
    "import numpy as np\n",
    "import pandas as pd\n",
    "import gc"
   ]
  },
  {
   "cell_type": "code",
   "execution_count": 3,
   "metadata": {
    "collapsed": false
   },
   "outputs": [
    {
     "name": "stdout",
     "output_type": "stream",
     "text": [
      "Read the properties and merge with coord\n",
      "Size of the properties data frame:  (2985217, 3)\n"
     ]
    }
   ],
   "source": [
    "path = \"../../Zillow4/Data/\"\n",
    "print(\"Read the properties and merge with coord\")\n",
    "coord = pd.read_csv(path + 'renamed_properties_2017.csv', usecols = [\"id_parcel\", \"latitude\", \"longitude\"])\n",
    "print \"Size of the properties data frame: \", coord.shape"
   ]
  },
  {
   "cell_type": "code",
   "execution_count": 4,
   "metadata": {
    "collapsed": false
   },
   "outputs": [
    {
     "name": "stdout",
     "output_type": "stream",
     "text": [
      "(2982285, 3)\n"
     ]
    }
   ],
   "source": [
    "index = pd.isnull(coord[\"latitude\"])\n",
    "coord = coord[~index]\n",
    "print coord.shape"
   ]
  },
  {
   "cell_type": "code",
   "execution_count": 5,
   "metadata": {
    "collapsed": true
   },
   "outputs": [],
   "source": [
    "coord['latitude'] = coord['latitude'] / 1e6\n",
    "coord['longitude'] = coord['longitude'] / 1e6"
   ]
  },
  {
   "cell_type": "code",
   "execution_count": 6,
   "metadata": {
    "collapsed": false
   },
   "outputs": [
    {
     "name": "stdout",
     "output_type": "stream",
     "text": [
      "Read train file to obtain some statistic about the features and target\n"
     ]
    }
   ],
   "source": [
    "print(\"Read train file to obtain some statistic about the features and target\")\n",
    "train = pd.read_csv(path + 'train_2017.csv', parse_dates=['transactiondate'])\n",
    "train.columns = [\"id_parcel\", \"logerror\", \"date\"]"
   ]
  },
  {
   "cell_type": "code",
   "execution_count": 7,
   "metadata": {
    "collapsed": false
   },
   "outputs": [
    {
     "name": "stdout",
     "output_type": "stream",
     "text": [
      "(77613, 5)\n"
     ]
    }
   ],
   "source": [
    "train = pd.merge(train, coord, on=\"id_parcel\", how=\"left\")\n",
    "print train.shape"
   ]
  },
  {
   "cell_type": "code",
   "execution_count": 8,
   "metadata": {
    "collapsed": false
   },
   "outputs": [
    {
     "name": "stdout",
     "output_type": "stream",
     "text": [
      "(77579, 5)\n"
     ]
    }
   ],
   "source": [
    "index = pd.isnull(train[\"latitude\"])\n",
    "train = train[~index]\n",
    "print train.shape"
   ]
  },
  {
   "cell_type": "code",
   "execution_count": 9,
   "metadata": {
    "collapsed": true
   },
   "outputs": [],
   "source": [
    "X = train[['latitude','longitude']].as_matrix()"
   ]
  },
  {
   "cell_type": "code",
   "execution_count": 10,
   "metadata": {
    "collapsed": true
   },
   "outputs": [],
   "source": [
    "from sklearn.cluster import MiniBatchKMeans\n",
    "from sklearn.metrics import silhouette_samples, silhouette_score"
   ]
  },
  {
   "cell_type": "code",
   "execution_count": 19,
   "metadata": {
    "collapsed": false
   },
   "outputs": [
    {
     "name": "stdout",
     "output_type": "stream",
     "text": [
      "10 0.424699824674\n",
      "20 0.37539814259\n",
      "30 0.380108854809\n",
      "40 0.380914325188\n",
      "50 0.374500526069\n",
      "60 0.37685319203\n",
      "70 0.372733593747\n",
      "80 0.396824172547\n",
      "90 0.384353558147\n",
      "100 0.36455296284\n",
      "110 0.380547026898\n",
      "120 0.377966019054\n",
      "130 0.382788973157\n",
      "140 0.376613635603\n",
      "150 0.381481305889\n",
      "160 0.382809438493\n",
      "170 0.374814328069\n",
      "180 0.379693157466\n",
      "190 0.37083823402\n",
      "200 0.384572570436\n",
      "210 0.36731140615\n",
      "220 0.376882597255\n",
      "230 0.378794353102\n",
      "240 0.363449979414\n",
      "250 0.36757963141\n",
      "260 0.375108230991\n",
      "270 0.367720950231\n",
      "280 0.361656952659\n",
      "290 0.367067340402\n",
      "300 0.374392745275\n",
      "310 0.367819885649\n",
      "320 0.372335573762\n",
      "330 0.362189530564\n",
      "340 0.370704412741\n",
      "350 0.378831404881\n",
      "360 0.360517750962\n",
      "370 0.360554326092\n",
      "380 0.373062201016\n",
      "390 0.362099614168\n"
     ]
    }
   ],
   "source": [
    "col = [\"n_clusters\", \"score\"]\n",
    "clusters = pd.DataFrame(columns=col)\n",
    "n_clusters = [10*i for i in range(1,40)]\n",
    "\n",
    "for nn in n_clusters:\n",
    "    kmeans = MiniBatchKMeans(n_clusters=nn, batch_size=1000)\n",
    "    kmeans_labels = kmeans.fit_predict(X)\n",
    "    \n",
    "    score = silhouette_score(X, kmeans_labels, sample_size = 20000, random_state = 0)\n",
    "    \n",
    "    clusters = clusters.append(pd.DataFrame([[nn, score]], columns=col))\n",
    "    print nn, score\n",
    "                               "
   ]
  },
  {
   "cell_type": "code",
   "execution_count": 20,
   "metadata": {
    "collapsed": false
   },
   "outputs": [
    {
     "name": "stdout",
     "output_type": "stream",
     "text": [
      "   n_clusters     score\n",
      "0       360.0  0.360518\n",
      "0       370.0  0.360554\n",
      "0       280.0  0.361657\n",
      "0       390.0  0.362100\n",
      "0       330.0  0.362190\n",
      "0       240.0  0.363450\n",
      "0       100.0  0.364553\n",
      "0       290.0  0.367067\n",
      "0       210.0  0.367311\n",
      "0       250.0  0.367580\n",
      "0       270.0  0.367721\n",
      "0       310.0  0.367820\n",
      "0       340.0  0.370704\n",
      "0       190.0  0.370838\n",
      "0       320.0  0.372336\n",
      "0        70.0  0.372734\n",
      "0       380.0  0.373062\n",
      "0       300.0  0.374393\n",
      "0        50.0  0.374501\n",
      "0       170.0  0.374814\n",
      "0       260.0  0.375108\n",
      "0        20.0  0.375398\n",
      "0       140.0  0.376614\n",
      "0        60.0  0.376853\n",
      "0       220.0  0.376883\n",
      "0       120.0  0.377966\n",
      "0       230.0  0.378794\n",
      "0       350.0  0.378831\n",
      "0       180.0  0.379693\n",
      "0        30.0  0.380109\n",
      "0       110.0  0.380547\n",
      "0        40.0  0.380914\n",
      "0       150.0  0.381481\n",
      "0       130.0  0.382789\n",
      "0       160.0  0.382809\n",
      "0        90.0  0.384354\n",
      "0       200.0  0.384573\n",
      "0        80.0  0.396824\n",
      "0        10.0  0.424700\n"
     ]
    }
   ],
   "source": [
    "clusters = clusters.sort_values(\"score\")\n",
    "#clusters.to_csv(\"n_clusters.csv\")\n",
    "print clusters"
   ]
  },
  {
   "cell_type": "code",
   "execution_count": 11,
   "metadata": {
    "collapsed": true
   },
   "outputs": [],
   "source": [
    "X = train[['latitude','longitude']].as_matrix()\n",
    "X2 = coord[['latitude','longitude']].as_matrix()"
   ]
  },
  {
   "cell_type": "code",
   "execution_count": 15,
   "metadata": {
    "collapsed": false
   },
   "outputs": [],
   "source": [
    "n_clusters = [40, 80, 130, 160, 200, 350, 250, 300, 400, 450, 500, 550]\n",
    "\n",
    "for ii, nn in enumerate(n_clusters):\n",
    "    kmeans = MiniBatchKMeans(n_clusters=nn, batch_size=1000)\n",
    "    kmeans.fit(X)\n",
    "    \n",
    "    name = \"cluster\" + str(ii)\n",
    "    coord[name] = kmeans.predict(X2) "
   ]
  },
  {
   "cell_type": "code",
   "execution_count": 16,
   "metadata": {
    "collapsed": false
   },
   "outputs": [
    {
     "data": {
      "text/html": [
       "<div>\n",
       "<table border=\"1\" class=\"dataframe\">\n",
       "  <thead>\n",
       "    <tr style=\"text-align: right;\">\n",
       "      <th></th>\n",
       "      <th>id_parcel</th>\n",
       "      <th>latitude</th>\n",
       "      <th>longitude</th>\n",
       "      <th>cluster0</th>\n",
       "      <th>cluster1</th>\n",
       "      <th>cluster2</th>\n",
       "      <th>cluster3</th>\n",
       "      <th>cluster4</th>\n",
       "      <th>cluster5</th>\n",
       "      <th>cluster6</th>\n",
       "      <th>cluster7</th>\n",
       "      <th>cluster8</th>\n",
       "      <th>cluster9</th>\n",
       "      <th>cluster10</th>\n",
       "      <th>cluster11</th>\n",
       "    </tr>\n",
       "  </thead>\n",
       "  <tbody>\n",
       "    <tr>\n",
       "      <th>0</th>\n",
       "      <td>10754147</td>\n",
       "      <td>34.144442</td>\n",
       "      <td>-118.654084</td>\n",
       "      <td>1</td>\n",
       "      <td>37</td>\n",
       "      <td>24</td>\n",
       "      <td>78</td>\n",
       "      <td>165</td>\n",
       "      <td>206</td>\n",
       "      <td>135</td>\n",
       "      <td>205</td>\n",
       "      <td>157</td>\n",
       "      <td>360</td>\n",
       "      <td>336</td>\n",
       "      <td>26</td>\n",
       "    </tr>\n",
       "    <tr>\n",
       "      <th>1</th>\n",
       "      <td>10759547</td>\n",
       "      <td>34.140430</td>\n",
       "      <td>-118.625364</td>\n",
       "      <td>1</td>\n",
       "      <td>42</td>\n",
       "      <td>101</td>\n",
       "      <td>34</td>\n",
       "      <td>165</td>\n",
       "      <td>206</td>\n",
       "      <td>135</td>\n",
       "      <td>205</td>\n",
       "      <td>157</td>\n",
       "      <td>291</td>\n",
       "      <td>437</td>\n",
       "      <td>525</td>\n",
       "    </tr>\n",
       "    <tr>\n",
       "      <th>2</th>\n",
       "      <td>10843547</td>\n",
       "      <td>33.989359</td>\n",
       "      <td>-118.394633</td>\n",
       "      <td>19</td>\n",
       "      <td>56</td>\n",
       "      <td>71</td>\n",
       "      <td>136</td>\n",
       "      <td>84</td>\n",
       "      <td>293</td>\n",
       "      <td>167</td>\n",
       "      <td>166</td>\n",
       "      <td>329</td>\n",
       "      <td>34</td>\n",
       "      <td>199</td>\n",
       "      <td>369</td>\n",
       "    </tr>\n",
       "    <tr>\n",
       "      <th>3</th>\n",
       "      <td>10859147</td>\n",
       "      <td>34.148863</td>\n",
       "      <td>-118.437206</td>\n",
       "      <td>10</td>\n",
       "      <td>70</td>\n",
       "      <td>53</td>\n",
       "      <td>134</td>\n",
       "      <td>78</td>\n",
       "      <td>165</td>\n",
       "      <td>85</td>\n",
       "      <td>220</td>\n",
       "      <td>112</td>\n",
       "      <td>280</td>\n",
       "      <td>23</td>\n",
       "      <td>350</td>\n",
       "    </tr>\n",
       "    <tr>\n",
       "      <th>4</th>\n",
       "      <td>10879947</td>\n",
       "      <td>34.194168</td>\n",
       "      <td>-118.385816</td>\n",
       "      <td>31</td>\n",
       "      <td>17</td>\n",
       "      <td>46</td>\n",
       "      <td>22</td>\n",
       "      <td>172</td>\n",
       "      <td>1</td>\n",
       "      <td>60</td>\n",
       "      <td>294</td>\n",
       "      <td>311</td>\n",
       "      <td>411</td>\n",
       "      <td>134</td>\n",
       "      <td>190</td>\n",
       "    </tr>\n",
       "  </tbody>\n",
       "</table>\n",
       "</div>"
      ],
      "text/plain": [
       "   id_parcel   latitude   longitude  cluster0  cluster1  cluster2  cluster3  \\\n",
       "0   10754147  34.144442 -118.654084         1        37        24        78   \n",
       "1   10759547  34.140430 -118.625364         1        42       101        34   \n",
       "2   10843547  33.989359 -118.394633        19        56        71       136   \n",
       "3   10859147  34.148863 -118.437206        10        70        53       134   \n",
       "4   10879947  34.194168 -118.385816        31        17        46        22   \n",
       "\n",
       "   cluster4  cluster5  cluster6  cluster7  cluster8  cluster9  cluster10  \\\n",
       "0       165       206       135       205       157       360        336   \n",
       "1       165       206       135       205       157       291        437   \n",
       "2        84       293       167       166       329        34        199   \n",
       "3        78       165        85       220       112       280         23   \n",
       "4       172         1        60       294       311       411        134   \n",
       "\n",
       "   cluster11  \n",
       "0         26  \n",
       "1        525  \n",
       "2        369  \n",
       "3        350  \n",
       "4        190  "
      ]
     },
     "execution_count": 16,
     "metadata": {},
     "output_type": "execute_result"
    }
   ],
   "source": [
    "coord.head()"
   ]
  },
  {
   "cell_type": "code",
   "execution_count": 17,
   "metadata": {
    "collapsed": true
   },
   "outputs": [],
   "source": [
    "coord.drop(['latitude','longitude'], axis=1).to_csv(\"../Data/clusters_2017_v3.csv\", index=False)"
   ]
  },
  {
   "cell_type": "code",
   "execution_count": null,
   "metadata": {
    "collapsed": true
   },
   "outputs": [],
   "source": []
  }
 ],
 "metadata": {
  "anaconda-cloud": {},
  "kernelspec": {
   "display_name": "Python [default]",
   "language": "python",
   "name": "python2"
  },
  "language_info": {
   "codemirror_mode": {
    "name": "ipython",
    "version": 2
   },
   "file_extension": ".py",
   "mimetype": "text/x-python",
   "name": "python",
   "nbconvert_exporter": "python",
   "pygments_lexer": "ipython2",
   "version": "2.7.12"
  }
 },
 "nbformat": 4,
 "nbformat_minor": 1
}
