{
 "cells": [
  {
   "cell_type": "code",
   "execution_count": 1,
   "metadata": {
    "collapsed": true
   },
   "outputs": [],
   "source": [
    "import warnings\n",
    "warnings.filterwarnings(\"ignore\", category=DeprecationWarning)"
   ]
  },
  {
   "cell_type": "code",
   "execution_count": 2,
   "metadata": {
    "collapsed": true
   },
   "outputs": [],
   "source": [
    "import numpy as np\n",
    "import pandas as pd\n",
    "import gc"
   ]
  },
  {
   "cell_type": "code",
   "execution_count": 3,
   "metadata": {
    "collapsed": true
   },
   "outputs": [],
   "source": [
    "store = pd.HDFStore('../Data/store1.h5')"
   ]
  },
  {
   "cell_type": "code",
   "execution_count": 4,
   "metadata": {
    "collapsed": false
   },
   "outputs": [
    {
     "name": "stdout",
     "output_type": "stream",
     "text": [
      "<class 'pandas.io.pytables.HDFStore'>\n",
      "File path: ../Data/store1.h5\n",
      "/miss             frame        (shape->[11437,3])    \n",
      "/prop             frame        (shape->[2883630,254])\n",
      "/train            frame        (shape->[90275,256])  \n"
     ]
    }
   ],
   "source": [
    "print store"
   ]
  },
  {
   "cell_type": "code",
   "execution_count": 5,
   "metadata": {
    "collapsed": false
   },
   "outputs": [],
   "source": [
    "prop = store[\"prop\"]\n",
    "train = store[\"train\"]"
   ]
  },
  {
   "cell_type": "code",
   "execution_count": 6,
   "metadata": {
    "collapsed": false
   },
   "outputs": [
    {
     "name": "stdout",
     "output_type": "stream",
     "text": [
      "<class 'pandas.core.frame.DataFrame'>\n",
      "Int64Index: 2883630 entries, 0 to 2883629\n",
      "Columns: 254 entries, id_parcel to cl3_num_bathroom_diff\n",
      "dtypes: float32(205), int16(9), int64(18), int8(22)\n",
      "memory usage: 2.7 GB\n"
     ]
    }
   ],
   "source": [
    "prop.info()"
   ]
  },
  {
   "cell_type": "markdown",
   "metadata": {},
   "source": [
    "# 3Month"
   ]
  },
  {
   "cell_type": "code",
   "execution_count": 7,
   "metadata": {
    "collapsed": false
   },
   "outputs": [
    {
     "name": "stdout",
     "output_type": "stream",
     "text": [
      "-0.0313 0.0332\n",
      "0.264 -0.252\n"
     ]
    }
   ],
   "source": [
    "y = train.logerror\n",
    "mid = np.percentile(y, 50)\n",
    "y = y - mid\n",
    "q1 = np.percentile(y, 25)\n",
    "q3 = np.percentile(y, 75)\n",
    "print q1, q3\n",
    "interval = q3 - q1\n",
    "fac = 8.0\n",
    "interval = interval * fac / 2.\n",
    "hi = interval + mid\n",
    "lo = -interval + mid\n",
    "print hi, lo"
   ]
  },
  {
   "cell_type": "code",
   "execution_count": 8,
   "metadata": {
    "collapsed": false
   },
   "outputs": [
    {
     "name": "stdout",
     "output_type": "stream",
     "text": [
      "Size of the x1 data frame:  (81733, 256)\n",
      "Size of the x0 data frame:  (8542, 256)\n",
      "2088 1432\n",
      "Size of the x1 data frame:  (78213, 256)\n",
      "Size of the x0 data frame:  (8542, 256)\n"
     ]
    }
   ],
   "source": [
    "# split the data to 9 months for train and 3 months for test\n",
    "x1 = train[train.month < 10]    # use for train\n",
    "x0 = train[train.month > 9]     # use for test\n",
    "print \"Size of the x1 data frame: \", x1.shape\n",
    "print \"Size of the x0 data frame: \", x0.shape\n",
    "\n",
    "y1 = x1['logerror'].values\n",
    "y0 = x0['logerror'].values\n",
    "\n",
    "index_hi = y1 > hi   # drop 1480 points \n",
    "index_lo = y1 < lo    # drop 947 points\n",
    "print sum(index_hi), sum(index_lo)\n",
    "\n",
    "y1 = y1[(~index_lo) & (~index_hi)]\n",
    "x1 = x1[(~index_lo) & (~index_hi)]\n",
    "\n",
    "print \"Size of the x1 data frame: \", x1.shape\n",
    "print \"Size of the x0 data frame: \", x0.shape"
   ]
  },
  {
   "cell_type": "code",
   "execution_count": 10,
   "metadata": {
    "collapsed": false
   },
   "outputs": [
    {
     "name": "stderr",
     "output_type": "stream",
     "text": [
      "/home/amin/Software/anaconda2/lib/python2.7/site-packages/sklearn/cross_validation.py:44: DeprecationWarning: This module was deprecated in version 0.18 in favor of the model_selection module into which all the refactored classes and functions are moved. Also note that the interface of the new CV iterators are different from that of this module. This module will be removed in 0.20.\n",
      "  \"This module will be removed in 0.20.\", DeprecationWarning)\n"
     ]
    }
   ],
   "source": [
    "import xgb\n",
    "ncpu = 8\n",
    "model = xgb.XGBoostReg(\n",
    "        eval_metric = 'mae',\n",
    "        nthread = ncpu,\n",
    "        eta = 0.01,\n",
    "        max_depth = 9,\n",
    "        subsample = 1.,\n",
    "        colsample_bytree = 1.0,\n",
    "        min_child_weight = 70,\n",
    "        silent = 1\n",
    "        )\n",
    "nround = 465\n",
    "from sklearn.metrics import mean_absolute_error"
   ]
  },
  {
   "cell_type": "code",
   "execution_count": 11,
   "metadata": {
    "collapsed": true
   },
   "outputs": [],
   "source": [
    "model.fit(x1.drop([\"id_parcel\", \"month\", \"logerror\"], axis=1), y1, num_boost_round= nround) # Train the model without outliers"
   ]
  },
  {
   "cell_type": "code",
   "execution_count": 12,
   "metadata": {
    "collapsed": false
   },
   "outputs": [
    {
     "name": "stdout",
     "output_type": "stream",
     "text": [
      "Error on training data  0.0439984531379\n",
      "Error on 3 months test  0.0646193197255\n"
     ]
    }
   ],
   "source": [
    "from sklearn.metrics import mean_absolute_error\n",
    "\n",
    "print \"Error on training data \", mean_absolute_error(y1, model.predict(x1.drop([\"id_parcel\", \"month\", \"logerror\"], axis=1)))\n",
    "print \"Error on 3 months test \", mean_absolute_error(y0, model.predict(x0.drop([\"id_parcel\", \"month\", \"logerror\"], axis=1)))"
   ]
  },
  {
   "cell_type": "code",
   "execution_count": 16,
   "metadata": {
    "collapsed": false
   },
   "outputs": [
    {
     "data": {
      "text/plain": [
       "8146"
      ]
     },
     "execution_count": 16,
     "metadata": {},
     "output_type": "execute_result"
    }
   ],
   "source": [
    "del train, prop\n",
    "gc.collect()"
   ]
  },
  {
   "cell_type": "markdown",
   "metadata": {},
   "source": [
    "# get importance features"
   ]
  },
  {
   "cell_type": "code",
   "execution_count": 13,
   "metadata": {
    "collapsed": true
   },
   "outputs": [],
   "source": [
    "import operator\n",
    "importance = model.get_score()\n",
    "importance = sorted(importance.items(), key=operator.itemgetter(1))\n",
    "\n",
    "df = pd.DataFrame(importance, columns=['feature', 'fscore'])\n",
    "df['fscore'] = df['fscore'] / df['fscore'].sum()"
   ]
  },
  {
   "cell_type": "code",
   "execution_count": 14,
   "metadata": {
    "collapsed": false
   },
   "outputs": [
    {
     "data": {
      "text/plain": [
       "<matplotlib.figure.Figure at 0x7f8c974e1f10>"
      ]
     },
     "metadata": {},
     "output_type": "display_data"
    },
    {
     "data": {
      "image/png": "[encoded data removed]",
      "text/plain": [
       "<matplotlib.figure.Figure at 0x7f8c949d1810>"
      ]
     },
     "metadata": {},
     "output_type": "display_data"
    }
   ],
   "source": [
    "import matplotlib.pyplot as plt\n",
    "import seaborn as sns\n",
    "color = sns.color_palette()\n",
    "\n",
    "%matplotlib inline\n",
    "\n",
    "plt.figure()\n",
    "df[-20:].plot(kind='barh', x='feature', y='fscore', legend=False, figsize=(10, 5))\n",
    "plt.title('XGBoost Feature Importance')\n",
    "plt.xlabel('relative importance')\n",
    "plt.show()"
   ]
  },
  {
   "cell_type": "code",
   "execution_count": 18,
   "metadata": {
    "collapsed": false
   },
   "outputs": [
    {
     "data": {
      "text/plain": [
       "array(['cl3_num_bedroom', 'area_total_calc', 'cl1_num_bedroom_diff',\n",
       "       'zip_tax_property_diff', 'num_rot30_X', 'city_num_bedroom_diff',\n",
       "       'zon_build_year', 'cl3_tax_building_area_diff', 'tax_property_area',\n",
       "       'neighbor_latitude_diff', 'neighbor_tax_property_area_diff',\n",
       "       'cl3_num_bedroom_diff', 'num_pool', 'cluster3',\n",
       "       'cl3_num_bathroom_diff', 'cl2_num_bedroom_diff',\n",
       "       'region_city_count', 'neighbor_tax_building_diff',\n",
       "       'cl2_tax_total_diff', 'cl1_tax_total_diff',\n",
       "       'cl3_tax_property_area_diff', 'cl3_tax_total_diff',\n",
       "       'zip_build_year', 'area_total_finished', 'cl2_area_lot_diff',\n",
       "       'city_build_year_diff', 'zon_num_bedroom_diff',\n",
       "       'cl2_area_total_calc_diff', 'city_tax_property_diff',\n",
       "       'neighbor_tax_property_diff', 'city_tax_property_area_diff',\n",
       "       'cl1_tax_property_area_diff', 'region_zip', 'cl1_area_lot_diff',\n",
       "       'zon_longitude_diff', 'region_zip_count',\n",
       "       'cl3_area_total_calc_diff', 'zip_area_lot_diff', 'zoning_property',\n",
       "       'neighbor_longitude_diff', 'zon_tax_building_diff',\n",
       "       'cl2_tax_building_diff', 'cluster5', 'tax_property',\n",
       "       'zon_tax_building_area_diff', 'cl3_build_year', 'cluster4_count',\n",
       "       'cl1_tax_building_area_diff', 'zip_tax_property_area_diff',\n",
       "       'city_tax_total_diff', 'num_rot45_X', 'cl1_area_total_calc_diff',\n",
       "       'cl1_tax_building_diff', 'tax_total', 'city_longitude_diff',\n",
       "       'cl3_tax_building_diff', 'city_tax_building_diff', 'cluster4',\n",
       "       'zon_tax_property_diff', 'city_area_total_calc_diff',\n",
       "       'cl2_tax_property_area_diff', 'zip_tax_total_diff',\n",
       "       'zon_tax_property_area_diff', 'zip_longitude_diff',\n",
       "       'neighbor_tax_total_diff', 'zon_build_year_diff',\n",
       "       'zon_latitude_diff', 'cl1_build_year_diff', 'tax_building',\n",
       "       'cl3_tax_property_diff', 'neighbor_build_year_diff',\n",
       "       'cl3_area_lot_diff', 'cluster5_count', 'zip_num_bedroom_diff',\n",
       "       'zon_tax_total_diff', 'neighbor_area_lot_diff',\n",
       "       'zip_tax_building_diff', 'zip_build_year_diff', 'zip_latitude_diff',\n",
       "       'neighbor_area_total_calc_diff', 'cl3_build_year_diff',\n",
       "       'cl1_latitude_diff', 'area_lot', 'cl2_longitude_diff',\n",
       "       'cl1_tax_property_diff', 'city_latitude_diff', 'city_area_lot_diff',\n",
       "       'build_year', 'cl2_latitude_diff', 'area_ratio',\n",
       "       'cl3_latitude_diff', 'zip_area_total_calc_diff',\n",
       "       'cl2_tax_property_diff', 'cl2_build_year_diff',\n",
       "       'cl3_longitude_diff', 'cl1_longitude_diff', 'zon_area_lot_diff',\n",
       "       'tax_land', 'area_live_finished', 'zon_area_total_calc_diff'], dtype=object)"
      ]
     },
     "execution_count": 18,
     "metadata": {},
     "output_type": "execute_result"
    }
   ],
   "source": [
    "df[-100:].feature.values"
   ]
  },
  {
   "cell_type": "code",
   "execution_count": 20,
   "metadata": {
    "collapsed": false
   },
   "outputs": [
    {
     "data": {
      "text/plain": [
       "array(['pooltypeid7', 'num_rho', 'area_pool', 'cl1_longitude',\n",
       "       'num_fireplace', 'cl3_longitude', 'zon_tax_total', 'num_75_bath',\n",
       "       'num_garage', 'zon_tax_property_area', 'num_room', 'area_unknown',\n",
       "       'zon_latitude', 'zip_longitude', 'num_phi', 'zon_tax_building',\n",
       "       'type_aircon', 'zoning_landuse_county', 'type_zoning_landuse',\n",
       "       'cl1_latitude', 'neighbor_longitude', 'neighbor_latitude',\n",
       "       'cl2_longitude', 'zip_latitude', 'city_latitude', 'num_unit',\n",
       "       'cl2_latitude', 'zon_longitude', 'cl3_latitude', 'type_heating',\n",
       "       'zon_area_lot', 'city_tax_total', 'zon_num_bathroom',\n",
       "       'cl1_tax_building', 'zon_tax_building_area', 'type_quality',\n",
       "       'cl1_tax_property_area', 'neighbor_area_lot', 'city_longitude',\n",
       "       'num_story', 'neighbor_num_bathroom', 'city_tax_property',\n",
       "       'zon_tax_property', 'region_neighbor', 'city_area_total_calc',\n",
       "       'cl1_tax_building_area', 'neighbor_tax_property',\n",
       "       'zon_area_total_calc', 'city_num_bedroom', 'region_neighbor_count'], dtype=object)"
      ]
     },
     "execution_count": 20,
     "metadata": {},
     "output_type": "execute_result"
    }
   ],
   "source": [
    "df[:50].feature.values"
   ]
  },
  {
   "cell_type": "code",
   "execution_count": 21,
   "metadata": {
    "collapsed": false
   },
   "outputs": [
    {
     "data": {
      "text/plain": [
       "236"
      ]
     },
     "execution_count": 21,
     "metadata": {},
     "output_type": "execute_result"
    }
   ],
   "source": [
    "len(importance)"
   ]
  },
  {
   "cell_type": "code",
   "execution_count": 22,
   "metadata": {
    "collapsed": false
   },
   "outputs": [],
   "source": [
    "features = list(df.feature.values)"
   ]
  },
  {
   "cell_type": "code",
   "execution_count": 23,
   "metadata": {
    "collapsed": true
   },
   "outputs": [],
   "source": [
    "ff = x1.drop([\"id_parcel\", \"month\", \"logerror\"], axis=1).columns"
   ]
  },
  {
   "cell_type": "code",
   "execution_count": 24,
   "metadata": {
    "collapsed": false
   },
   "outputs": [
    {
     "name": "stdout",
     "output_type": "stream",
     "text": [
      "type_architectural\n",
      "area_basement\n",
      "num_bathroom\n",
      "num_bedroom\n",
      "type_framing\n",
      "num_bathroom_calc\n",
      "type_deck\n",
      "area_liveperi_finished\n",
      "num_bath\n",
      "pooltypeid10\n",
      "region_county\n",
      "type_story\n",
      "type_material\n",
      "area_shed\n",
      "tax_year\n",
      "num_rot75_X\n",
      "num_rot75_Y\n"
     ]
    }
   ],
   "source": [
    "dd = []\n",
    "for cc in ff:\n",
    "    if cc not in features:\n",
    "        print cc\n",
    "        dd.append(cc)"
   ]
  },
  {
   "cell_type": "code",
   "execution_count": 25,
   "metadata": {
    "collapsed": false
   },
   "outputs": [
    {
     "data": {
      "text/plain": [
       "['type_architectural',\n",
       " 'area_basement',\n",
       " 'num_bathroom',\n",
       " 'num_bedroom',\n",
       " 'type_framing',\n",
       " 'num_bathroom_calc',\n",
       " 'type_deck',\n",
       " 'area_liveperi_finished',\n",
       " 'num_bath',\n",
       " 'pooltypeid10',\n",
       " 'region_county',\n",
       " 'type_story',\n",
       " 'type_material',\n",
       " 'area_shed',\n",
       " 'tax_year',\n",
       " 'num_rot75_X',\n",
       " 'num_rot75_Y']"
      ]
     },
     "execution_count": 25,
     "metadata": {},
     "output_type": "execute_result"
    }
   ],
   "source": [
    "dd"
   ]
  },
  {
   "cell_type": "code",
   "execution_count": null,
   "metadata": {
    "collapsed": true
   },
   "outputs": [],
   "source": [
    "## drop unimportant feeatures"
   ]
  },
  {
   "cell_type": "code",
   "execution_count": 60,
   "metadata": {
    "collapsed": false
   },
   "outputs": [],
   "source": [
    "model.fit(x1.drop([\"id_parcel\", \"month\", \"logerror\"] + dd, axis=1), y1, num_boost_round= nround) # Train the model without outliers"
   ]
  },
  {
   "cell_type": "code",
   "execution_count": 61,
   "metadata": {
    "collapsed": false
   },
   "outputs": [
    {
     "name": "stdout",
     "output_type": "stream",
     "text": [
      "Error on training data  0.0439984531379\n",
      "Error on 3 months test  0.0646193197255\n"
     ]
    }
   ],
   "source": [
    "print \"Error on training data \", mean_absolute_error(y1, model.predict(x1.drop([\"id_parcel\", \"month\", \"logerror\"] + dd, axis=1)))\n",
    "print \"Error on 3 months test \", mean_absolute_error(y0, model.predict(x0.drop([\"id_parcel\", \"month\", \"logerror\"] + dd, axis=1)))"
   ]
  },
  {
   "cell_type": "code",
   "execution_count": 62,
   "metadata": {
    "collapsed": false
   },
   "outputs": [
    {
     "data": {
      "text/html": [
       "<div>\n",
       "<table border=\"1\" class=\"dataframe\">\n",
       "  <thead>\n",
       "    <tr style=\"text-align: right;\">\n",
       "      <th></th>\n",
       "      <th>feature</th>\n",
       "      <th>fscore</th>\n",
       "    </tr>\n",
       "  </thead>\n",
       "  <tbody>\n",
       "    <tr>\n",
       "      <th>231</th>\n",
       "      <td>cl1_longitude_diff</td>\n",
       "      <td>0.011497</td>\n",
       "    </tr>\n",
       "    <tr>\n",
       "      <th>232</th>\n",
       "      <td>zon_area_lot_diff</td>\n",
       "      <td>0.011904</td>\n",
       "    </tr>\n",
       "    <tr>\n",
       "      <th>233</th>\n",
       "      <td>tax_land</td>\n",
       "      <td>0.012688</td>\n",
       "    </tr>\n",
       "    <tr>\n",
       "      <th>234</th>\n",
       "      <td>area_live_finished</td>\n",
       "      <td>0.014575</td>\n",
       "    </tr>\n",
       "    <tr>\n",
       "      <th>235</th>\n",
       "      <td>zon_area_total_calc_diff</td>\n",
       "      <td>0.015881</td>\n",
       "    </tr>\n",
       "  </tbody>\n",
       "</table>\n",
       "</div>"
      ],
      "text/plain": [
       "                      feature    fscore\n",
       "231        cl1_longitude_diff  0.011497\n",
       "232         zon_area_lot_diff  0.011904\n",
       "233                  tax_land  0.012688\n",
       "234        area_live_finished  0.014575\n",
       "235  zon_area_total_calc_diff  0.015881"
      ]
     },
     "execution_count": 62,
     "metadata": {},
     "output_type": "execute_result"
    }
   ],
   "source": [
    "import operator\n",
    "importance = model.get_score()\n",
    "importance = sorted(importance.items(), key=operator.itemgetter(1))\n",
    "\n",
    "df = pd.DataFrame(importance, columns=['feature', 'fscore'])\n",
    "df['fscore'] = df['fscore'] / df['fscore'].sum()\n",
    "df.tail()"
   ]
  },
  {
   "cell_type": "code",
   "execution_count": 63,
   "metadata": {
    "collapsed": true
   },
   "outputs": [],
   "source": [
    "model.fit(x1.drop([\"id_parcel\", \"month\", \"logerror\", \"area_live_finished\"] + dd, axis=1), y1, num_boost_round= nround) # Train the model without outliers"
   ]
  },
  {
   "cell_type": "code",
   "execution_count": 64,
   "metadata": {
    "collapsed": false
   },
   "outputs": [
    {
     "name": "stdout",
     "output_type": "stream",
     "text": [
      "Error on training data  0.0440672693457\n",
      "Error on 3 months test  0.0646406205857\n"
     ]
    }
   ],
   "source": [
    "print \"Error on training data \", mean_absolute_error(y1, model.predict(x1.drop([\"id_parcel\", \"month\", \"logerror\", \"area_live_finished\"] + dd, axis=1)))\n",
    "print \"Error on 3 months test \", mean_absolute_error(y0, model.predict(x0.drop([\"id_parcel\", \"month\", \"logerror\", \"area_live_finished\"] + dd, axis=1)))"
   ]
  },
  {
   "cell_type": "code",
   "execution_count": 65,
   "metadata": {
    "collapsed": false
   },
   "outputs": [
    {
     "data": {
      "text/html": [
       "<div>\n",
       "<table border=\"1\" class=\"dataframe\">\n",
       "  <thead>\n",
       "    <tr style=\"text-align: right;\">\n",
       "      <th></th>\n",
       "      <th>feature</th>\n",
       "      <th>fscore</th>\n",
       "    </tr>\n",
       "  </thead>\n",
       "  <tbody>\n",
       "    <tr>\n",
       "      <th>229</th>\n",
       "      <td>cl2_build_year_diff</td>\n",
       "      <td>0.011288</td>\n",
       "    </tr>\n",
       "    <tr>\n",
       "      <th>230</th>\n",
       "      <td>cl1_longitude_diff</td>\n",
       "      <td>0.011768</td>\n",
       "    </tr>\n",
       "    <tr>\n",
       "      <th>231</th>\n",
       "      <td>tax_land</td>\n",
       "      <td>0.012247</td>\n",
       "    </tr>\n",
       "    <tr>\n",
       "      <th>232</th>\n",
       "      <td>zon_area_lot_diff</td>\n",
       "      <td>0.012816</td>\n",
       "    </tr>\n",
       "    <tr>\n",
       "      <th>233</th>\n",
       "      <td>zon_area_total_calc_diff</td>\n",
       "      <td>0.018774</td>\n",
       "    </tr>\n",
       "  </tbody>\n",
       "</table>\n",
       "</div>"
      ],
      "text/plain": [
       "                      feature    fscore\n",
       "229       cl2_build_year_diff  0.011288\n",
       "230        cl1_longitude_diff  0.011768\n",
       "231                  tax_land  0.012247\n",
       "232         zon_area_lot_diff  0.012816\n",
       "233  zon_area_total_calc_diff  0.018774"
      ]
     },
     "execution_count": 65,
     "metadata": {},
     "output_type": "execute_result"
    }
   ],
   "source": [
    "import operator\n",
    "importance = model.get_score()\n",
    "importance = sorted(importance.items(), key=operator.itemgetter(1))\n",
    "\n",
    "df = pd.DataFrame(importance, columns=['feature', 'fscore'])\n",
    "df['fscore'] = df['fscore'] / df['fscore'].sum()\n",
    "df.tail()"
   ]
  },
  {
   "cell_type": "code",
   "execution_count": 18,
   "metadata": {
    "collapsed": true
   },
   "outputs": [],
   "source": [
    "model.fit(x1.drop([\"id_parcel\", \"month\", \"logerror\", \"area_total_calc\"] + dd, axis=1), y1, num_boost_round= nround) # Train the model without outliers"
   ]
  },
  {
   "cell_type": "code",
   "execution_count": 19,
   "metadata": {
    "collapsed": false
   },
   "outputs": [
    {
     "name": "stdout",
     "output_type": "stream",
     "text": [
      "Error on training data  0.0439990368085\n",
      "Error on 3 months test  0.064597788293\n"
     ]
    }
   ],
   "source": [
    "print \"Error on training data \", mean_absolute_error(y1, model.predict(x1.drop([\"id_parcel\", \"month\", \"logerror\", \"area_total_calc\"] + dd, axis=1)))\n",
    "print \"Error on 3 months test \", mean_absolute_error(y0, model.predict(x0.drop([\"id_parcel\", \"month\", \"logerror\", \"area_total_calc\"] + dd, axis=1)))"
   ]
  },
  {
   "cell_type": "code",
   "execution_count": null,
   "metadata": {
    "collapsed": true
   },
   "outputs": [],
   "source": [
    "# area_total_calc can be drop"
   ]
  }
 ],
 "metadata": {
  "anaconda-cloud": {},
  "kernelspec": {
   "display_name": "Python [default]",
   "language": "python",
   "name": "python2"
  },
  "language_info": {
   "codemirror_mode": {
    "name": "ipython",
    "version": 2
   },
   "file_extension": ".py",
   "mimetype": "text/x-python",
   "name": "python",
   "nbconvert_exporter": "python",
   "pygments_lexer": "ipython2",
   "version": "2.7.12"
  }
 },
 "nbformat": 4,
 "nbformat_minor": 1
}
